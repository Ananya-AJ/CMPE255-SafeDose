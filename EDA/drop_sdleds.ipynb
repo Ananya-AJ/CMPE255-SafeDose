{
 "cells": [
  {
   "cell_type": "code",
   "execution_count": 1,
   "metadata": {},
   "outputs": [],
   "source": [
    "import pandas as pd\n",
    "import numpy as np\n",
    "import re\n",
    "\n",
    "import plotly.express as px"
   ]
  },
  {
   "cell_type": "code",
   "execution_count": 2,
   "metadata": {},
   "outputs": [
    {
     "data": {
      "text/html": [
       "<div>\n",
       "<style scoped>\n",
       "    .dataframe tbody tr th:only-of-type {\n",
       "        vertical-align: middle;\n",
       "    }\n",
       "\n",
       "    .dataframe tbody tr th {\n",
       "        vertical-align: top;\n",
       "    }\n",
       "\n",
       "    .dataframe thead th {\n",
       "        text-align: right;\n",
       "    }\n",
       "</style>\n",
       "<table border=\"1\" class=\"dataframe\">\n",
       "  <thead>\n",
       "    <tr style=\"text-align: right;\">\n",
       "      <th></th>\n",
       "      <th>CASEID</th>\n",
       "      <th>DRUGID_1</th>\n",
       "      <th>CATID_1_1</th>\n",
       "      <th>CATID_2_1</th>\n",
       "      <th>CATID_3_1</th>\n",
       "      <th>ROUTE_1</th>\n",
       "      <th>TOXTEST_1</th>\n",
       "      <th>sdled_1_1</th>\n",
       "      <th>sdled_2_1</th>\n",
       "      <th>sdled_3_1</th>\n",
       "      <th>...</th>\n",
       "      <th>QUARTER</th>\n",
       "      <th>DAYPART</th>\n",
       "      <th>NUMSUBS</th>\n",
       "      <th>CASETYPE</th>\n",
       "      <th>DISPOSITION</th>\n",
       "      <th>ALLABUSE</th>\n",
       "      <th>METRO</th>\n",
       "      <th>AGECAT</th>\n",
       "      <th>SEX</th>\n",
       "      <th>RACE</th>\n",
       "    </tr>\n",
       "  </thead>\n",
       "  <tbody>\n",
       "    <tr>\n",
       "      <th>0</th>\n",
       "      <td>1</td>\n",
       "      <td>865</td>\n",
       "      <td>105</td>\n",
       "      <td>110</td>\n",
       "      <td>2005</td>\n",
       "      <td>1</td>\n",
       "      <td>2</td>\n",
       "      <td>1</td>\n",
       "      <td>2.0</td>\n",
       "      <td>-7.00</td>\n",
       "      <td>...</td>\n",
       "      <td>4</td>\n",
       "      <td>1</td>\n",
       "      <td>2</td>\n",
       "      <td>8</td>\n",
       "      <td>6</td>\n",
       "      <td>1</td>\n",
       "      <td>2</td>\n",
       "      <td>4</td>\n",
       "      <td>1</td>\n",
       "      <td>2</td>\n",
       "    </tr>\n",
       "    <tr>\n",
       "      <th>1</th>\n",
       "      <td>2</td>\n",
       "      <td>2077</td>\n",
       "      <td>81</td>\n",
       "      <td>82</td>\n",
       "      <td>283</td>\n",
       "      <td>-8</td>\n",
       "      <td>2</td>\n",
       "      <td>17</td>\n",
       "      <td>67.0</td>\n",
       "      <td>67.01</td>\n",
       "      <td>...</td>\n",
       "      <td>3</td>\n",
       "      <td>4</td>\n",
       "      <td>1</td>\n",
       "      <td>4</td>\n",
       "      <td>7</td>\n",
       "      <td>0</td>\n",
       "      <td>2</td>\n",
       "      <td>11</td>\n",
       "      <td>1</td>\n",
       "      <td>3</td>\n",
       "    </tr>\n",
       "    <tr>\n",
       "      <th>2</th>\n",
       "      <td>3</td>\n",
       "      <td>2313</td>\n",
       "      <td>1</td>\n",
       "      <td>12</td>\n",
       "      <td>-7</td>\n",
       "      <td>-8</td>\n",
       "      <td>2</td>\n",
       "      <td>17</td>\n",
       "      <td>64.0</td>\n",
       "      <td>64.99</td>\n",
       "      <td>...</td>\n",
       "      <td>4</td>\n",
       "      <td>3</td>\n",
       "      <td>1</td>\n",
       "      <td>4</td>\n",
       "      <td>1</td>\n",
       "      <td>0</td>\n",
       "      <td>7</td>\n",
       "      <td>11</td>\n",
       "      <td>2</td>\n",
       "      <td>2</td>\n",
       "    </tr>\n",
       "    <tr>\n",
       "      <th>3</th>\n",
       "      <td>4</td>\n",
       "      <td>234</td>\n",
       "      <td>358</td>\n",
       "      <td>99</td>\n",
       "      <td>215</td>\n",
       "      <td>2</td>\n",
       "      <td>2</td>\n",
       "      <td>17</td>\n",
       "      <td>73.0</td>\n",
       "      <td>73.01</td>\n",
       "      <td>...</td>\n",
       "      <td>2</td>\n",
       "      <td>2</td>\n",
       "      <td>1</td>\n",
       "      <td>4</td>\n",
       "      <td>7</td>\n",
       "      <td>0</td>\n",
       "      <td>10</td>\n",
       "      <td>2</td>\n",
       "      <td>1</td>\n",
       "      <td>3</td>\n",
       "    </tr>\n",
       "    <tr>\n",
       "      <th>4</th>\n",
       "      <td>5</td>\n",
       "      <td>865</td>\n",
       "      <td>105</td>\n",
       "      <td>110</td>\n",
       "      <td>2005</td>\n",
       "      <td>1</td>\n",
       "      <td>2</td>\n",
       "      <td>1</td>\n",
       "      <td>2.0</td>\n",
       "      <td>-7.00</td>\n",
       "      <td>...</td>\n",
       "      <td>3</td>\n",
       "      <td>4</td>\n",
       "      <td>3</td>\n",
       "      <td>8</td>\n",
       "      <td>8</td>\n",
       "      <td>1</td>\n",
       "      <td>1</td>\n",
       "      <td>6</td>\n",
       "      <td>1</td>\n",
       "      <td>3</td>\n",
       "    </tr>\n",
       "  </tbody>\n",
       "</table>\n",
       "<p>5 rows × 53 columns</p>\n",
       "</div>"
      ],
      "text/plain": [
       "   CASEID  DRUGID_1  CATID_1_1  CATID_2_1  CATID_3_1  ROUTE_1  TOXTEST_1  \\\n",
       "0       1       865        105        110       2005        1          2   \n",
       "1       2      2077         81         82        283       -8          2   \n",
       "2       3      2313          1         12         -7       -8          2   \n",
       "3       4       234        358         99        215        2          2   \n",
       "4       5       865        105        110       2005        1          2   \n",
       "\n",
       "   sdled_1_1  sdled_2_1  sdled_3_1  ...  QUARTER  DAYPART  NUMSUBS  CASETYPE  \\\n",
       "0          1        2.0      -7.00  ...        4        1        2         8   \n",
       "1         17       67.0      67.01  ...        3        4        1         4   \n",
       "2         17       64.0      64.99  ...        4        3        1         4   \n",
       "3         17       73.0      73.01  ...        2        2        1         4   \n",
       "4          1        2.0      -7.00  ...        3        4        3         8   \n",
       "\n",
       "   DISPOSITION  ALLABUSE  METRO  AGECAT  SEX  RACE  \n",
       "0            6         1      2       4    1     2  \n",
       "1            7         0      2      11    1     3  \n",
       "2            1         0      7      11    2     2  \n",
       "3            7         0     10       2    1     3  \n",
       "4            8         1      1       6    1     3  \n",
       "\n",
       "[5 rows x 53 columns]"
      ]
     },
     "execution_count": 2,
     "metadata": {},
     "output_type": "execute_result"
    }
   ],
   "source": [
    "df_raw = pd.read_csv('../Data/drug_data.csv', index_col=0)\n",
    "df_raw.head()"
   ]
  },
  {
   "cell_type": "code",
   "execution_count": 4,
   "metadata": {},
   "outputs": [
    {
     "data": {
      "text/html": [
       "<div>\n",
       "<style scoped>\n",
       "    .dataframe tbody tr th:only-of-type {\n",
       "        vertical-align: middle;\n",
       "    }\n",
       "\n",
       "    .dataframe tbody tr th {\n",
       "        vertical-align: top;\n",
       "    }\n",
       "\n",
       "    .dataframe thead th {\n",
       "        text-align: right;\n",
       "    }\n",
       "</style>\n",
       "<table border=\"1\" class=\"dataframe\">\n",
       "  <thead>\n",
       "    <tr style=\"text-align: right;\">\n",
       "      <th></th>\n",
       "      <th>CASEID</th>\n",
       "      <th>DRUGID_1</th>\n",
       "      <th>CATID_1_1</th>\n",
       "      <th>CATID_2_1</th>\n",
       "      <th>CATID_3_1</th>\n",
       "      <th>ROUTE_1</th>\n",
       "      <th>TOXTEST_1</th>\n",
       "      <th>sdled_1_1</th>\n",
       "      <th>sdled_2_1</th>\n",
       "      <th>sdled_3_1</th>\n",
       "      <th>...</th>\n",
       "      <th>QUARTER</th>\n",
       "      <th>DAYPART</th>\n",
       "      <th>NUMSUBS</th>\n",
       "      <th>CASETYPE</th>\n",
       "      <th>DISPOSITION</th>\n",
       "      <th>ALLABUSE</th>\n",
       "      <th>METRO</th>\n",
       "      <th>AGECAT</th>\n",
       "      <th>SEX</th>\n",
       "      <th>RACE</th>\n",
       "    </tr>\n",
       "  </thead>\n",
       "  <tbody>\n",
       "    <tr>\n",
       "      <th>0</th>\n",
       "      <td>1</td>\n",
       "      <td>865</td>\n",
       "      <td>105</td>\n",
       "      <td>110</td>\n",
       "      <td>2005</td>\n",
       "      <td>1</td>\n",
       "      <td>2</td>\n",
       "      <td>1</td>\n",
       "      <td>2.0</td>\n",
       "      <td>-7.0</td>\n",
       "      <td>...</td>\n",
       "      <td>4</td>\n",
       "      <td>1</td>\n",
       "      <td>2</td>\n",
       "      <td>8</td>\n",
       "      <td>6</td>\n",
       "      <td>1</td>\n",
       "      <td>2</td>\n",
       "      <td>4</td>\n",
       "      <td>1</td>\n",
       "      <td>2</td>\n",
       "    </tr>\n",
       "    <tr>\n",
       "      <th>6</th>\n",
       "      <td>7</td>\n",
       "      <td>1255</td>\n",
       "      <td>105</td>\n",
       "      <td>114</td>\n",
       "      <td>2032</td>\n",
       "      <td>4</td>\n",
       "      <td>2</td>\n",
       "      <td>1</td>\n",
       "      <td>2.5</td>\n",
       "      <td>5.0</td>\n",
       "      <td>...</td>\n",
       "      <td>1</td>\n",
       "      <td>1</td>\n",
       "      <td>1</td>\n",
       "      <td>8</td>\n",
       "      <td>1</td>\n",
       "      <td>1</td>\n",
       "      <td>2</td>\n",
       "      <td>5</td>\n",
       "      <td>2</td>\n",
       "      <td>3</td>\n",
       "    </tr>\n",
       "    <tr>\n",
       "      <th>11</th>\n",
       "      <td>12</td>\n",
       "      <td>1254</td>\n",
       "      <td>105</td>\n",
       "      <td>114</td>\n",
       "      <td>2032</td>\n",
       "      <td>-8</td>\n",
       "      <td>1</td>\n",
       "      <td>1</td>\n",
       "      <td>2.5</td>\n",
       "      <td>3.0</td>\n",
       "      <td>...</td>\n",
       "      <td>4</td>\n",
       "      <td>4</td>\n",
       "      <td>2</td>\n",
       "      <td>8</td>\n",
       "      <td>2</td>\n",
       "      <td>1</td>\n",
       "      <td>1</td>\n",
       "      <td>9</td>\n",
       "      <td>1</td>\n",
       "      <td>-8</td>\n",
       "    </tr>\n",
       "    <tr>\n",
       "      <th>20</th>\n",
       "      <td>21</td>\n",
       "      <td>505</td>\n",
       "      <td>57</td>\n",
       "      <td>71</td>\n",
       "      <td>-7</td>\n",
       "      <td>-8</td>\n",
       "      <td>1</td>\n",
       "      <td>1</td>\n",
       "      <td>2.5</td>\n",
       "      <td>5.5</td>\n",
       "      <td>...</td>\n",
       "      <td>3</td>\n",
       "      <td>3</td>\n",
       "      <td>3</td>\n",
       "      <td>8</td>\n",
       "      <td>1</td>\n",
       "      <td>1</td>\n",
       "      <td>13</td>\n",
       "      <td>5</td>\n",
       "      <td>2</td>\n",
       "      <td>1</td>\n",
       "    </tr>\n",
       "    <tr>\n",
       "      <th>32</th>\n",
       "      <td>34</td>\n",
       "      <td>1255</td>\n",
       "      <td>105</td>\n",
       "      <td>114</td>\n",
       "      <td>2032</td>\n",
       "      <td>4</td>\n",
       "      <td>2</td>\n",
       "      <td>1</td>\n",
       "      <td>2.5</td>\n",
       "      <td>5.0</td>\n",
       "      <td>...</td>\n",
       "      <td>4</td>\n",
       "      <td>4</td>\n",
       "      <td>3</td>\n",
       "      <td>8</td>\n",
       "      <td>6</td>\n",
       "      <td>1</td>\n",
       "      <td>14</td>\n",
       "      <td>5</td>\n",
       "      <td>1</td>\n",
       "      <td>1</td>\n",
       "    </tr>\n",
       "    <tr>\n",
       "      <th>...</th>\n",
       "      <td>...</td>\n",
       "      <td>...</td>\n",
       "      <td>...</td>\n",
       "      <td>...</td>\n",
       "      <td>...</td>\n",
       "      <td>...</td>\n",
       "      <td>...</td>\n",
       "      <td>...</td>\n",
       "      <td>...</td>\n",
       "      <td>...</td>\n",
       "      <td>...</td>\n",
       "      <td>...</td>\n",
       "      <td>...</td>\n",
       "      <td>...</td>\n",
       "      <td>...</td>\n",
       "      <td>...</td>\n",
       "      <td>...</td>\n",
       "      <td>...</td>\n",
       "      <td>...</td>\n",
       "      <td>...</td>\n",
       "      <td>...</td>\n",
       "    </tr>\n",
       "    <tr>\n",
       "      <th>218895</th>\n",
       "      <td>229155</td>\n",
       "      <td>1254</td>\n",
       "      <td>105</td>\n",
       "      <td>114</td>\n",
       "      <td>2032</td>\n",
       "      <td>-8</td>\n",
       "      <td>2</td>\n",
       "      <td>1</td>\n",
       "      <td>2.5</td>\n",
       "      <td>3.0</td>\n",
       "      <td>...</td>\n",
       "      <td>3</td>\n",
       "      <td>3</td>\n",
       "      <td>2</td>\n",
       "      <td>8</td>\n",
       "      <td>6</td>\n",
       "      <td>1</td>\n",
       "      <td>2</td>\n",
       "      <td>6</td>\n",
       "      <td>1</td>\n",
       "      <td>2</td>\n",
       "    </tr>\n",
       "    <tr>\n",
       "      <th>218908</th>\n",
       "      <td>229169</td>\n",
       "      <td>865</td>\n",
       "      <td>105</td>\n",
       "      <td>110</td>\n",
       "      <td>2005</td>\n",
       "      <td>1</td>\n",
       "      <td>2</td>\n",
       "      <td>1</td>\n",
       "      <td>2.0</td>\n",
       "      <td>-7.0</td>\n",
       "      <td>...</td>\n",
       "      <td>2</td>\n",
       "      <td>3</td>\n",
       "      <td>2</td>\n",
       "      <td>8</td>\n",
       "      <td>1</td>\n",
       "      <td>1</td>\n",
       "      <td>4</td>\n",
       "      <td>9</td>\n",
       "      <td>1</td>\n",
       "      <td>-8</td>\n",
       "    </tr>\n",
       "    <tr>\n",
       "      <th>218920</th>\n",
       "      <td>229182</td>\n",
       "      <td>1255</td>\n",
       "      <td>105</td>\n",
       "      <td>114</td>\n",
       "      <td>2032</td>\n",
       "      <td>4</td>\n",
       "      <td>2</td>\n",
       "      <td>1</td>\n",
       "      <td>2.5</td>\n",
       "      <td>5.0</td>\n",
       "      <td>...</td>\n",
       "      <td>1</td>\n",
       "      <td>4</td>\n",
       "      <td>1</td>\n",
       "      <td>8</td>\n",
       "      <td>8</td>\n",
       "      <td>1</td>\n",
       "      <td>3</td>\n",
       "      <td>6</td>\n",
       "      <td>1</td>\n",
       "      <td>3</td>\n",
       "    </tr>\n",
       "    <tr>\n",
       "      <th>218925</th>\n",
       "      <td>229187</td>\n",
       "      <td>865</td>\n",
       "      <td>105</td>\n",
       "      <td>110</td>\n",
       "      <td>2005</td>\n",
       "      <td>-8</td>\n",
       "      <td>2</td>\n",
       "      <td>1</td>\n",
       "      <td>2.0</td>\n",
       "      <td>-7.0</td>\n",
       "      <td>...</td>\n",
       "      <td>1</td>\n",
       "      <td>2</td>\n",
       "      <td>2</td>\n",
       "      <td>8</td>\n",
       "      <td>6</td>\n",
       "      <td>1</td>\n",
       "      <td>9</td>\n",
       "      <td>9</td>\n",
       "      <td>1</td>\n",
       "      <td>1</td>\n",
       "    </tr>\n",
       "    <tr>\n",
       "      <th>218926</th>\n",
       "      <td>229188</td>\n",
       "      <td>1255</td>\n",
       "      <td>105</td>\n",
       "      <td>114</td>\n",
       "      <td>2032</td>\n",
       "      <td>-8</td>\n",
       "      <td>1</td>\n",
       "      <td>1</td>\n",
       "      <td>2.5</td>\n",
       "      <td>5.0</td>\n",
       "      <td>...</td>\n",
       "      <td>4</td>\n",
       "      <td>4</td>\n",
       "      <td>1</td>\n",
       "      <td>8</td>\n",
       "      <td>6</td>\n",
       "      <td>1</td>\n",
       "      <td>4</td>\n",
       "      <td>5</td>\n",
       "      <td>1</td>\n",
       "      <td>1</td>\n",
       "    </tr>\n",
       "  </tbody>\n",
       "</table>\n",
       "<p>25156 rows × 53 columns</p>\n",
       "</div>"
      ],
      "text/plain": [
       "        CASEID  DRUGID_1  CATID_1_1  CATID_2_1  CATID_3_1  ROUTE_1  TOXTEST_1  \\\n",
       "0            1       865        105        110       2005        1          2   \n",
       "6            7      1255        105        114       2032        4          2   \n",
       "11          12      1254        105        114       2032       -8          1   \n",
       "20          21       505         57         71         -7       -8          1   \n",
       "32          34      1255        105        114       2032        4          2   \n",
       "...        ...       ...        ...        ...        ...      ...        ...   \n",
       "218895  229155      1254        105        114       2032       -8          2   \n",
       "218908  229169       865        105        110       2005        1          2   \n",
       "218920  229182      1255        105        114       2032        4          2   \n",
       "218925  229187       865        105        110       2005       -8          2   \n",
       "218926  229188      1255        105        114       2032       -8          1   \n",
       "\n",
       "        sdled_1_1  sdled_2_1  sdled_3_1  ...  QUARTER  DAYPART  NUMSUBS  \\\n",
       "0               1        2.0       -7.0  ...        4        1        2   \n",
       "6               1        2.5        5.0  ...        1        1        1   \n",
       "11              1        2.5        3.0  ...        4        4        2   \n",
       "20              1        2.5        5.5  ...        3        3        3   \n",
       "32              1        2.5        5.0  ...        4        4        3   \n",
       "...           ...        ...        ...  ...      ...      ...      ...   \n",
       "218895          1        2.5        3.0  ...        3        3        2   \n",
       "218908          1        2.0       -7.0  ...        2        3        2   \n",
       "218920          1        2.5        5.0  ...        1        4        1   \n",
       "218925          1        2.0       -7.0  ...        1        2        2   \n",
       "218926          1        2.5        5.0  ...        4        4        1   \n",
       "\n",
       "        CASETYPE  DISPOSITION  ALLABUSE  METRO  AGECAT  SEX  RACE  \n",
       "0              8            6         1      2       4    1     2  \n",
       "6              8            1         1      2       5    2     3  \n",
       "11             8            2         1      1       9    1    -8  \n",
       "20             8            1         1     13       5    2     1  \n",
       "32             8            6         1     14       5    1     1  \n",
       "...          ...          ...       ...    ...     ...  ...   ...  \n",
       "218895         8            6         1      2       6    1     2  \n",
       "218908         8            1         1      4       9    1    -8  \n",
       "218920         8            8         1      3       6    1     3  \n",
       "218925         8            6         1      9       9    1     1  \n",
       "218926         8            6         1      4       5    1     1  \n",
       "\n",
       "[25156 rows x 53 columns]"
      ]
     },
     "execution_count": 4,
     "metadata": {},
     "output_type": "execute_result"
    }
   ],
   "source": [
    "df_raw[df_raw.eq(1255).any(axis=1)]"
   ]
  },
  {
   "cell_type": "markdown",
   "metadata": {},
   "source": [
    "Find sdleds to drop"
   ]
  },
  {
   "cell_type": "code",
   "execution_count": 5,
   "metadata": {},
   "outputs": [
    {
     "data": {
      "text/plain": [
       "['sdled_1_1',\n",
       " 'sdled_2_1',\n",
       " 'sdled_3_1',\n",
       " 'sdled_4_1',\n",
       " 'sdled_5_1',\n",
       " 'sdled_6_1',\n",
       " 'sdled_1_2',\n",
       " 'sdled_2_2',\n",
       " 'sdled_3_2',\n",
       " 'sdled_4_2',\n",
       " 'sdled_5_2',\n",
       " 'sdled_6_2',\n",
       " 'sdled_1_3',\n",
       " 'sdled_2_3',\n",
       " 'sdled_3_3',\n",
       " 'sdled_4_3',\n",
       " 'sdled_5_3',\n",
       " 'sdled_6_3']"
      ]
     },
     "execution_count": 5,
     "metadata": {},
     "output_type": "execute_result"
    }
   ],
   "source": [
    "sdled_cols = [column for column in df_raw.columns if column.startswith('sdled')]\n",
    "sdled_cols"
   ]
  },
  {
   "cell_type": "code",
   "execution_count": 6,
   "metadata": {},
   "outputs": [
    {
     "data": {
      "text/plain": [
       "sdled_1_1     0.000000\n",
       "sdled_2_1     0.000000\n",
       "sdled_3_1    22.422471\n",
       "sdled_4_1    48.588262\n",
       "sdled_5_1    74.691025\n",
       "sdled_6_1    92.030601\n",
       "sdled_1_2    67.200274\n",
       "sdled_2_2    67.200274\n",
       "sdled_3_2    69.005252\n",
       "sdled_4_2    79.985842\n",
       "sdled_5_2    88.550811\n",
       "sdled_6_2    96.789221\n",
       "sdled_1_3    92.133821\n",
       "sdled_2_3    92.133821\n",
       "sdled_3_3    92.504681\n",
       "sdled_4_3    94.554921\n",
       "sdled_5_3    96.680977\n",
       "sdled_6_3    99.153231\n",
       "dtype: float64"
      ]
     },
     "execution_count": 6,
     "metadata": {},
     "output_type": "execute_result"
    }
   ],
   "source": [
    "def pct_na(col):\n",
    "    freq = col.value_counts()\n",
    "    if -7 in freq.index:\n",
    "        return (freq[-7] / df_raw.shape[0]) * 100\n",
    "    else:\n",
    "        return 0\n",
    "\n",
    "df_sdled_na_pct = df_raw[sdled_cols].apply(lambda x: pct_na(x), axis=0)\n",
    "df_sdled_na_pct"
   ]
  },
  {
   "cell_type": "code",
   "execution_count": 7,
   "metadata": {},
   "outputs": [],
   "source": [
    "sdleds_todrop = [col for col in sdled_cols if re.match(r'^sdled_[5-6]', col)]"
   ]
  },
  {
   "cell_type": "code",
   "execution_count": 8,
   "metadata": {},
   "outputs": [
    {
     "data": {
      "text/plain": [
       "Index(['CASEID', 'DRUGID_1', 'CATID_1_1', 'CATID_2_1', 'CATID_3_1', 'ROUTE_1',\n",
       "       'TOXTEST_1', 'sdled_1_1', 'sdled_2_1', 'sdled_3_1', 'sdled_4_1',\n",
       "       'DRUGID_2', 'CATID_1_2', 'CATID_2_2', 'CATID_3_2', 'ROUTE_2',\n",
       "       'TOXTEST_2', 'sdled_1_2', 'sdled_2_2', 'sdled_3_2', 'sdled_4_2',\n",
       "       'DRUGID_3', 'CATID_1_3', 'CATID_2_3', 'CATID_3_3', 'ROUTE_3',\n",
       "       'TOXTEST_3', 'sdled_1_3', 'sdled_2_3', 'sdled_3_3', 'sdled_4_3',\n",
       "       'ALCOHOL', 'NONALCILL', 'PHARMA', 'NONMEDPHARMA', 'CASEWGT', 'YEAR',\n",
       "       'QUARTER', 'DAYPART', 'NUMSUBS', 'CASETYPE', 'DISPOSITION', 'ALLABUSE',\n",
       "       'METRO', 'AGECAT', 'SEX', 'RACE'],\n",
       "      dtype='object')"
      ]
     },
     "execution_count": 8,
     "metadata": {},
     "output_type": "execute_result"
    }
   ],
   "source": [
    "df_new = df_raw.drop(columns = sdleds_todrop)\n",
    "df_new.columns"
   ]
  },
  {
   "cell_type": "markdown",
   "metadata": {},
   "source": [
    "Find catid's to drop"
   ]
  },
  {
   "cell_type": "code",
   "execution_count": 37,
   "metadata": {},
   "outputs": [
    {
     "data": {
      "text/plain": [
       "['CATID_1_1',\n",
       " 'CATID_2_1',\n",
       " 'CATID_3_1',\n",
       " 'CATID_1_2',\n",
       " 'CATID_2_2',\n",
       " 'CATID_3_2',\n",
       " 'CATID_1_3',\n",
       " 'CATID_2_3',\n",
       " 'CATID_3_3']"
      ]
     },
     "execution_count": 37,
     "metadata": {},
     "output_type": "execute_result"
    }
   ],
   "source": [
    "catid_cols = [column for column in df_raw.columns if column.startswith('CATID')]\n",
    "catid_cols"
   ]
  },
  {
   "cell_type": "code",
   "execution_count": 41,
   "metadata": {},
   "outputs": [
    {
     "data": {
      "text/plain": [
       "CATID_1_1     0.000000\n",
       "CATID_2_1     3.730532\n",
       "CATID_3_1    21.995433\n",
       "CATID_1_2    67.200274\n",
       "CATID_2_2    68.936744\n",
       "CATID_3_2    72.807034\n",
       "CATID_1_3    92.133821\n",
       "CATID_2_3    92.481845\n",
       "CATID_3_3    93.461064\n",
       "dtype: float64"
      ]
     },
     "execution_count": 41,
     "metadata": {},
     "output_type": "execute_result"
    }
   ],
   "source": [
    "def pct_na(col):\n",
    "    freq = col.value_counts()\n",
    "    if -7 in freq.index:\n",
    "        return (freq[-7] / df_raw.shape[0]) * 100\n",
    "    else:\n",
    "        return 0\n",
    "\n",
    "df_catid_na_pct = df_raw[catid_cols].apply(lambda x: pct_na(x), axis=0)\n",
    "df_catid_na_pct"
   ]
  },
  {
   "cell_type": "markdown",
   "metadata": {},
   "source": [
    "Value maps for Top drugs in DRUGID 1, 2, and 3"
   ]
  },
  {
   "cell_type": "code",
   "execution_count": 32,
   "metadata": {},
   "outputs": [],
   "source": [
    "top_drugids = {\n",
    "    'DRUGID_1': [1255, 1254, 1253, 865, 2420, 21],\n",
    "    'DRUGID_2': [1255, 1254],\n",
    "    'DRUGID_3': [1255, 1254]\n",
    "}"
   ]
  },
  {
   "cell_type": "code",
   "execution_count": 33,
   "metadata": {},
   "outputs": [],
   "source": [
    "def find_related_list(drugid_col: str, drugids: list):\n",
    "    drugid_map = {}\n",
    "    for drugid in drugids:\n",
    "        df_1 = df_new[df_new[drugid_col]==drugid]\n",
    "        related_cols = [col for col in df_new.columns if (\n",
    "            col.startswith(('CATID', 'sdled')) and col.endswith('_1'))]\n",
    "        col_dict = {}\n",
    "        for col in related_cols:\n",
    "            col_dict[col] = df_1[col].unique()\n",
    "        drugid_map[drugid] = col_dict\n",
    "    \n",
    "    return drugid_map"
   ]
  },
  {
   "cell_type": "code",
   "execution_count": 37,
   "metadata": {},
   "outputs": [],
   "source": [
    "final_dict = {}\n",
    "for did in top_drugids.keys():\n",
    "    map_name = f'{did}_map'\n",
    "    final_dict[map_name] = find_related_list(drugid_col=did, drugids=top_drugids[did])"
   ]
  },
  {
   "cell_type": "code",
   "execution_count": 38,
   "metadata": {},
   "outputs": [
    {
     "data": {
      "text/plain": [
       "{'DRUGID_1_map': {1255: {'CATID_1_1': array([105]),\n",
       "   'CATID_2_1': array([114]),\n",
       "   'CATID_3_1': array([2032]),\n",
       "   'sdled_1_1': array([1]),\n",
       "   'sdled_2_1': array([2.5]),\n",
       "   'sdled_3_1': array([5.]),\n",
       "   'sdled_4_1': array([5.01])},\n",
       "  1254: {'CATID_1_1': array([105]),\n",
       "   'CATID_2_1': array([114]),\n",
       "   'CATID_3_1': array([2032]),\n",
       "   'sdled_1_1': array([1]),\n",
       "   'sdled_2_1': array([2.5]),\n",
       "   'sdled_3_1': array([3.]),\n",
       "   'sdled_4_1': array([-7.])},\n",
       "  1253: {'CATID_1_1': array([105]),\n",
       "   'CATID_2_1': array([114]),\n",
       "   'CATID_3_1': array([2032]),\n",
       "   'sdled_1_1': array([1]),\n",
       "   'sdled_2_1': array([2.5]),\n",
       "   'sdled_3_1': array([4.]),\n",
       "   'sdled_4_1': array([-7.])},\n",
       "  865: {'CATID_1_1': array([105]),\n",
       "   'CATID_2_1': array([110]),\n",
       "   'CATID_3_1': array([2005]),\n",
       "   'sdled_1_1': array([1]),\n",
       "   'sdled_2_1': array([2.]),\n",
       "   'sdled_3_1': array([-7.]),\n",
       "   'sdled_4_1': array([-7.])},\n",
       "  2420: {'CATID_1_1': array([2006]),\n",
       "   'CATID_2_1': array([-7]),\n",
       "   'CATID_3_1': array([-7]),\n",
       "   'sdled_1_1': array([17]),\n",
       "   'sdled_2_1': array([79.]),\n",
       "   'sdled_3_1': array([-7.]),\n",
       "   'sdled_4_1': array([-7.])},\n",
       "  21: {'CATID_1_1': array([81]),\n",
       "   'CATID_2_1': array([82]),\n",
       "   'CATID_3_1': array([262]),\n",
       "   'sdled_1_1': array([17]),\n",
       "   'sdled_2_1': array([67.]),\n",
       "   'sdled_3_1': array([67.01]),\n",
       "   'sdled_4_1': array([67.011])}},\n",
       " 'DRUGID_2_map': {1255: {'CATID_1_1': array([ 105,   57, 2006,  122,  358,  242,  218, 2041,   97,  133,    1,\n",
       "            40,  115,   87,   81,   20]),\n",
       "   'CATID_2_1': array([ 110,  114,   71,   67,   64,   58,   73,   65,   -7,  132,   99,\n",
       "           251,  249,  220, 2042,   66,   98,  128,  123,  124,  101,  320,\n",
       "           136,  253,  240,   55,   49,   42,  120,   95,  119,   47,  219,\n",
       "            54,   96,    2,   16,  125,  127,  118,   44,   12,   82,  378,\n",
       "            72,  247,  433,   25,  129,    5]),\n",
       "   'CATID_3_1': array([2005, 2032,   -7,   69,  347, 2047, 2031,  178,  197,  215,   68,\n",
       "           341,  208, 2034,  308,  348, 2043,   61,  276,   70,  350, 2049,\n",
       "           301,   77,  195,  307, 2033,  209,  182,  306,  140,  156,  214,\n",
       "           311, 2048,  275, 2050,  345, 2045,  210,  180,  262,  139,   76,\n",
       "           205,  246,  245, 2044,  199,  328]),\n",
       "   'sdled_1_1': array([ 1, 17]),\n",
       "   'sdled_2_1': array([ 2. ,  2.5, 33. , 79. , 50. , 73. , 18. , 63. , 70. , 74. , 78. ,\n",
       "          64. , 57. , 75. , 68. , 67. , 65. ]),\n",
       "   'sdled_3_1': array([-7.  ,  3.  ,  5.5 ,  4.  , 46.3 , 44.  , 34.  ,  8.  , 12.  ,\n",
       "          11.  , 48.  , 45.  , 55.  , 73.01, 24.  ,  5.  , 10.  , 46.5 ,\n",
       "          19.  , 63.1 , 15.  , 46.  , 70.02, 54.  , 51.  , 56.  , 16.  ,\n",
       "          70.2 , 74.17, 78.03, 43.  , 64.13, 62.  , 61.  , 75.05, 68.11,\n",
       "          75.06, 59.  , 63.2 , 68.13, 64.01, 64.18, 52.  ,  8.1 , 53.  ,\n",
       "          75.04, 58.  , 64.99, 67.01, 46.7 ,  9.  , 78.05, 65.99, 64.05,\n",
       "          74.19]),\n",
       "   'sdled_4_1': array([-7.    ,  7.    , 46.32  , 44.07  , 36.5   ,  6.    , 48.03  ,\n",
       "          45.02  , 73.0106, 46.31  , 25.    ,  5.02  , 46.509 , 46.503 ,\n",
       "          21.    , 46.501 , 20.7   , 44.14  , 39.    , 46.02  , 46.33  ,\n",
       "          44.12  , 41.5   , 70.022 , 27.    , 56.02  , 45.01  , 21.5   ,\n",
       "          22.    , 70.202 , 20.4   , 78.0399, 43.09  , 62.09  , 61.04  ,\n",
       "          73.0108, 62.04  , 44.05  , 46.505 , 40.5   , 59.02  , 42.5   ,\n",
       "          44.06  , 43.02  , 62.15  , 43.01  , 26.    , 52.01  , 58.01  ,\n",
       "          67.011 , 78.0302, 23.    , 46.01  , 78.051 , 78.054 , 62.1   ,\n",
       "          44.09  , 56.06  , 64.051 ])},\n",
       "  1254: {'CATID_1_1': array([ 105,   57,  122,  242, 2006,   81,  358,   40,  133,  218,  115,\n",
       "          2041,  113,  254,   20,   97,    1]),\n",
       "   'CATID_2_1': array([ 110,  114,   58,  132,   71,   67,  249,   -7,  251,   82,   99,\n",
       "            44,   55,  135,   73,  220,   42,   56,   64,  116, 2042,  263,\n",
       "            54,  125,  219,  437,  136,   19,   25,  101,   48,   12,   16,\n",
       "            65,  124]),\n",
       "   'CATID_3_1': array([2005, 2032, 2047,   -7,   69,  208,  341,  306, 2049,   77,  261,\n",
       "           215, 2048,   70,  307, 2033,   68,   61, 2031,  178,   76,  262,\n",
       "           209,  347,  199,  308, 2043,  345, 2050,  180,  348,   38,  139,\n",
       "           210,  173,  137,  187,  311,  197, 2045]),\n",
       "   'sdled_1_1': array([ 1, 17]),\n",
       "   'sdled_2_1': array([ 2. ,  2.5, 33. , 50. , 18. , 79. , 67. , 73. , 57. , 78. , 63. ,\n",
       "          75. , 69. , 71. , 65. , 70. , 64. ]),\n",
       "   'sdled_3_1': array([-7.  ,  5.  ,  4.  , 11.  , 34.  , 55.  ,  5.5 , 46.3 ,  8.  ,\n",
       "          19.  , 24.  , 46.5 , 67.01, 73.01, 58.  , 62.  , 16.  , 10.  ,\n",
       "          78.02, 12.  , 48.  , 63.1 , 44.  , 75.02, 15.  , 69.01, 52.  ,\n",
       "          63.2 , 71.02, 78.03,  8.1 , 73.03, 65.99, 70.2 , 60.  , 64.99,\n",
       "          64.18, 45.  , 56.  ]),\n",
       "   'sdled_4_1': array([-7.    ,  5.01  , 36.5   ,  7.    , 46.32  ,  6.    , 21.    ,\n",
       "           5.02  , 25.    , 20.4   , 46.504 , 41.5   , 27.    , 67.013 ,\n",
       "          73.0106, 40.5   , 46.33  , 58.01  , 62.09  , 21.5   , 46.31  ,\n",
       "          39.    , 46.509 , 48.03  , 62.04  , 23.    , 67.011 , 22.    ,\n",
       "          62.05  , 44.07  , 44.09  , 20.7   , 44.06  , 42.5   , 46.505 ,\n",
       "          62.15  , 46.501 , 52.01  , 44.14  , 71.027 , 78.0302, 26.    ,\n",
       "          73.035 , 78.0306, 70.209 , 44.05  , 46.503 , 45.02  , 56.02  ])}},\n",
       " 'DRUGID_3_map': {1255: {'CATID_1_1': array([ 105,   57,  122,  242,  218,    1,  115,   40,  133,  365,  358,\n",
       "          2041]),\n",
       "   'CATID_2_1': array([ 110,  114,   67,   58,   71,   73,  132,  249,  251,  220,    2,\n",
       "            64,   11,  124,  117,   43,  136,   -7,   55,   13,   99,    7,\n",
       "            48, 2042]),\n",
       "   'CATID_3_1': array([2005, 2032,   69, 2047,   -7,  178, 2050,  306,   68,  341,   61,\n",
       "          2031,   70,  347,  308,  208, 2049,  304, 2033, 2048,  139,  350,\n",
       "           225,  215,  209,  327,   77, 2043]),\n",
       "   'sdled_1_1': array([ 1, 17]),\n",
       "   'sdled_2_1': array([ 2. ,  2.5, 33. , 50. , 18. , 63. , 64. , 75. , 57. , 78. , 73. ]),\n",
       "   'sdled_3_1': array([-7.  ,  4.  , 46.3 , 34.  ,  5.5 ,  3.  , 48.  ,  8.  , 55.  ,\n",
       "          19.  , 24.  , 11.  , 10.  , 46.5 , 12.  , 63.1 , 64.01, 44.  ,\n",
       "           5.  , 64.14,  8.1 , 16.  , 56.  , 75.03, 62.  , 78.03, 15.  ,\n",
       "          64.15, 73.01, 64.07, 60.  ]),\n",
       "   'sdled_4_1': array([-7.    , 46.32  , 36.5   ,  6.    ,  7.    , 48.03  , 42.5   ,\n",
       "          20.4   , 46.31  , 25.    , 39.    , 46.501 , 46.33  , 44.07  ,\n",
       "           5.02  , 20.7   , 46.505 , 21.    , 41.5   , 46.509 , 64.142 ,\n",
       "          40.5   , 56.02  , 62.06  , 78.0302, 62.09  , 44.12  , 64.153 ,\n",
       "          73.0106, 46.503 , 22.    , 64.0703, 27.    ])},\n",
       "  1254: {'CATID_1_1': array([105,  57, 242,  40,  87, 358, 122,   1]),\n",
       "   'CATID_2_1': array([110,  71,  58,  67, 114, 251,  42,  64,  95, 249,  99, 132,  49,\n",
       "           13,  73,  54,  44,  48]),\n",
       "   'CATID_3_1': array([2005,   -7, 2047,   69, 2032,  341,   70,   68, 2049,  347,   77,\n",
       "           307,  214, 2048,  156,   61,  209,  345,  226,  178,  210,  215,\n",
       "           306, 2033,  308,  208]),\n",
       "   'sdled_1_1': array([ 1, 17]),\n",
       "   'sdled_2_1': array([ 2. ,  2.5, 33. , 18. , 57. , 68. , 73. , 50. , 64. ]),\n",
       "   'sdled_3_1': array([-7.  ,  5.5 , 34.  , 46.3 ,  5.  ,  4.  , 24.  , 11.  , 62.  ,\n",
       "          44.  , 68.11, 19.  , 73.01, 55.  , 61.  ,  8.  , 64.15, 48.  ,\n",
       "          46.5 , 16.  , 58.  , 60.  ]),\n",
       "   'sdled_4_1': array([-7.    ,  7.    , 36.5   , 46.32  ,  5.01  , 25.    , 46.33  ,\n",
       "          46.31  , 41.5   , 62.04  ,  6.    , 44.07  , 27.    , 21.5   ,\n",
       "          73.0108, 40.5   , 61.04  , 39.    , 22.    , 44.06  , 64.154 ,\n",
       "          48.03  , 46.501 , 26.    , 73.0106, 20.4   , 62.15  , 20.7   ,\n",
       "          58.01  , 21.    ])}}}"
      ]
     },
     "execution_count": 38,
     "metadata": {},
     "output_type": "execute_result"
    }
   ],
   "source": [
    "final_dict"
   ]
  },
  {
   "cell_type": "markdown",
   "metadata": {},
   "source": [
    "Get demographic dataset\n"
   ]
  },
  {
   "cell_type": "code",
   "execution_count": 2,
   "metadata": {},
   "outputs": [
    {
     "name": "stderr",
     "output_type": "stream",
     "text": [
      "/tmp/ipykernel_5875/2111754696.py:3: SettingWithCopyWarning: \n",
      "A value is trying to be set on a copy of a slice from a DataFrame\n",
      "\n",
      "See the caveats in the documentation: https://pandas.pydata.org/pandas-docs/stable/user_guide/indexing.html#returning-a-view-versus-a-copy\n",
      "  demographic_df.replace({-7:0,-8:0,-9:0},inplace=True)\n",
      "/tmp/ipykernel_5875/2111754696.py:4: SettingWithCopyWarning: \n",
      "A value is trying to be set on a copy of a slice from a DataFrame\n",
      "\n",
      "See the caveats in the documentation: https://pandas.pydata.org/pandas-docs/stable/user_guide/indexing.html#returning-a-view-versus-a-copy\n",
      "  demographic_df['DISPOSITION'].replace({96:11}, inplace=True)\n"
     ]
    },
    {
     "data": {
      "text/html": [
       "<div>\n",
       "<style scoped>\n",
       "    .dataframe tbody tr th:only-of-type {\n",
       "        vertical-align: middle;\n",
       "    }\n",
       "\n",
       "    .dataframe tbody tr th {\n",
       "        vertical-align: top;\n",
       "    }\n",
       "\n",
       "    .dataframe thead th {\n",
       "        text-align: right;\n",
       "    }\n",
       "</style>\n",
       "<table border=\"1\" class=\"dataframe\">\n",
       "  <thead>\n",
       "    <tr style=\"text-align: right;\">\n",
       "      <th></th>\n",
       "      <th>CASEID</th>\n",
       "      <th>METRO</th>\n",
       "      <th>AGECAT</th>\n",
       "      <th>SEX</th>\n",
       "      <th>RACE</th>\n",
       "      <th>DISPOSITION</th>\n",
       "      <th>ALLABUSE</th>\n",
       "      <th>CASETYPE</th>\n",
       "      <th>ALCOHOL</th>\n",
       "      <th>NONALCILL</th>\n",
       "      <th>PHARMA</th>\n",
       "      <th>NONMEDPHARMA</th>\n",
       "    </tr>\n",
       "  </thead>\n",
       "  <tbody>\n",
       "    <tr>\n",
       "      <th>0</th>\n",
       "      <td>1</td>\n",
       "      <td>2</td>\n",
       "      <td>4</td>\n",
       "      <td>1</td>\n",
       "      <td>2</td>\n",
       "      <td>6</td>\n",
       "      <td>1</td>\n",
       "      <td>8</td>\n",
       "      <td>1</td>\n",
       "      <td>1</td>\n",
       "      <td>0</td>\n",
       "      <td>0</td>\n",
       "    </tr>\n",
       "    <tr>\n",
       "      <th>1</th>\n",
       "      <td>2</td>\n",
       "      <td>2</td>\n",
       "      <td>11</td>\n",
       "      <td>1</td>\n",
       "      <td>3</td>\n",
       "      <td>7</td>\n",
       "      <td>0</td>\n",
       "      <td>4</td>\n",
       "      <td>0</td>\n",
       "      <td>0</td>\n",
       "      <td>1</td>\n",
       "      <td>0</td>\n",
       "    </tr>\n",
       "    <tr>\n",
       "      <th>2</th>\n",
       "      <td>3</td>\n",
       "      <td>7</td>\n",
       "      <td>11</td>\n",
       "      <td>2</td>\n",
       "      <td>2</td>\n",
       "      <td>1</td>\n",
       "      <td>0</td>\n",
       "      <td>4</td>\n",
       "      <td>0</td>\n",
       "      <td>0</td>\n",
       "      <td>1</td>\n",
       "      <td>0</td>\n",
       "    </tr>\n",
       "    <tr>\n",
       "      <th>3</th>\n",
       "      <td>4</td>\n",
       "      <td>10</td>\n",
       "      <td>2</td>\n",
       "      <td>1</td>\n",
       "      <td>3</td>\n",
       "      <td>7</td>\n",
       "      <td>0</td>\n",
       "      <td>4</td>\n",
       "      <td>0</td>\n",
       "      <td>0</td>\n",
       "      <td>1</td>\n",
       "      <td>0</td>\n",
       "    </tr>\n",
       "    <tr>\n",
       "      <th>4</th>\n",
       "      <td>5</td>\n",
       "      <td>1</td>\n",
       "      <td>6</td>\n",
       "      <td>1</td>\n",
       "      <td>3</td>\n",
       "      <td>8</td>\n",
       "      <td>1</td>\n",
       "      <td>8</td>\n",
       "      <td>1</td>\n",
       "      <td>1</td>\n",
       "      <td>0</td>\n",
       "      <td>0</td>\n",
       "    </tr>\n",
       "  </tbody>\n",
       "</table>\n",
       "</div>"
      ],
      "text/plain": [
       "   CASEID  METRO  AGECAT  SEX  RACE  DISPOSITION  ALLABUSE  CASETYPE  ALCOHOL  \\\n",
       "0       1      2       4    1     2            6         1         8        1   \n",
       "1       2      2      11    1     3            7         0         4        0   \n",
       "2       3      7      11    2     2            1         0         4        0   \n",
       "3       4     10       2    1     3            7         0         4        0   \n",
       "4       5      1       6    1     3            8         1         8        1   \n",
       "\n",
       "   NONALCILL  PHARMA  NONMEDPHARMA  \n",
       "0          1       0             0  \n",
       "1          0       1             0  \n",
       "2          0       1             0  \n",
       "3          0       1             0  \n",
       "4          1       0             0  "
      ]
     },
     "execution_count": 2,
     "metadata": {},
     "output_type": "execute_result"
    }
   ],
   "source": [
    "df_raw = pd.read_csv('../Data/drug_data.csv', index_col=0)\n",
    "demographic_df = df_raw[['CASEID', 'METRO', 'AGECAT', 'SEX', 'RACE','DISPOSITION', 'ALLABUSE', 'CASETYPE', 'ALCOHOL', 'NONALCILL', 'PHARMA', 'NONMEDPHARMA']]\n",
    "demographic_df.replace({-7:0,-8:0,-9:0},inplace=True)\n",
    "demographic_df['DISPOSITION'].replace({96:11}, inplace=True)\n",
    "demographic_df.head()"
   ]
  },
  {
   "cell_type": "code",
   "execution_count": 3,
   "metadata": {},
   "outputs": [],
   "source": [
    "demographic_df.to_csv('../Data/demographic_data.csv')"
   ]
  },
  {
   "cell_type": "code",
   "execution_count": 4,
   "metadata": {},
   "outputs": [],
   "source": [
    "df_grouped = demographic_df.groupby(['AGECAT', 'CASETYPE']).agg(\n",
    "    count_col=pd.NamedAgg(column='CASETYPE', aggfunc=\"count\")\n",
    "        )"
   ]
  },
  {
   "cell_type": "code",
   "execution_count": 39,
   "metadata": {},
   "outputs": [],
   "source": [
    "agecat_map = {0:'NA', 1:'<= 5', 2:'6-11',3:'12-17', 4:'18-20', 5:'21-24', 6:'25-29', 7:'30-34', 8:'35-44', 9:'45-54', 10:'55-64',11:'>= 65'}\n",
    "sex_map = {0:'NA', 1:'Male', 2:'Female'}\n",
    "race_map = {0:'NA', 1:'White', 2:'Black/African American',3:'Any Hispanic/Latino', 4:'All Other'}\n",
    "casetype_map = {0: 'NA', 1:'Suicide Attempt', 2:'Seeking Detox',3:'Alcohol Only(Age<21)', 4:'Adverse Reaction', 5:'Overmedication', 6:'Malicious Poisoning', 7:'Accidental Injestion', 8:'Other'}\n",
    "metro_map = {0:'NA', 1:'MA-NH', 2:'NY-NJ-PA',3:'IL-IN-WI', 4:'MI', 5:'MN-WI', 6:'FL', 7:'FL', 8:'TX', 9:'CO', 10:'AZ',11:'CA', 12:'CA', 13:'WA', 14:'Other'}\n",
    "alcohol_map = {0:'Alcohol not mentioned', 1: 'Alcohol mentioned'}\n",
    "nonalcill_map = {0:'Episode doesn\\'t involve illicit drugs', 1: 'Episode involves illicit drugs'}\n",
    "pharma_map = {0:'Episode doesn\\'t involve pharmaceuticals', 1: 'Episode involves pharmaceuticals'}\n",
    "nonmedpharma_map = {0:'Episode doesn\\'t involve non-medical use of pharmaceuticals', 1: 'Episode involves non-medical use of pharmaceuticals'}\n",
    "# index_0 = df_grouped.index.get_level_values(0).map(agecat_map)\n",
    "# index_1 = df_grouped.index.get_level_values(1).map(casetype_map)"
   ]
  },
  {
   "cell_type": "code",
   "execution_count": 7,
   "metadata": {},
   "outputs": [],
   "source": [
    "df_grouped_mapped = df_grouped.set_index([index_0, index_1])\n",
    "df_grouped_mapped['count_col'].groupby('AGECAT', group_keys=False).nlargest(3)"
   ]
  },
  {
   "cell_type": "code",
   "execution_count": null,
   "metadata": {},
   "outputs": [],
   "source": [
    "disposition_map = {0:'NA', 1:'Discharged home', 2:'Released to police/Jail',3:'Referred to detox/Treatment', 4:'ICU/Critical care', 5:'Surgery', 6:'Chemical dependency/detox, Psychiatric unit', 7:'Other inpatient unit', 8:'Transferred', 9:'Left agaist medical advice', 10:'Died',11:'Other'}"
   ]
  },
  {
   "cell_type": "code",
   "execution_count": 21,
   "metadata": {},
   "outputs": [],
   "source": [
    "df_grouped = demographic_df.groupby(['AGECAT', 'ALCOHOL']).agg(\n",
    "        Count=pd.NamedAgg(column='ALCOHOL', aggfunc=\"count\")\n",
    "    )\n",
    "\n",
    "index_0 = df_grouped.index.get_level_values(0).map(agecat_map)\n",
    "index_1 = df_grouped.index.get_level_values(1).map(alcohol_map)\n",
    "df_grouped_mapped = df_grouped.set_index([index_0, index_1]).reset_index()\n"
   ]
  },
  {
   "cell_type": "code",
   "execution_count": null,
   "metadata": {},
   "outputs": [],
   "source": [
    "value = 'IL-IN-WI'\n",
    "metro_map"
   ]
  },
  {
   "cell_type": "markdown",
   "metadata": {},
   "source": [
    "# Drug dataset"
   ]
  },
  {
   "cell_type": "code",
   "execution_count": 3,
   "metadata": {},
   "outputs": [],
   "source": [
    "drug_df = df_raw.loc[:, ['DRUGID_1', 'DRUGID_2', 'DRUGID_3']]"
   ]
  },
  {
   "cell_type": "code",
   "execution_count": 4,
   "metadata": {},
   "outputs": [],
   "source": [
    "route_df = df_raw.loc[:, ['ROUTE_1', 'ROUTE_2', 'ROUTE_3']]"
   ]
  },
  {
   "cell_type": "code",
   "execution_count": 10,
   "metadata": {},
   "outputs": [],
   "source": [
    "route_map = {1:'Oral', 2:'Injected', 3:'Inhaled/Sniffed/Snorted', 4:'Smoked', 5:'Other', 6:'Transdermal', 98:'Multiple routes'}\n",
    "series_oral = route_df.eq(1).any(axis=1).astype(int).rename('Oral')\n",
    "series_injected = route_df.eq(2).any(axis=1).astype(int).rename('Injected')\n",
    "series_inhaled = route_df.eq(3).any(axis=1).astype(int).rename('Inhaled/Sniffed/Snorted')\n",
    "series_smoked = route_df.eq(4).any(axis=1).astype(int).rename('Smoked')\n",
    "series_other = route_df.eq(5).any(axis=1).astype(int).rename('Other')\n",
    "series_transdermal = route_df.eq(6).any(axis=1).astype(int).rename('Transdermal')\n",
    "series_multiple = route_df.eq(98).any(axis=1).astype(int).rename('Multiple')\n",
    "df_routes = pd.concat([series_oral, series_injected, series_inhaled, series_smoked, series_other, series_transdermal, series_multiple], axis=1)"
   ]
  },
  {
   "cell_type": "code",
   "execution_count": 11,
   "metadata": {},
   "outputs": [],
   "source": [
    "df_routes.to_csv('../Data/routes_data.csv')"
   ]
  },
  {
   "cell_type": "code",
   "execution_count": 22,
   "metadata": {},
   "outputs": [],
   "source": [
    "drug_map = {1255:'Marijuana', 1254:'Cocaine', 1253:'Heroin', 865:'Alcohol(Ethanol)'}\n",
    "series_1255 = drug_df.eq(1255).any(axis=1).astype(int).rename('Marijuana')\n",
    "series_1254 = drug_df.eq(1254).any(axis=1).astype(int).rename('Cocaine')\n",
    "series_1253 = drug_df.eq(1253).any(axis=1).astype(int).rename('Heroin')\n",
    "series_865 = drug_df.eq(865).any(axis=1).astype(int).rename('Alcohol(Ethanol)')\n",
    "df_drug4 = pd.concat([series_1253, series_1254, series_1255, series_865], axis=1)"
   ]
  },
  {
   "cell_type": "code",
   "execution_count": 72,
   "metadata": {},
   "outputs": [],
   "source": [
    "df_drug4.to_csv('../Data/drug4_data.csv')"
   ]
  },
  {
   "cell_type": "code",
   "execution_count": 7,
   "metadata": {},
   "outputs": [
    {
     "data": {
      "text/html": [
       "<div>\n",
       "<style scoped>\n",
       "    .dataframe tbody tr th:only-of-type {\n",
       "        vertical-align: middle;\n",
       "    }\n",
       "\n",
       "    .dataframe tbody tr th {\n",
       "        vertical-align: top;\n",
       "    }\n",
       "\n",
       "    .dataframe thead th {\n",
       "        text-align: right;\n",
       "    }\n",
       "</style>\n",
       "<table border=\"1\" class=\"dataframe\">\n",
       "  <thead>\n",
       "    <tr style=\"text-align: right;\">\n",
       "      <th></th>\n",
       "      <th>Unnamed: 0</th>\n",
       "      <th>Oral</th>\n",
       "      <th>Injected</th>\n",
       "      <th>Inhaled</th>\n",
       "      <th>Smoked</th>\n",
       "      <th>Other</th>\n",
       "      <th>Transderma</th>\n",
       "      <th>Multiple</th>\n",
       "    </tr>\n",
       "  </thead>\n",
       "  <tbody>\n",
       "    <tr>\n",
       "      <th>0</th>\n",
       "      <td>0</td>\n",
       "      <td>1</td>\n",
       "      <td>0</td>\n",
       "      <td>0</td>\n",
       "      <td>1</td>\n",
       "      <td>0</td>\n",
       "      <td>0</td>\n",
       "      <td>0</td>\n",
       "    </tr>\n",
       "    <tr>\n",
       "      <th>1</th>\n",
       "      <td>1</td>\n",
       "      <td>0</td>\n",
       "      <td>0</td>\n",
       "      <td>0</td>\n",
       "      <td>0</td>\n",
       "      <td>0</td>\n",
       "      <td>0</td>\n",
       "      <td>0</td>\n",
       "    </tr>\n",
       "    <tr>\n",
       "      <th>2</th>\n",
       "      <td>2</td>\n",
       "      <td>0</td>\n",
       "      <td>0</td>\n",
       "      <td>0</td>\n",
       "      <td>0</td>\n",
       "      <td>0</td>\n",
       "      <td>0</td>\n",
       "      <td>0</td>\n",
       "    </tr>\n",
       "    <tr>\n",
       "      <th>3</th>\n",
       "      <td>3</td>\n",
       "      <td>0</td>\n",
       "      <td>1</td>\n",
       "      <td>0</td>\n",
       "      <td>0</td>\n",
       "      <td>0</td>\n",
       "      <td>0</td>\n",
       "      <td>0</td>\n",
       "    </tr>\n",
       "    <tr>\n",
       "      <th>4</th>\n",
       "      <td>4</td>\n",
       "      <td>1</td>\n",
       "      <td>0</td>\n",
       "      <td>0</td>\n",
       "      <td>0</td>\n",
       "      <td>0</td>\n",
       "      <td>0</td>\n",
       "      <td>0</td>\n",
       "    </tr>\n",
       "  </tbody>\n",
       "</table>\n",
       "</div>"
      ],
      "text/plain": [
       "   Unnamed: 0  Oral  Injected  Inhaled  Smoked  Other  Transderma  Multiple\n",
       "0           0     1         0        0       1      0           0         0\n",
       "1           1     0         0        0       0      0           0         0\n",
       "2           2     0         0        0       0      0           0         0\n",
       "3           3     0         1        0       0      0           0         0\n",
       "4           4     1         0        0       0      0           0         0"
      ]
     },
     "execution_count": 7,
     "metadata": {},
     "output_type": "execute_result"
    }
   ],
   "source": [
    "pd.read_csv('../Data/routes_data.csv').head()"
   ]
  },
  {
   "cell_type": "code",
   "execution_count": 23,
   "metadata": {},
   "outputs": [
    {
     "data": {
      "text/html": [
       "<div>\n",
       "<style scoped>\n",
       "    .dataframe tbody tr th:only-of-type {\n",
       "        vertical-align: middle;\n",
       "    }\n",
       "\n",
       "    .dataframe tbody tr th {\n",
       "        vertical-align: top;\n",
       "    }\n",
       "\n",
       "    .dataframe thead th {\n",
       "        text-align: right;\n",
       "    }\n",
       "</style>\n",
       "<table border=\"1\" class=\"dataframe\">\n",
       "  <thead>\n",
       "    <tr style=\"text-align: right;\">\n",
       "      <th></th>\n",
       "      <th>Heroin</th>\n",
       "      <th>Cocaine</th>\n",
       "      <th>Marijuana</th>\n",
       "      <th>Alcohol(Ethanol)</th>\n",
       "    </tr>\n",
       "  </thead>\n",
       "  <tbody>\n",
       "    <tr>\n",
       "      <th>0</th>\n",
       "      <td>0</td>\n",
       "      <td>0</td>\n",
       "      <td>1</td>\n",
       "      <td>1</td>\n",
       "    </tr>\n",
       "    <tr>\n",
       "      <th>1</th>\n",
       "      <td>0</td>\n",
       "      <td>0</td>\n",
       "      <td>0</td>\n",
       "      <td>0</td>\n",
       "    </tr>\n",
       "    <tr>\n",
       "      <th>2</th>\n",
       "      <td>0</td>\n",
       "      <td>0</td>\n",
       "      <td>0</td>\n",
       "      <td>0</td>\n",
       "    </tr>\n",
       "    <tr>\n",
       "      <th>3</th>\n",
       "      <td>0</td>\n",
       "      <td>0</td>\n",
       "      <td>0</td>\n",
       "      <td>0</td>\n",
       "    </tr>\n",
       "    <tr>\n",
       "      <th>4</th>\n",
       "      <td>1</td>\n",
       "      <td>1</td>\n",
       "      <td>0</td>\n",
       "      <td>1</td>\n",
       "    </tr>\n",
       "  </tbody>\n",
       "</table>\n",
       "</div>"
      ],
      "text/plain": [
       "   Heroin  Cocaine  Marijuana  Alcohol(Ethanol)\n",
       "0       0        0          1                 1\n",
       "1       0        0          0                 0\n",
       "2       0        0          0                 0\n",
       "3       0        0          0                 0\n",
       "4       1        1          0                 1"
      ]
     },
     "execution_count": 23,
     "metadata": {},
     "output_type": "execute_result"
    }
   ],
   "source": [
    "df_drug4.head()"
   ]
  },
  {
   "cell_type": "code",
   "execution_count": 54,
   "metadata": {},
   "outputs": [],
   "source": [
    "df_new = pd.concat([demographic_df['SEX'], df_drug4], axis=1)"
   ]
  },
  {
   "cell_type": "code",
   "execution_count": 74,
   "metadata": {},
   "outputs": [],
   "source": [
    "df_new = pd.concat([demographic_df['SEX'], df_drug4], axis=1)\n",
    "df_grouped = df_new.groupby('SEX').sum().stack().reset_index()\n",
    "df_grouped['SEX'] = df_grouped['SEX'].map(sex_map)\n",
    "df_final = df_grouped.rename(columns={'level_1': 'Drug', 0: 'Count'})"
   ]
  },
  {
   "cell_type": "code",
   "execution_count": 75,
   "metadata": {},
   "outputs": [
    {
     "data": {
      "text/html": [
       "<div>\n",
       "<style scoped>\n",
       "    .dataframe tbody tr th:only-of-type {\n",
       "        vertical-align: middle;\n",
       "    }\n",
       "\n",
       "    .dataframe tbody tr th {\n",
       "        vertical-align: top;\n",
       "    }\n",
       "\n",
       "    .dataframe thead th {\n",
       "        text-align: right;\n",
       "    }\n",
       "</style>\n",
       "<table border=\"1\" class=\"dataframe\">\n",
       "  <thead>\n",
       "    <tr style=\"text-align: right;\">\n",
       "      <th></th>\n",
       "      <th>SEX</th>\n",
       "      <th>Drug</th>\n",
       "      <th>Count</th>\n",
       "    </tr>\n",
       "  </thead>\n",
       "  <tbody>\n",
       "    <tr>\n",
       "      <th>0</th>\n",
       "      <td>NA</td>\n",
       "      <td>Heroin</td>\n",
       "      <td>3</td>\n",
       "    </tr>\n",
       "    <tr>\n",
       "      <th>1</th>\n",
       "      <td>NA</td>\n",
       "      <td>Cocaine</td>\n",
       "      <td>17</td>\n",
       "    </tr>\n",
       "    <tr>\n",
       "      <th>2</th>\n",
       "      <td>NA</td>\n",
       "      <td>Marijuana</td>\n",
       "      <td>8</td>\n",
       "    </tr>\n",
       "    <tr>\n",
       "      <th>3</th>\n",
       "      <td>NA</td>\n",
       "      <td>Alcohol(Ethanol)</td>\n",
       "      <td>18</td>\n",
       "    </tr>\n",
       "    <tr>\n",
       "      <th>4</th>\n",
       "      <td>Male</td>\n",
       "      <td>Heroin</td>\n",
       "      <td>13183</td>\n",
       "    </tr>\n",
       "    <tr>\n",
       "      <th>5</th>\n",
       "      <td>Male</td>\n",
       "      <td>Cocaine</td>\n",
       "      <td>20630</td>\n",
       "    </tr>\n",
       "    <tr>\n",
       "      <th>6</th>\n",
       "      <td>Male</td>\n",
       "      <td>Marijuana</td>\n",
       "      <td>17811</td>\n",
       "    </tr>\n",
       "    <tr>\n",
       "      <th>7</th>\n",
       "      <td>Male</td>\n",
       "      <td>Alcohol(Ethanol)</td>\n",
       "      <td>27144</td>\n",
       "    </tr>\n",
       "    <tr>\n",
       "      <th>8</th>\n",
       "      <td>Female</td>\n",
       "      <td>Heroin</td>\n",
       "      <td>5855</td>\n",
       "    </tr>\n",
       "    <tr>\n",
       "      <th>9</th>\n",
       "      <td>Female</td>\n",
       "      <td>Cocaine</td>\n",
       "      <td>9359</td>\n",
       "    </tr>\n",
       "    <tr>\n",
       "      <th>10</th>\n",
       "      <td>Female</td>\n",
       "      <td>Marijuana</td>\n",
       "      <td>7336</td>\n",
       "    </tr>\n",
       "    <tr>\n",
       "      <th>11</th>\n",
       "      <td>Female</td>\n",
       "      <td>Alcohol(Ethanol)</td>\n",
       "      <td>13971</td>\n",
       "    </tr>\n",
       "  </tbody>\n",
       "</table>\n",
       "</div>"
      ],
      "text/plain": [
       "       SEX              Drug  Count\n",
       "0       NA            Heroin      3\n",
       "1       NA           Cocaine     17\n",
       "2       NA         Marijuana      8\n",
       "3       NA  Alcohol(Ethanol)     18\n",
       "4     Male            Heroin  13183\n",
       "5     Male           Cocaine  20630\n",
       "6     Male         Marijuana  17811\n",
       "7     Male  Alcohol(Ethanol)  27144\n",
       "8   Female            Heroin   5855\n",
       "9   Female           Cocaine   9359\n",
       "10  Female         Marijuana   7336\n",
       "11  Female  Alcohol(Ethanol)  13971"
      ]
     },
     "execution_count": 75,
     "metadata": {},
     "output_type": "execute_result"
    }
   ],
   "source": [
    "df_final"
   ]
  },
  {
   "cell_type": "code",
   "execution_count": 76,
   "metadata": {},
   "outputs": [
    {
     "data": {
      "application/vnd.plotly.v1+json": {
       "config": {
        "plotlyServerURL": "https://plot.ly"
       },
       "data": [
        {
         "branchvalues": "total",
         "domain": {
          "x": [
           0,
           1
          ],
          "y": [
           0,
           1
          ]
         },
         "hovertemplate": "labels=%{label}<br>Count=%{value}<br>parent=%{parent}<br>id=%{id}<extra></extra>",
         "ids": [
          "Alcohol(Ethanol)/Female",
          "Cocaine/Female",
          "Heroin/Female",
          "Marijuana/Female",
          "Alcohol(Ethanol)/Male",
          "Cocaine/Male",
          "Heroin/Male",
          "Marijuana/Male",
          "Alcohol(Ethanol)/NA",
          "Cocaine/NA",
          "Heroin/NA",
          "Marijuana/NA",
          "Alcohol(Ethanol)",
          "Cocaine",
          "Heroin",
          "Marijuana"
         ],
         "labels": [
          "Female",
          "Female",
          "Female",
          "Female",
          "Male",
          "Male",
          "Male",
          "Male",
          "NA",
          "NA",
          "NA",
          "NA",
          "Alcohol(Ethanol)",
          "Cocaine",
          "Heroin",
          "Marijuana"
         ],
         "name": "",
         "parents": [
          "Alcohol(Ethanol)",
          "Cocaine",
          "Heroin",
          "Marijuana",
          "Alcohol(Ethanol)",
          "Cocaine",
          "Heroin",
          "Marijuana",
          "Alcohol(Ethanol)",
          "Cocaine",
          "Heroin",
          "Marijuana",
          "",
          "",
          "",
          ""
         ],
         "type": "sunburst",
         "values": [
          13971,
          9359,
          5855,
          7336,
          27144,
          20630,
          13183,
          17811,
          18,
          17,
          3,
          8,
          41133,
          30006,
          19041,
          25155
         ]
        }
       ],
       "layout": {
        "height": 500,
        "legend": {
         "tracegroupgap": 0
        },
        "margin": {
         "t": 60
        },
        "template": {
         "data": {
          "bar": [
           {
            "error_x": {
             "color": "#2a3f5f"
            },
            "error_y": {
             "color": "#2a3f5f"
            },
            "marker": {
             "line": {
              "color": "#E5ECF6",
              "width": 0.5
             },
             "pattern": {
              "fillmode": "overlay",
              "size": 10,
              "solidity": 0.2
             }
            },
            "type": "bar"
           }
          ],
          "barpolar": [
           {
            "marker": {
             "line": {
              "color": "#E5ECF6",
              "width": 0.5
             },
             "pattern": {
              "fillmode": "overlay",
              "size": 10,
              "solidity": 0.2
             }
            },
            "type": "barpolar"
           }
          ],
          "carpet": [
           {
            "aaxis": {
             "endlinecolor": "#2a3f5f",
             "gridcolor": "white",
             "linecolor": "white",
             "minorgridcolor": "white",
             "startlinecolor": "#2a3f5f"
            },
            "baxis": {
             "endlinecolor": "#2a3f5f",
             "gridcolor": "white",
             "linecolor": "white",
             "minorgridcolor": "white",
             "startlinecolor": "#2a3f5f"
            },
            "type": "carpet"
           }
          ],
          "choropleth": [
           {
            "colorbar": {
             "outlinewidth": 0,
             "ticks": ""
            },
            "type": "choropleth"
           }
          ],
          "contour": [
           {
            "colorbar": {
             "outlinewidth": 0,
             "ticks": ""
            },
            "colorscale": [
             [
              0,
              "#0d0887"
             ],
             [
              0.1111111111111111,
              "#46039f"
             ],
             [
              0.2222222222222222,
              "#7201a8"
             ],
             [
              0.3333333333333333,
              "#9c179e"
             ],
             [
              0.4444444444444444,
              "#bd3786"
             ],
             [
              0.5555555555555556,
              "#d8576b"
             ],
             [
              0.6666666666666666,
              "#ed7953"
             ],
             [
              0.7777777777777778,
              "#fb9f3a"
             ],
             [
              0.8888888888888888,
              "#fdca26"
             ],
             [
              1,
              "#f0f921"
             ]
            ],
            "type": "contour"
           }
          ],
          "contourcarpet": [
           {
            "colorbar": {
             "outlinewidth": 0,
             "ticks": ""
            },
            "type": "contourcarpet"
           }
          ],
          "heatmap": [
           {
            "colorbar": {
             "outlinewidth": 0,
             "ticks": ""
            },
            "colorscale": [
             [
              0,
              "#0d0887"
             ],
             [
              0.1111111111111111,
              "#46039f"
             ],
             [
              0.2222222222222222,
              "#7201a8"
             ],
             [
              0.3333333333333333,
              "#9c179e"
             ],
             [
              0.4444444444444444,
              "#bd3786"
             ],
             [
              0.5555555555555556,
              "#d8576b"
             ],
             [
              0.6666666666666666,
              "#ed7953"
             ],
             [
              0.7777777777777778,
              "#fb9f3a"
             ],
             [
              0.8888888888888888,
              "#fdca26"
             ],
             [
              1,
              "#f0f921"
             ]
            ],
            "type": "heatmap"
           }
          ],
          "heatmapgl": [
           {
            "colorbar": {
             "outlinewidth": 0,
             "ticks": ""
            },
            "colorscale": [
             [
              0,
              "#0d0887"
             ],
             [
              0.1111111111111111,
              "#46039f"
             ],
             [
              0.2222222222222222,
              "#7201a8"
             ],
             [
              0.3333333333333333,
              "#9c179e"
             ],
             [
              0.4444444444444444,
              "#bd3786"
             ],
             [
              0.5555555555555556,
              "#d8576b"
             ],
             [
              0.6666666666666666,
              "#ed7953"
             ],
             [
              0.7777777777777778,
              "#fb9f3a"
             ],
             [
              0.8888888888888888,
              "#fdca26"
             ],
             [
              1,
              "#f0f921"
             ]
            ],
            "type": "heatmapgl"
           }
          ],
          "histogram": [
           {
            "marker": {
             "pattern": {
              "fillmode": "overlay",
              "size": 10,
              "solidity": 0.2
             }
            },
            "type": "histogram"
           }
          ],
          "histogram2d": [
           {
            "colorbar": {
             "outlinewidth": 0,
             "ticks": ""
            },
            "colorscale": [
             [
              0,
              "#0d0887"
             ],
             [
              0.1111111111111111,
              "#46039f"
             ],
             [
              0.2222222222222222,
              "#7201a8"
             ],
             [
              0.3333333333333333,
              "#9c179e"
             ],
             [
              0.4444444444444444,
              "#bd3786"
             ],
             [
              0.5555555555555556,
              "#d8576b"
             ],
             [
              0.6666666666666666,
              "#ed7953"
             ],
             [
              0.7777777777777778,
              "#fb9f3a"
             ],
             [
              0.8888888888888888,
              "#fdca26"
             ],
             [
              1,
              "#f0f921"
             ]
            ],
            "type": "histogram2d"
           }
          ],
          "histogram2dcontour": [
           {
            "colorbar": {
             "outlinewidth": 0,
             "ticks": ""
            },
            "colorscale": [
             [
              0,
              "#0d0887"
             ],
             [
              0.1111111111111111,
              "#46039f"
             ],
             [
              0.2222222222222222,
              "#7201a8"
             ],
             [
              0.3333333333333333,
              "#9c179e"
             ],
             [
              0.4444444444444444,
              "#bd3786"
             ],
             [
              0.5555555555555556,
              "#d8576b"
             ],
             [
              0.6666666666666666,
              "#ed7953"
             ],
             [
              0.7777777777777778,
              "#fb9f3a"
             ],
             [
              0.8888888888888888,
              "#fdca26"
             ],
             [
              1,
              "#f0f921"
             ]
            ],
            "type": "histogram2dcontour"
           }
          ],
          "mesh3d": [
           {
            "colorbar": {
             "outlinewidth": 0,
             "ticks": ""
            },
            "type": "mesh3d"
           }
          ],
          "parcoords": [
           {
            "line": {
             "colorbar": {
              "outlinewidth": 0,
              "ticks": ""
             }
            },
            "type": "parcoords"
           }
          ],
          "pie": [
           {
            "automargin": true,
            "type": "pie"
           }
          ],
          "scatter": [
           {
            "fillpattern": {
             "fillmode": "overlay",
             "size": 10,
             "solidity": 0.2
            },
            "type": "scatter"
           }
          ],
          "scatter3d": [
           {
            "line": {
             "colorbar": {
              "outlinewidth": 0,
              "ticks": ""
             }
            },
            "marker": {
             "colorbar": {
              "outlinewidth": 0,
              "ticks": ""
             }
            },
            "type": "scatter3d"
           }
          ],
          "scattercarpet": [
           {
            "marker": {
             "colorbar": {
              "outlinewidth": 0,
              "ticks": ""
             }
            },
            "type": "scattercarpet"
           }
          ],
          "scattergeo": [
           {
            "marker": {
             "colorbar": {
              "outlinewidth": 0,
              "ticks": ""
             }
            },
            "type": "scattergeo"
           }
          ],
          "scattergl": [
           {
            "marker": {
             "colorbar": {
              "outlinewidth": 0,
              "ticks": ""
             }
            },
            "type": "scattergl"
           }
          ],
          "scattermapbox": [
           {
            "marker": {
             "colorbar": {
              "outlinewidth": 0,
              "ticks": ""
             }
            },
            "type": "scattermapbox"
           }
          ],
          "scatterpolar": [
           {
            "marker": {
             "colorbar": {
              "outlinewidth": 0,
              "ticks": ""
             }
            },
            "type": "scatterpolar"
           }
          ],
          "scatterpolargl": [
           {
            "marker": {
             "colorbar": {
              "outlinewidth": 0,
              "ticks": ""
             }
            },
            "type": "scatterpolargl"
           }
          ],
          "scatterternary": [
           {
            "marker": {
             "colorbar": {
              "outlinewidth": 0,
              "ticks": ""
             }
            },
            "type": "scatterternary"
           }
          ],
          "surface": [
           {
            "colorbar": {
             "outlinewidth": 0,
             "ticks": ""
            },
            "colorscale": [
             [
              0,
              "#0d0887"
             ],
             [
              0.1111111111111111,
              "#46039f"
             ],
             [
              0.2222222222222222,
              "#7201a8"
             ],
             [
              0.3333333333333333,
              "#9c179e"
             ],
             [
              0.4444444444444444,
              "#bd3786"
             ],
             [
              0.5555555555555556,
              "#d8576b"
             ],
             [
              0.6666666666666666,
              "#ed7953"
             ],
             [
              0.7777777777777778,
              "#fb9f3a"
             ],
             [
              0.8888888888888888,
              "#fdca26"
             ],
             [
              1,
              "#f0f921"
             ]
            ],
            "type": "surface"
           }
          ],
          "table": [
           {
            "cells": {
             "fill": {
              "color": "#EBF0F8"
             },
             "line": {
              "color": "white"
             }
            },
            "header": {
             "fill": {
              "color": "#C8D4E3"
             },
             "line": {
              "color": "white"
             }
            },
            "type": "table"
           }
          ]
         },
         "layout": {
          "annotationdefaults": {
           "arrowcolor": "#2a3f5f",
           "arrowhead": 0,
           "arrowwidth": 1
          },
          "autotypenumbers": "strict",
          "coloraxis": {
           "colorbar": {
            "outlinewidth": 0,
            "ticks": ""
           }
          },
          "colorscale": {
           "diverging": [
            [
             0,
             "#8e0152"
            ],
            [
             0.1,
             "#c51b7d"
            ],
            [
             0.2,
             "#de77ae"
            ],
            [
             0.3,
             "#f1b6da"
            ],
            [
             0.4,
             "#fde0ef"
            ],
            [
             0.5,
             "#f7f7f7"
            ],
            [
             0.6,
             "#e6f5d0"
            ],
            [
             0.7,
             "#b8e186"
            ],
            [
             0.8,
             "#7fbc41"
            ],
            [
             0.9,
             "#4d9221"
            ],
            [
             1,
             "#276419"
            ]
           ],
           "sequential": [
            [
             0,
             "#0d0887"
            ],
            [
             0.1111111111111111,
             "#46039f"
            ],
            [
             0.2222222222222222,
             "#7201a8"
            ],
            [
             0.3333333333333333,
             "#9c179e"
            ],
            [
             0.4444444444444444,
             "#bd3786"
            ],
            [
             0.5555555555555556,
             "#d8576b"
            ],
            [
             0.6666666666666666,
             "#ed7953"
            ],
            [
             0.7777777777777778,
             "#fb9f3a"
            ],
            [
             0.8888888888888888,
             "#fdca26"
            ],
            [
             1,
             "#f0f921"
            ]
           ],
           "sequentialminus": [
            [
             0,
             "#0d0887"
            ],
            [
             0.1111111111111111,
             "#46039f"
            ],
            [
             0.2222222222222222,
             "#7201a8"
            ],
            [
             0.3333333333333333,
             "#9c179e"
            ],
            [
             0.4444444444444444,
             "#bd3786"
            ],
            [
             0.5555555555555556,
             "#d8576b"
            ],
            [
             0.6666666666666666,
             "#ed7953"
            ],
            [
             0.7777777777777778,
             "#fb9f3a"
            ],
            [
             0.8888888888888888,
             "#fdca26"
            ],
            [
             1,
             "#f0f921"
            ]
           ]
          },
          "colorway": [
           "#636efa",
           "#EF553B",
           "#00cc96",
           "#ab63fa",
           "#FFA15A",
           "#19d3f3",
           "#FF6692",
           "#B6E880",
           "#FF97FF",
           "#FECB52"
          ],
          "font": {
           "color": "#2a3f5f"
          },
          "geo": {
           "bgcolor": "white",
           "lakecolor": "white",
           "landcolor": "#E5ECF6",
           "showlakes": true,
           "showland": true,
           "subunitcolor": "white"
          },
          "hoverlabel": {
           "align": "left"
          },
          "hovermode": "closest",
          "mapbox": {
           "style": "light"
          },
          "paper_bgcolor": "white",
          "plot_bgcolor": "#E5ECF6",
          "polar": {
           "angularaxis": {
            "gridcolor": "white",
            "linecolor": "white",
            "ticks": ""
           },
           "bgcolor": "#E5ECF6",
           "radialaxis": {
            "gridcolor": "white",
            "linecolor": "white",
            "ticks": ""
           }
          },
          "scene": {
           "xaxis": {
            "backgroundcolor": "#E5ECF6",
            "gridcolor": "white",
            "gridwidth": 2,
            "linecolor": "white",
            "showbackground": true,
            "ticks": "",
            "zerolinecolor": "white"
           },
           "yaxis": {
            "backgroundcolor": "#E5ECF6",
            "gridcolor": "white",
            "gridwidth": 2,
            "linecolor": "white",
            "showbackground": true,
            "ticks": "",
            "zerolinecolor": "white"
           },
           "zaxis": {
            "backgroundcolor": "#E5ECF6",
            "gridcolor": "white",
            "gridwidth": 2,
            "linecolor": "white",
            "showbackground": true,
            "ticks": "",
            "zerolinecolor": "white"
           }
          },
          "shapedefaults": {
           "line": {
            "color": "#2a3f5f"
           }
          },
          "ternary": {
           "aaxis": {
            "gridcolor": "white",
            "linecolor": "white",
            "ticks": ""
           },
           "baxis": {
            "gridcolor": "white",
            "linecolor": "white",
            "ticks": ""
           },
           "bgcolor": "#E5ECF6",
           "caxis": {
            "gridcolor": "white",
            "linecolor": "white",
            "ticks": ""
           }
          },
          "title": {
           "x": 0.05
          },
          "xaxis": {
           "automargin": true,
           "gridcolor": "white",
           "linecolor": "white",
           "ticks": "",
           "title": {
            "standoff": 15
           },
           "zerolinecolor": "white",
           "zerolinewidth": 2
          },
          "yaxis": {
           "automargin": true,
           "gridcolor": "white",
           "linecolor": "white",
           "ticks": "",
           "title": {
            "standoff": 15
           },
           "zerolinecolor": "white",
           "zerolinewidth": 2
          }
         }
        },
        "width": 600
       }
      },
      "text/html": [
       "<div>                            <div id=\"06c29d61-7c0d-4998-85c7-1433fd2f9818\" class=\"plotly-graph-div\" style=\"height:500px; width:600px;\"></div>            <script type=\"text/javascript\">                require([\"plotly\"], function(Plotly) {                    window.PLOTLYENV=window.PLOTLYENV || {};                                    if (document.getElementById(\"06c29d61-7c0d-4998-85c7-1433fd2f9818\")) {                    Plotly.newPlot(                        \"06c29d61-7c0d-4998-85c7-1433fd2f9818\",                        [{\"branchvalues\":\"total\",\"domain\":{\"x\":[0.0,1.0],\"y\":[0.0,1.0]},\"hovertemplate\":\"labels=%{label}<br>Count=%{value}<br>parent=%{parent}<br>id=%{id}<extra></extra>\",\"ids\":[\"Alcohol(Ethanol)/Female\",\"Cocaine/Female\",\"Heroin/Female\",\"Marijuana/Female\",\"Alcohol(Ethanol)/Male\",\"Cocaine/Male\",\"Heroin/Male\",\"Marijuana/Male\",\"Alcohol(Ethanol)/NA\",\"Cocaine/NA\",\"Heroin/NA\",\"Marijuana/NA\",\"Alcohol(Ethanol)\",\"Cocaine\",\"Heroin\",\"Marijuana\"],\"labels\":[\"Female\",\"Female\",\"Female\",\"Female\",\"Male\",\"Male\",\"Male\",\"Male\",\"NA\",\"NA\",\"NA\",\"NA\",\"Alcohol(Ethanol)\",\"Cocaine\",\"Heroin\",\"Marijuana\"],\"name\":\"\",\"parents\":[\"Alcohol(Ethanol)\",\"Cocaine\",\"Heroin\",\"Marijuana\",\"Alcohol(Ethanol)\",\"Cocaine\",\"Heroin\",\"Marijuana\",\"Alcohol(Ethanol)\",\"Cocaine\",\"Heroin\",\"Marijuana\",\"\",\"\",\"\",\"\"],\"values\":[13971,9359,5855,7336,27144,20630,13183,17811,18,17,3,8,41133,30006,19041,25155],\"type\":\"sunburst\"}],                        {\"template\":{\"data\":{\"histogram2dcontour\":[{\"type\":\"histogram2dcontour\",\"colorbar\":{\"outlinewidth\":0,\"ticks\":\"\"},\"colorscale\":[[0.0,\"#0d0887\"],[0.1111111111111111,\"#46039f\"],[0.2222222222222222,\"#7201a8\"],[0.3333333333333333,\"#9c179e\"],[0.4444444444444444,\"#bd3786\"],[0.5555555555555556,\"#d8576b\"],[0.6666666666666666,\"#ed7953\"],[0.7777777777777778,\"#fb9f3a\"],[0.8888888888888888,\"#fdca26\"],[1.0,\"#f0f921\"]]}],\"choropleth\":[{\"type\":\"choropleth\",\"colorbar\":{\"outlinewidth\":0,\"ticks\":\"\"}}],\"histogram2d\":[{\"type\":\"histogram2d\",\"colorbar\":{\"outlinewidth\":0,\"ticks\":\"\"},\"colorscale\":[[0.0,\"#0d0887\"],[0.1111111111111111,\"#46039f\"],[0.2222222222222222,\"#7201a8\"],[0.3333333333333333,\"#9c179e\"],[0.4444444444444444,\"#bd3786\"],[0.5555555555555556,\"#d8576b\"],[0.6666666666666666,\"#ed7953\"],[0.7777777777777778,\"#fb9f3a\"],[0.8888888888888888,\"#fdca26\"],[1.0,\"#f0f921\"]]}],\"heatmap\":[{\"type\":\"heatmap\",\"colorbar\":{\"outlinewidth\":0,\"ticks\":\"\"},\"colorscale\":[[0.0,\"#0d0887\"],[0.1111111111111111,\"#46039f\"],[0.2222222222222222,\"#7201a8\"],[0.3333333333333333,\"#9c179e\"],[0.4444444444444444,\"#bd3786\"],[0.5555555555555556,\"#d8576b\"],[0.6666666666666666,\"#ed7953\"],[0.7777777777777778,\"#fb9f3a\"],[0.8888888888888888,\"#fdca26\"],[1.0,\"#f0f921\"]]}],\"heatmapgl\":[{\"type\":\"heatmapgl\",\"colorbar\":{\"outlinewidth\":0,\"ticks\":\"\"},\"colorscale\":[[0.0,\"#0d0887\"],[0.1111111111111111,\"#46039f\"],[0.2222222222222222,\"#7201a8\"],[0.3333333333333333,\"#9c179e\"],[0.4444444444444444,\"#bd3786\"],[0.5555555555555556,\"#d8576b\"],[0.6666666666666666,\"#ed7953\"],[0.7777777777777778,\"#fb9f3a\"],[0.8888888888888888,\"#fdca26\"],[1.0,\"#f0f921\"]]}],\"contourcarpet\":[{\"type\":\"contourcarpet\",\"colorbar\":{\"outlinewidth\":0,\"ticks\":\"\"}}],\"contour\":[{\"type\":\"contour\",\"colorbar\":{\"outlinewidth\":0,\"ticks\":\"\"},\"colorscale\":[[0.0,\"#0d0887\"],[0.1111111111111111,\"#46039f\"],[0.2222222222222222,\"#7201a8\"],[0.3333333333333333,\"#9c179e\"],[0.4444444444444444,\"#bd3786\"],[0.5555555555555556,\"#d8576b\"],[0.6666666666666666,\"#ed7953\"],[0.7777777777777778,\"#fb9f3a\"],[0.8888888888888888,\"#fdca26\"],[1.0,\"#f0f921\"]]}],\"surface\":[{\"type\":\"surface\",\"colorbar\":{\"outlinewidth\":0,\"ticks\":\"\"},\"colorscale\":[[0.0,\"#0d0887\"],[0.1111111111111111,\"#46039f\"],[0.2222222222222222,\"#7201a8\"],[0.3333333333333333,\"#9c179e\"],[0.4444444444444444,\"#bd3786\"],[0.5555555555555556,\"#d8576b\"],[0.6666666666666666,\"#ed7953\"],[0.7777777777777778,\"#fb9f3a\"],[0.8888888888888888,\"#fdca26\"],[1.0,\"#f0f921\"]]}],\"mesh3d\":[{\"type\":\"mesh3d\",\"colorbar\":{\"outlinewidth\":0,\"ticks\":\"\"}}],\"scatter\":[{\"fillpattern\":{\"fillmode\":\"overlay\",\"size\":10,\"solidity\":0.2},\"type\":\"scatter\"}],\"parcoords\":[{\"type\":\"parcoords\",\"line\":{\"colorbar\":{\"outlinewidth\":0,\"ticks\":\"\"}}}],\"scatterpolargl\":[{\"type\":\"scatterpolargl\",\"marker\":{\"colorbar\":{\"outlinewidth\":0,\"ticks\":\"\"}}}],\"bar\":[{\"error_x\":{\"color\":\"#2a3f5f\"},\"error_y\":{\"color\":\"#2a3f5f\"},\"marker\":{\"line\":{\"color\":\"#E5ECF6\",\"width\":0.5},\"pattern\":{\"fillmode\":\"overlay\",\"size\":10,\"solidity\":0.2}},\"type\":\"bar\"}],\"scattergeo\":[{\"type\":\"scattergeo\",\"marker\":{\"colorbar\":{\"outlinewidth\":0,\"ticks\":\"\"}}}],\"scatterpolar\":[{\"type\":\"scatterpolar\",\"marker\":{\"colorbar\":{\"outlinewidth\":0,\"ticks\":\"\"}}}],\"histogram\":[{\"marker\":{\"pattern\":{\"fillmode\":\"overlay\",\"size\":10,\"solidity\":0.2}},\"type\":\"histogram\"}],\"scattergl\":[{\"type\":\"scattergl\",\"marker\":{\"colorbar\":{\"outlinewidth\":0,\"ticks\":\"\"}}}],\"scatter3d\":[{\"type\":\"scatter3d\",\"line\":{\"colorbar\":{\"outlinewidth\":0,\"ticks\":\"\"}},\"marker\":{\"colorbar\":{\"outlinewidth\":0,\"ticks\":\"\"}}}],\"scattermapbox\":[{\"type\":\"scattermapbox\",\"marker\":{\"colorbar\":{\"outlinewidth\":0,\"ticks\":\"\"}}}],\"scatterternary\":[{\"type\":\"scatterternary\",\"marker\":{\"colorbar\":{\"outlinewidth\":0,\"ticks\":\"\"}}}],\"scattercarpet\":[{\"type\":\"scattercarpet\",\"marker\":{\"colorbar\":{\"outlinewidth\":0,\"ticks\":\"\"}}}],\"carpet\":[{\"aaxis\":{\"endlinecolor\":\"#2a3f5f\",\"gridcolor\":\"white\",\"linecolor\":\"white\",\"minorgridcolor\":\"white\",\"startlinecolor\":\"#2a3f5f\"},\"baxis\":{\"endlinecolor\":\"#2a3f5f\",\"gridcolor\":\"white\",\"linecolor\":\"white\",\"minorgridcolor\":\"white\",\"startlinecolor\":\"#2a3f5f\"},\"type\":\"carpet\"}],\"table\":[{\"cells\":{\"fill\":{\"color\":\"#EBF0F8\"},\"line\":{\"color\":\"white\"}},\"header\":{\"fill\":{\"color\":\"#C8D4E3\"},\"line\":{\"color\":\"white\"}},\"type\":\"table\"}],\"barpolar\":[{\"marker\":{\"line\":{\"color\":\"#E5ECF6\",\"width\":0.5},\"pattern\":{\"fillmode\":\"overlay\",\"size\":10,\"solidity\":0.2}},\"type\":\"barpolar\"}],\"pie\":[{\"automargin\":true,\"type\":\"pie\"}]},\"layout\":{\"autotypenumbers\":\"strict\",\"colorway\":[\"#636efa\",\"#EF553B\",\"#00cc96\",\"#ab63fa\",\"#FFA15A\",\"#19d3f3\",\"#FF6692\",\"#B6E880\",\"#FF97FF\",\"#FECB52\"],\"font\":{\"color\":\"#2a3f5f\"},\"hovermode\":\"closest\",\"hoverlabel\":{\"align\":\"left\"},\"paper_bgcolor\":\"white\",\"plot_bgcolor\":\"#E5ECF6\",\"polar\":{\"bgcolor\":\"#E5ECF6\",\"angularaxis\":{\"gridcolor\":\"white\",\"linecolor\":\"white\",\"ticks\":\"\"},\"radialaxis\":{\"gridcolor\":\"white\",\"linecolor\":\"white\",\"ticks\":\"\"}},\"ternary\":{\"bgcolor\":\"#E5ECF6\",\"aaxis\":{\"gridcolor\":\"white\",\"linecolor\":\"white\",\"ticks\":\"\"},\"baxis\":{\"gridcolor\":\"white\",\"linecolor\":\"white\",\"ticks\":\"\"},\"caxis\":{\"gridcolor\":\"white\",\"linecolor\":\"white\",\"ticks\":\"\"}},\"coloraxis\":{\"colorbar\":{\"outlinewidth\":0,\"ticks\":\"\"}},\"colorscale\":{\"sequential\":[[0.0,\"#0d0887\"],[0.1111111111111111,\"#46039f\"],[0.2222222222222222,\"#7201a8\"],[0.3333333333333333,\"#9c179e\"],[0.4444444444444444,\"#bd3786\"],[0.5555555555555556,\"#d8576b\"],[0.6666666666666666,\"#ed7953\"],[0.7777777777777778,\"#fb9f3a\"],[0.8888888888888888,\"#fdca26\"],[1.0,\"#f0f921\"]],\"sequentialminus\":[[0.0,\"#0d0887\"],[0.1111111111111111,\"#46039f\"],[0.2222222222222222,\"#7201a8\"],[0.3333333333333333,\"#9c179e\"],[0.4444444444444444,\"#bd3786\"],[0.5555555555555556,\"#d8576b\"],[0.6666666666666666,\"#ed7953\"],[0.7777777777777778,\"#fb9f3a\"],[0.8888888888888888,\"#fdca26\"],[1.0,\"#f0f921\"]],\"diverging\":[[0,\"#8e0152\"],[0.1,\"#c51b7d\"],[0.2,\"#de77ae\"],[0.3,\"#f1b6da\"],[0.4,\"#fde0ef\"],[0.5,\"#f7f7f7\"],[0.6,\"#e6f5d0\"],[0.7,\"#b8e186\"],[0.8,\"#7fbc41\"],[0.9,\"#4d9221\"],[1,\"#276419\"]]},\"xaxis\":{\"gridcolor\":\"white\",\"linecolor\":\"white\",\"ticks\":\"\",\"title\":{\"standoff\":15},\"zerolinecolor\":\"white\",\"automargin\":true,\"zerolinewidth\":2},\"yaxis\":{\"gridcolor\":\"white\",\"linecolor\":\"white\",\"ticks\":\"\",\"title\":{\"standoff\":15},\"zerolinecolor\":\"white\",\"automargin\":true,\"zerolinewidth\":2},\"scene\":{\"xaxis\":{\"backgroundcolor\":\"#E5ECF6\",\"gridcolor\":\"white\",\"linecolor\":\"white\",\"showbackground\":true,\"ticks\":\"\",\"zerolinecolor\":\"white\",\"gridwidth\":2},\"yaxis\":{\"backgroundcolor\":\"#E5ECF6\",\"gridcolor\":\"white\",\"linecolor\":\"white\",\"showbackground\":true,\"ticks\":\"\",\"zerolinecolor\":\"white\",\"gridwidth\":2},\"zaxis\":{\"backgroundcolor\":\"#E5ECF6\",\"gridcolor\":\"white\",\"linecolor\":\"white\",\"showbackground\":true,\"ticks\":\"\",\"zerolinecolor\":\"white\",\"gridwidth\":2}},\"shapedefaults\":{\"line\":{\"color\":\"#2a3f5f\"}},\"annotationdefaults\":{\"arrowcolor\":\"#2a3f5f\",\"arrowhead\":0,\"arrowwidth\":1},\"geo\":{\"bgcolor\":\"white\",\"landcolor\":\"#E5ECF6\",\"subunitcolor\":\"white\",\"showland\":true,\"showlakes\":true,\"lakecolor\":\"white\"},\"title\":{\"x\":0.05},\"mapbox\":{\"style\":\"light\"}}},\"legend\":{\"tracegroupgap\":0},\"margin\":{\"t\":60},\"height\":500,\"width\":600},                        {\"responsive\": true}                    ).then(function(){\n",
       "                            \n",
       "var gd = document.getElementById('06c29d61-7c0d-4998-85c7-1433fd2f9818');\n",
       "var x = new MutationObserver(function (mutations, observer) {{\n",
       "        var display = window.getComputedStyle(gd).display;\n",
       "        if (!display || display === 'none') {{\n",
       "            console.log([gd, 'removed!']);\n",
       "            Plotly.purge(gd);\n",
       "            observer.disconnect();\n",
       "        }}\n",
       "}});\n",
       "\n",
       "// Listen for the removal of the full notebook cells\n",
       "var notebookContainer = gd.closest('#notebook-container');\n",
       "if (notebookContainer) {{\n",
       "    x.observe(notebookContainer, {childList: true});\n",
       "}}\n",
       "\n",
       "// Listen for the clearing of the current output cell\n",
       "var outputEl = gd.closest('.output');\n",
       "if (outputEl) {{\n",
       "    x.observe(outputEl, {childList: true});\n",
       "}}\n",
       "\n",
       "                        })                };                });            </script>        </div>"
      ]
     },
     "metadata": {},
     "output_type": "display_data"
    }
   ],
   "source": [
    "px.sunburst(\n",
    "        df_final,\n",
    "        path=['Drug', \"SEX\"],\n",
    "        values='Count',\n",
    "        width=600, \n",
    "        height=500\n",
    "    )"
   ]
  },
  {
   "cell_type": "markdown",
   "metadata": {},
   "source": [
    "Input and output mappings\n"
   ]
  },
  {
   "cell_type": "code",
   "execution_count": 9,
   "metadata": {},
   "outputs": [],
   "source": [
    "df_drugmap_raw = pd.read_excel('../Mappings.xlsx', sheet_name='DrugID', usecols='A:C')\n",
    "df_catmap_raw = pd.read_excel('../Mappings.xlsx', sheet_name='CATID', usecols='A:C')\n",
    "df_sdled_raw = pd.read_excel('../Mappings.xlsx', sheet_name='SDLED', usecols='A:C')"
   ]
  },
  {
   "cell_type": "code",
   "execution_count": 12,
   "metadata": {},
   "outputs": [
    {
     "data": {
      "text/html": [
       "<div>\n",
       "<style scoped>\n",
       "    .dataframe tbody tr th:only-of-type {\n",
       "        vertical-align: middle;\n",
       "    }\n",
       "\n",
       "    .dataframe tbody tr th {\n",
       "        vertical-align: top;\n",
       "    }\n",
       "\n",
       "    .dataframe thead th {\n",
       "        text-align: right;\n",
       "    }\n",
       "</style>\n",
       "<table border=\"1\" class=\"dataframe\">\n",
       "  <thead>\n",
       "    <tr style=\"text-align: right;\">\n",
       "      <th></th>\n",
       "    </tr>\n",
       "  </thead>\n",
       "  <tbody>\n",
       "  </tbody>\n",
       "</table>\n",
       "</div>"
      ],
      "text/plain": [
       "Empty DataFrame\n",
       "Columns: []\n",
       "Index: []"
      ]
     },
     "execution_count": 12,
     "metadata": {},
     "output_type": "execute_result"
    }
   ],
   "source": [
    "drug_input_maps = []\n",
    "\n",
    "def make_dict(group):\n",
    "    keys = group['VALUE'].values\n",
    "    vals = group['NAME'].values\n",
    "    drug_input_maps.append(dict(zip(keys, vals)))\n",
    "    \n",
    "df_drugmap_raw.groupby('DRUGID').apply(lambda x: make_dict(x))"
   ]
  },
  {
   "cell_type": "code",
   "execution_count": 17,
   "metadata": {},
   "outputs": [],
   "source": [
    "casetype_map = {0: 'NA', 1:'Suicide Attempt', 2:'Seeking Detox',3:'Alcohol Only(Age<21)', 4:'Adverse Reaction', 5:'Overmedication', 6:'Malicious Poisoning', 7:'Accidental Injestion', 8:'Other'}\n",
    "df_casetype_count_before = df_raw.groupby('CASETYPE').agg(\n",
    "        Count_With_Other=pd.NamedAgg(column='CASETYPE', aggfunc=\"count\")\n",
    "    )\n",
    "count_after_classification = {'Seeking Detox':8016, 'Adverse Reaction':2128, 'Suicide Attempt':750, 'Overmedication':715, 'Malicious Poisoning': 56, 'Alcohol Only(Age<21)':0, 'Accidental Injestion': 0, 'Other':-83648}\n",
    "df_casetype_count_after = pd.Series(data=count_after_classification, name='Count_Without_Other')\n",
    "casetype_index = df_casetype_count_before.index.map(casetype_map)\n",
    "df_casetype_count_before_mapped = df_casetype_count_before.set_index(casetype_index)"
   ]
  },
  {
   "cell_type": "code",
   "execution_count": 27,
   "metadata": {},
   "outputs": [],
   "source": [
    "df_casetype_count = pd.concat([df_casetype_count_before_mapped, df_casetype_count_after], axis=1)\n",
    "df_casetype_count['after_classification'] = df_casetype_count.apply(lambda x: x['Count_With_Other']+x['Count_Without_Other'], axis=1)"
   ]
  },
  {
   "cell_type": "code",
   "execution_count": 30,
   "metadata": {},
   "outputs": [
    {
     "data": {
      "text/html": [
       "<div>\n",
       "<style scoped>\n",
       "    .dataframe tbody tr th:only-of-type {\n",
       "        vertical-align: middle;\n",
       "    }\n",
       "\n",
       "    .dataframe tbody tr th {\n",
       "        vertical-align: top;\n",
       "    }\n",
       "\n",
       "    .dataframe thead th {\n",
       "        text-align: right;\n",
       "    }\n",
       "</style>\n",
       "<table border=\"1\" class=\"dataframe\">\n",
       "  <thead>\n",
       "    <tr style=\"text-align: right;\">\n",
       "      <th></th>\n",
       "      <th>Count_With_Other</th>\n",
       "      <th>Count_Without_Other</th>\n",
       "      <th>after_classification</th>\n",
       "    </tr>\n",
       "  </thead>\n",
       "  <tbody>\n",
       "    <tr>\n",
       "      <th>Suicide Attempt</th>\n",
       "      <td>7872</td>\n",
       "      <td>750</td>\n",
       "      <td>8622</td>\n",
       "    </tr>\n",
       "    <tr>\n",
       "      <th>Seeking Detox</th>\n",
       "      <td>13529</td>\n",
       "      <td>8016</td>\n",
       "      <td>21545</td>\n",
       "    </tr>\n",
       "    <tr>\n",
       "      <th>Alcohol Only(Age&lt;21)</th>\n",
       "      <td>7421</td>\n",
       "      <td>0</td>\n",
       "      <td>7421</td>\n",
       "    </tr>\n",
       "    <tr>\n",
       "      <th>Adverse Reaction</th>\n",
       "      <td>85777</td>\n",
       "      <td>2128</td>\n",
       "      <td>87905</td>\n",
       "    </tr>\n",
       "    <tr>\n",
       "      <th>Overmedication</th>\n",
       "      <td>16810</td>\n",
       "      <td>715</td>\n",
       "      <td>17525</td>\n",
       "    </tr>\n",
       "    <tr>\n",
       "      <th>Malicious Poisoning</th>\n",
       "      <td>768</td>\n",
       "      <td>56</td>\n",
       "      <td>824</td>\n",
       "    </tr>\n",
       "    <tr>\n",
       "      <th>Accidental Injestion</th>\n",
       "      <td>3125</td>\n",
       "      <td>0</td>\n",
       "      <td>3125</td>\n",
       "    </tr>\n",
       "    <tr>\n",
       "      <th>Other</th>\n",
       "      <td>83648</td>\n",
       "      <td>0</td>\n",
       "      <td>83648</td>\n",
       "    </tr>\n",
       "  </tbody>\n",
       "</table>\n",
       "</div>"
      ],
      "text/plain": [
       "                      Count_With_Other  Count_Without_Other  \\\n",
       "Suicide Attempt                   7872                  750   \n",
       "Seeking Detox                    13529                 8016   \n",
       "Alcohol Only(Age<21)              7421                    0   \n",
       "Adverse Reaction                 85777                 2128   \n",
       "Overmedication                   16810                  715   \n",
       "Malicious Poisoning                768                   56   \n",
       "Accidental Injestion              3125                    0   \n",
       "Other                            83648                    0   \n",
       "\n",
       "                      after_classification  \n",
       "Suicide Attempt                       8622  \n",
       "Seeking Detox                        21545  \n",
       "Alcohol Only(Age<21)                  7421  \n",
       "Adverse Reaction                     87905  \n",
       "Overmedication                       17525  \n",
       "Malicious Poisoning                    824  \n",
       "Accidental Injestion                  3125  \n",
       "Other                                83648  "
      ]
     },
     "execution_count": 30,
     "metadata": {},
     "output_type": "execute_result"
    }
   ],
   "source": [
    "df_casetype_count"
   ]
  },
  {
   "cell_type": "code",
   "execution_count": 24,
   "metadata": {},
   "outputs": [
    {
     "data": {
      "text/html": [
       "<div>\n",
       "<style scoped>\n",
       "    .dataframe tbody tr th:only-of-type {\n",
       "        vertical-align: middle;\n",
       "    }\n",
       "\n",
       "    .dataframe tbody tr th {\n",
       "        vertical-align: top;\n",
       "    }\n",
       "\n",
       "    .dataframe thead th {\n",
       "        text-align: right;\n",
       "    }\n",
       "</style>\n",
       "<table border=\"1\" class=\"dataframe\">\n",
       "  <thead>\n",
       "    <tr style=\"text-align: right;\">\n",
       "      <th></th>\n",
       "      <th>Classification</th>\n",
       "      <th>Casetype</th>\n",
       "      <th>Count</th>\n",
       "    </tr>\n",
       "  </thead>\n",
       "  <tbody>\n",
       "    <tr>\n",
       "      <th>0</th>\n",
       "      <td>Count_With_Other</td>\n",
       "      <td>Suicide Attempt</td>\n",
       "      <td>7872</td>\n",
       "    </tr>\n",
       "    <tr>\n",
       "      <th>1</th>\n",
       "      <td>Count_With_Other</td>\n",
       "      <td>Seeking Detox</td>\n",
       "      <td>13529</td>\n",
       "    </tr>\n",
       "    <tr>\n",
       "      <th>2</th>\n",
       "      <td>Count_With_Other</td>\n",
       "      <td>Alcohol Only(Age&lt;21)</td>\n",
       "      <td>7421</td>\n",
       "    </tr>\n",
       "    <tr>\n",
       "      <th>3</th>\n",
       "      <td>Count_With_Other</td>\n",
       "      <td>Adverse Reaction</td>\n",
       "      <td>85777</td>\n",
       "    </tr>\n",
       "    <tr>\n",
       "      <th>4</th>\n",
       "      <td>Count_With_Other</td>\n",
       "      <td>Overmedication</td>\n",
       "      <td>16810</td>\n",
       "    </tr>\n",
       "    <tr>\n",
       "      <th>5</th>\n",
       "      <td>Count_With_Other</td>\n",
       "      <td>Malicious Poisoning</td>\n",
       "      <td>768</td>\n",
       "    </tr>\n",
       "    <tr>\n",
       "      <th>6</th>\n",
       "      <td>Count_With_Other</td>\n",
       "      <td>Accidental Injestion</td>\n",
       "      <td>3125</td>\n",
       "    </tr>\n",
       "    <tr>\n",
       "      <th>7</th>\n",
       "      <td>Count_With_Other</td>\n",
       "      <td>Other</td>\n",
       "      <td>83648</td>\n",
       "    </tr>\n",
       "    <tr>\n",
       "      <th>8</th>\n",
       "      <td>Count_Without_Other</td>\n",
       "      <td>Suicide Attempt</td>\n",
       "      <td>750</td>\n",
       "    </tr>\n",
       "    <tr>\n",
       "      <th>9</th>\n",
       "      <td>Count_Without_Other</td>\n",
       "      <td>Seeking Detox</td>\n",
       "      <td>8016</td>\n",
       "    </tr>\n",
       "    <tr>\n",
       "      <th>10</th>\n",
       "      <td>Count_Without_Other</td>\n",
       "      <td>Alcohol Only(Age&lt;21)</td>\n",
       "      <td>0</td>\n",
       "    </tr>\n",
       "    <tr>\n",
       "      <th>11</th>\n",
       "      <td>Count_Without_Other</td>\n",
       "      <td>Adverse Reaction</td>\n",
       "      <td>2128</td>\n",
       "    </tr>\n",
       "    <tr>\n",
       "      <th>12</th>\n",
       "      <td>Count_Without_Other</td>\n",
       "      <td>Overmedication</td>\n",
       "      <td>715</td>\n",
       "    </tr>\n",
       "    <tr>\n",
       "      <th>13</th>\n",
       "      <td>Count_Without_Other</td>\n",
       "      <td>Malicious Poisoning</td>\n",
       "      <td>56</td>\n",
       "    </tr>\n",
       "    <tr>\n",
       "      <th>14</th>\n",
       "      <td>Count_Without_Other</td>\n",
       "      <td>Accidental Injestion</td>\n",
       "      <td>0</td>\n",
       "    </tr>\n",
       "    <tr>\n",
       "      <th>15</th>\n",
       "      <td>Count_Without_Other</td>\n",
       "      <td>Other</td>\n",
       "      <td>0</td>\n",
       "    </tr>\n",
       "  </tbody>\n",
       "</table>\n",
       "</div>"
      ],
      "text/plain": [
       "         Classification              Casetype  Count\n",
       "0      Count_With_Other       Suicide Attempt   7872\n",
       "1      Count_With_Other         Seeking Detox  13529\n",
       "2      Count_With_Other  Alcohol Only(Age<21)   7421\n",
       "3      Count_With_Other      Adverse Reaction  85777\n",
       "4      Count_With_Other        Overmedication  16810\n",
       "5      Count_With_Other   Malicious Poisoning    768\n",
       "6      Count_With_Other  Accidental Injestion   3125\n",
       "7      Count_With_Other                 Other  83648\n",
       "8   Count_Without_Other       Suicide Attempt    750\n",
       "9   Count_Without_Other         Seeking Detox   8016\n",
       "10  Count_Without_Other  Alcohol Only(Age<21)      0\n",
       "11  Count_Without_Other      Adverse Reaction   2128\n",
       "12  Count_Without_Other        Overmedication    715\n",
       "13  Count_Without_Other   Malicious Poisoning     56\n",
       "14  Count_Without_Other  Accidental Injestion      0\n",
       "15  Count_Without_Other                 Other      0"
      ]
     },
     "execution_count": 24,
     "metadata": {},
     "output_type": "execute_result"
    }
   ],
   "source": [
    "df_final = df_casetype_count.unstack()\\\n",
    "    .reset_index()\\\n",
    "    .rename(columns={'level_0':'Classification', 'level_1':'Casetype', 0: 'Count'})"
   ]
  },
  {
   "cell_type": "code",
   "execution_count": null,
   "metadata": {},
   "outputs": [],
   "source": []
  }
 ],
 "metadata": {
  "kernelspec": {
   "display_name": "Python 3.10.6 ('ds')",
   "language": "python",
   "name": "python3"
  },
  "language_info": {
   "codemirror_mode": {
    "name": "ipython",
    "version": 3
   },
   "file_extension": ".py",
   "mimetype": "text/x-python",
   "name": "python",
   "nbconvert_exporter": "python",
   "pygments_lexer": "ipython3",
   "version": "3.10.6"
  },
  "orig_nbformat": 4,
  "vscode": {
   "interpreter": {
    "hash": "7f9afca31083f2c8560cae21b50c4c7d1f45f3a19df40c364096a53d33977427"
   }
  }
 },
 "nbformat": 4,
 "nbformat_minor": 2
}
