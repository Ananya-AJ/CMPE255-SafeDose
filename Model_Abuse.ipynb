{
  "cells": [
    {
      "cell_type": "markdown",
      "metadata": {
        "id": "view-in-github",
        "colab_type": "text"
      },
      "source": [
        "<a href=\"https://colab.research.google.com/github/Ananya-AJ/CMPE255-SafeDose/blob/main/Model_Abuse.ipynb\" target=\"_parent\"><img src=\"https://colab.research.google.com/assets/colab-badge.svg\" alt=\"Open In Colab\"/></a>"
      ]
    },
    {
      "cell_type": "markdown",
      "source": [
        "\n",
        "\n",
        "---\n",
        "**This notebook presents the models used to identify the types of substances abused in a medical case reported to the ED. \n",
        "It is a multilabel classification problem as there can be more than one substance abuses occuring in a single case.\n",
        "The best performing model is trained on the train set and evaluated on the test set using f1 and recall metrics.**\n",
        "\n",
        "\n",
        "---\n"
      ],
      "metadata": {
        "id": "bdfFLEIOpCm8"
      }
    },
    {
      "cell_type": "code",
      "source": [
        "!pip install multilabel_knn\n",
        "!pip install evaluations"
      ],
      "metadata": {
        "colab": {
          "base_uri": "https://localhost:8080/"
        },
        "id": "OUvPc9YSrx7W",
        "outputId": "0ed4e96b-e075-4307-f0eb-651591c2dc8e"
      },
      "execution_count": 2,
      "outputs": [
        {
          "output_type": "stream",
          "name": "stdout",
          "text": [
            "Looking in indexes: https://pypi.org/simple, https://us-python.pkg.dev/colab-wheels/public/simple/\n",
            "Requirement already satisfied: multilabel_knn in /usr/local/lib/python3.8/dist-packages (0.0.5)\n",
            "Requirement already satisfied: scipy in /usr/local/lib/python3.8/dist-packages (from multilabel_knn) (1.7.3)\n",
            "Requirement already satisfied: numpy in /usr/local/lib/python3.8/dist-packages (from multilabel_knn) (1.21.6)\n",
            "Requirement already satisfied: faiss-gpu==1.6.5 in /usr/local/lib/python3.8/dist-packages (from multilabel_knn) (1.6.5)\n",
            "Requirement already satisfied: scikit-learn in /usr/local/lib/python3.8/dist-packages (from multilabel_knn) (1.0.2)\n",
            "Requirement already satisfied: numba in /usr/local/lib/python3.8/dist-packages (from multilabel_knn) (0.56.4)\n",
            "Requirement already satisfied: setuptools in /usr/local/lib/python3.8/dist-packages (from numba->multilabel_knn) (57.4.0)\n",
            "Requirement already satisfied: llvmlite<0.40,>=0.39.0dev0 in /usr/local/lib/python3.8/dist-packages (from numba->multilabel_knn) (0.39.1)\n",
            "Requirement already satisfied: importlib-metadata in /usr/local/lib/python3.8/dist-packages (from numba->multilabel_knn) (4.13.0)\n",
            "Requirement already satisfied: zipp>=0.5 in /usr/local/lib/python3.8/dist-packages (from importlib-metadata->numba->multilabel_knn) (3.11.0)\n",
            "Requirement already satisfied: joblib>=0.11 in /usr/local/lib/python3.8/dist-packages (from scikit-learn->multilabel_knn) (1.2.0)\n",
            "Requirement already satisfied: threadpoolctl>=2.0.0 in /usr/local/lib/python3.8/dist-packages (from scikit-learn->multilabel_knn) (3.1.0)\n",
            "Looking in indexes: https://pypi.org/simple, https://us-python.pkg.dev/colab-wheels/public/simple/\n",
            "Collecting evaluations\n",
            "  Downloading evaluations-0.0.5-py3-none-any.whl (13 kB)\n",
            "Installing collected packages: evaluations\n",
            "Successfully installed evaluations-0.0.5\n"
          ]
        }
      ]
    },
    {
      "cell_type": "code",
      "execution_count": 14,
      "metadata": {
        "id": "fzXY-egaCWYq"
      },
      "outputs": [],
      "source": [
        "# Import libraries\n",
        "from google.colab import drive\n",
        "\n",
        "import pandas as pd\n",
        "import numpy as np\n",
        "import lzma\n",
        "import pickle\n",
        "\n",
        "from sklearn.metrics import f1_score, accuracy_score, recall_score\n",
        "\n",
        "from sklearn.ensemble import RandomForestClassifier\n",
        "from sklearn.multioutput import MultiOutputClassifier\n",
        "import multilabel_knn as mlk"
      ]
    },
    {
      "cell_type": "code",
      "execution_count": 4,
      "metadata": {
        "colab": {
          "base_uri": "https://localhost:8080/"
        },
        "id": "2UlYxATZGeYx",
        "outputId": "7b841885-fb98-419f-e698-de36cbc875b7"
      },
      "outputs": [
        {
          "output_type": "stream",
          "name": "stdout",
          "text": [
            "Mounted at /content/drive/\n"
          ]
        }
      ],
      "source": [
        "drive.mount('/content/drive/')"
      ]
    },
    {
      "cell_type": "markdown",
      "source": [
        "### Import data"
      ],
      "metadata": {
        "id": "VkNhyMaGqjQN"
      }
    },
    {
      "cell_type": "code",
      "execution_count": 5,
      "metadata": {
        "id": "mn-TrQliGkwl"
      },
      "outputs": [],
      "source": [
        "# Read train and test data\n",
        "abuse_train = pd.read_csv('/content/drive/Shareddrives/CMPE255/data/dimensionality_reduction/X_train_abuse.csv')\n",
        "abuse_test = pd.read_csv('/content/drive/Shareddrives/CMPE255/data/dimensionality_reduction/X_test_abuse.csv')"
      ]
    },
    {
      "cell_type": "code",
      "execution_count": 6,
      "metadata": {
        "id": "KZS1b1oZGuV5"
      },
      "outputs": [],
      "source": [
        "# Drop index column\n",
        "abuse_x_train = abuse_train.iloc[:, 1:]\n",
        "abuse_x_test = abuse_train.iloc[:, 1:]"
      ]
    },
    {
      "cell_type": "markdown",
      "source": [
        "### Create train and test sets"
      ],
      "metadata": {
        "id": "_QCfOYK2rHY9"
      }
    },
    {
      "cell_type": "code",
      "execution_count": 7,
      "metadata": {
        "id": "KFrrCyMeHoaa"
      },
      "outputs": [],
      "source": [
        "# Create X and y from train and test set\n",
        "x_train_data = abuse_x_train.drop(['ALLABUSE','NONALCILL','ALCOHOL','NONMEDPHARMA','PHARMA'], axis = 1)\n",
        "y_train_labels = abuse_x_train[['ALLABUSE','NONALCILL','ALCOHOL','NONMEDPHARMA','PHARMA']]\n",
        "\n",
        "x_test_data = abuse_x_test.drop(['ALLABUSE','NONALCILL','ALCOHOL','NONMEDPHARMA','PHARMA'], axis = 1)\n",
        "y_test_labels = abuse_x_test[['ALLABUSE','NONALCILL','ALCOHOL','NONMEDPHARMA','PHARMA']]"
      ]
    },
    {
      "cell_type": "markdown",
      "source": [
        "### Random Forest Classifier"
      ],
      "metadata": {
        "id": "FFUX39fxrOzU"
      }
    },
    {
      "cell_type": "code",
      "execution_count": 8,
      "metadata": {
        "id": "Q5kEFAVDH8tE"
      },
      "outputs": [],
      "source": [
        "# RandomForestClassifier for multilabl classification\n",
        "forest = RandomForestClassifier(n_estimators = 30, random_state = 1)\n",
        "multi_target_forest = MultiOutputClassifier(forest, n_jobs = 10)\n",
        "\n",
        "# Fit on training set\n",
        "multi_target_forest.fit(x_train_data, y_train_labels)\n",
        "\n",
        "# Predcit in test set\n",
        "predictions = multi_target_forest.predict(x_test_data)"
      ]
    },
    {
      "cell_type": "code",
      "execution_count": null,
      "metadata": {
        "colab": {
          "background_save": true
        },
        "id": "hnlrYz-OILXW"
      },
      "outputs": [],
      "source": [
        "# Save model\n",
        "pickle.dump(multi_target_forest, open('/content/drive/Shareddrives/CMPE255/pickles/randomclassifier.pkl', 'wb'))\n",
        "\n",
        "# Compress model pickle\n",
        "with lzma.open(\"/content/drive/Shareddrives/CMPE255/pickles/compressed_randomclassifier_pickle.xz\", \"wb\") as f:\n",
        "    pickle.dump(multi_target_forest, f)"
      ]
    },
    {
      "cell_type": "code",
      "source": [
        "# Calculate metrics on test set\n",
        "accuracy = accuracy_score(y_test_labels, np.array(predictions))\n",
        "f1 = f1_score(y_test_labels, predictions, average = 'macro')\n",
        "recall = recall_score(y_test_labels, predictions, average = 'macro')"
      ],
      "metadata": {
        "id": "UvTC59Xmr6Uc"
      },
      "execution_count": 9,
      "outputs": []
    },
    {
      "cell_type": "code",
      "source": [
        "print('F1 score = ', f1)\n",
        "print('Recall = ', recall)"
      ],
      "metadata": {
        "colab": {
          "base_uri": "https://localhost:8080/"
        },
        "id": "XdfhHh2Mr7IW",
        "outputId": "f3b77ac2-1e01-415a-bd44-98ddeef647a5"
      },
      "execution_count": 10,
      "outputs": [
        {
          "output_type": "stream",
          "name": "stdout",
          "text": [
            "F1 score =  0.9999547198732006\n",
            "Recall =  0.9999160317933239\n"
          ]
        }
      ]
    },
    {
      "cell_type": "markdown",
      "source": [
        "## K Neighbors Classifier"
      ],
      "metadata": {
        "id": "stNIkhLdrgJu"
      }
    },
    {
      "cell_type": "code",
      "source": [
        "# Convert dataframes to numpy arrays for input to multilabel_knn\n",
        "x_train_data_np = np.array(x_train_data).copy(order = 'C')\n",
        "y_train_labels_np = np.array(y_train_labels).copy(order = 'C')\n",
        "\n",
        "x_test_data_np = np.array(x_test_data).copy(order = 'C')\n",
        "y_test_labels_np = np.array(y_test_labels).copy(order = 'C')"
      ],
      "metadata": {
        "id": "cGFtYiSA5shg"
      },
      "execution_count": 11,
      "outputs": []
    },
    {
      "cell_type": "code",
      "source": [
        "# Multilabel KNN\n",
        "model = mlk.multilabel_kNN(k = 10, metric = 'cosine')\n",
        "model.fit(x_train_data_np, y_train_labels_np)\n",
        "\n",
        "# Predict probabilities of labels on test set\n",
        "Y_prob = model.predict(x_test_data_np, return_prob = True)\n",
        "\n",
        "# Get labels on test set\n",
        "Y_pred = model.predict(x_test_data_np)\n",
        "\n",
        "# Calculate f1 score on test set\n",
        "f1 = mlk.evaluation.macro_f1score(y_test_labels_np, Y_pred)"
      ],
      "metadata": {
        "id": "_RSMM5iV5CsM"
      },
      "execution_count": 12,
      "outputs": []
    },
    {
      "cell_type": "code",
      "source": [
        "print('f1 score = ', f1)"
      ],
      "metadata": {
        "colab": {
          "base_uri": "https://localhost:8080/"
        },
        "id": "P-5JoxKL6Sys",
        "outputId": "2b21e0c5-7733-4e66-c2a5-5e840f7f64a8"
      },
      "execution_count": 13,
      "outputs": [
        {
          "output_type": "stream",
          "name": "stdout",
          "text": [
            "f1 score =  0.9999547198732006\n"
          ]
        }
      ]
    },
    {
      "cell_type": "markdown",
      "source": [
        "From the above two models, RandomClassifier gives the best performance in terms of f1 score and recall as compared to KneighboursClassifier. Hence, going forward we will use RandomForest to make identify abuse labels on user input data."
      ],
      "metadata": {
        "id": "ShRCC_mYu0vi"
      }
    },
    {
      "cell_type": "code",
      "source": [],
      "metadata": {
        "id": "j9phlwGhvMMK"
      },
      "execution_count": null,
      "outputs": []
    }
  ],
  "metadata": {
    "colab": {
      "provenance": [],
      "include_colab_link": true
    },
    "gpuClass": "standard",
    "kernelspec": {
      "display_name": "Python 3",
      "name": "python3"
    },
    "language_info": {
      "name": "python"
    }
  },
  "nbformat": 4,
  "nbformat_minor": 0
}