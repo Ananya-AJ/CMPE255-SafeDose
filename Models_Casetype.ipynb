{
  "nbformat": 4,
  "nbformat_minor": 0,
  "metadata": {
    "colab": {
      "provenance": [],
      "authorship_tag": "ABX9TyOOMXBsEp2kzQ4HEhAjWizO",
      "include_colab_link": true
    },
    "kernelspec": {
      "name": "python3",
      "display_name": "Python 3"
    },
    "language_info": {
      "name": "python"
    },
    "gpuClass": "standard"
  },
  "cells": [
    {
      "cell_type": "markdown",
      "metadata": {
        "id": "view-in-github",
        "colab_type": "text"
      },
      "source": [
        "<a href=\"https://colab.research.google.com/github/Ananya-AJ/CMPE255-SafeDose/blob/main/Models_Casetype.ipynb\" target=\"_parent\"><img src=\"https://colab.research.google.com/assets/colab-badge.svg\" alt=\"Open In Colab\"/></a>"
      ]
    },
    {
      "cell_type": "markdown",
      "source": [
        "\n",
        "\n",
        "---\n",
        "\n",
        "**This colab implements Multiclass classification algorithms to determine the type of case for those that are marked as 'Others' in the original dataset. The aim is to overcome the limitations of manually determining the type of case  due to incomplete/ explicit documentation of substance abuse. Several algorithms are tried and tested for performance, finally selecting the RandomForestCalssifier for predicting on the test set.**\n",
        "\n",
        "\n",
        "---\n"
      ],
      "metadata": {
        "id": "WB0hEqN7_m2z"
      }
    },
    {
      "cell_type": "code",
      "execution_count": 1,
      "metadata": {
        "id": "28Qi-FJEhU0Z"
      },
      "outputs": [],
      "source": [
        "# Import libraries\n",
        "from google.colab import drive\n",
        "import numpy as np\n",
        "import pandas as pd\n",
        "import seaborn as sns\n",
        "import matplotlib.pyplot as plt  \n",
        "\n",
        "from sklearn.linear_model import LogisticRegression\n",
        "from lightgbm import LGBMClassifier\n",
        "from sklearn.ensemble import RandomForestClassifier\n",
        "from sklearn.multioutput import MultiOutputClassifier\n",
        "from sklearn.naive_bayes import GaussianNB\n",
        "from sklearn.neighbors import KNeighborsClassifier\n",
        "\n",
        "from sklearn.metrics import classification_report, precision_score, f1_score, confusion_matrix\n",
        "from sklearn.model_selection import train_test_split\n",
        "from imblearn.over_sampling import SMOTE"
      ]
    },
    {
      "cell_type": "code",
      "source": [
        "drive.mount('/content/drive')"
      ],
      "metadata": {
        "colab": {
          "base_uri": "https://localhost:8080/"
        },
        "id": "SN8RX-DShe3i",
        "outputId": "b2f962aa-3682-4e7c-ed25-ead79283abf6"
      },
      "execution_count": 2,
      "outputs": [
        {
          "output_type": "stream",
          "name": "stdout",
          "text": [
            "Mounted at /content/drive\n"
          ]
        }
      ]
    },
    {
      "cell_type": "markdown",
      "source": [
        "### Import data"
      ],
      "metadata": {
        "id": "mHmL8wcxL6pm"
      }
    },
    {
      "cell_type": "code",
      "source": [
        "# Read train and test data\n",
        "c_train = pd.read_csv('/content/drive/Shareddrives/CMPE255/data/dimensionality_reduction/X_train_casetype.csv')\n",
        "c_test = pd.read_csv('/content/drive/Shareddrives/CMPE255/data/dimensionality_reduction/X_test_casetype.csv')\n",
        "c_train = c_train.iloc[:, 1:]\n",
        "c_test = c_test.iloc[:, 1:]\n",
        "\n",
        "columns = ['CASETYPE_1', 'CASETYPE_2', 'CASETYPE_3', 'CASETYPE_4', 'CASETYPE_5', 'CASETYPE_6', 'CASETYPE_7']\n",
        "\n",
        "# Get X and y from train and test\n",
        "c_X_train = c_train.drop(columns, axis = 1)\n",
        "c_y_train = c_train[columns]\n",
        "\n",
        "X_test = c_test.drop(['CASETYPE_8'], axis = 1)\n",
        "\n",
        "# Reverse one hot encoding on casetype\n",
        "c_y_train['target'] = pd.get_dummies(c_y_train[columns]).idxmax(1)\n",
        "c_y_train.drop(columns, axis = 1, inplace = True)"
      ],
      "metadata": {
        "id": "FTPqbo9ajALb",
        "colab": {
          "base_uri": "https://localhost:8080/"
        },
        "outputId": "cd3cd750-670b-42f8-ed3e-1f47d825b500"
      },
      "execution_count": 3,
      "outputs": [
        {
          "output_type": "stream",
          "name": "stderr",
          "text": [
            "<ipython-input-3-0bbf0ffaeb6c>:16: SettingWithCopyWarning: \n",
            "A value is trying to be set on a copy of a slice from a DataFrame.\n",
            "Try using .loc[row_indexer,col_indexer] = value instead\n",
            "\n",
            "See the caveats in the documentation: https://pandas.pydata.org/pandas-docs/stable/user_guide/indexing.html#returning-a-view-versus-a-copy\n",
            "  c_y_train['target'] = pd.get_dummies(c_y_train[columns]).idxmax(1)\n",
            "/usr/local/lib/python3.8/dist-packages/pandas/core/frame.py:4906: SettingWithCopyWarning: \n",
            "A value is trying to be set on a copy of a slice from a DataFrame\n",
            "\n",
            "See the caveats in the documentation: https://pandas.pydata.org/pandas-docs/stable/user_guide/indexing.html#returning-a-view-versus-a-copy\n",
            "  return super().drop(\n"
          ]
        }
      ]
    },
    {
      "cell_type": "code",
      "source": [
        "# Check the target class counts\n",
        "c_y_train.target.value_counts()"
      ],
      "metadata": {
        "colab": {
          "base_uri": "https://localhost:8080/"
        },
        "id": "Rk63pB-C7LZU",
        "outputId": "97515fa4-ce83-4c39-943d-28eeb335c9ef"
      },
      "execution_count": 4,
      "outputs": [
        {
          "output_type": "execute_result",
          "data": {
            "text/plain": [
              "CASETYPE_4    85777\n",
              "CASETYPE_5    16810\n",
              "CASETYPE_2    13529\n",
              "CASETYPE_1     7872\n",
              "CASETYPE_3     7421\n",
              "CASETYPE_7     3125\n",
              "CASETYPE_6      768\n",
              "Name: target, dtype: int64"
            ]
          },
          "metadata": {},
          "execution_count": 4
        }
      ]
    },
    {
      "cell_type": "markdown",
      "source": [
        "Performing SMOTE (Synthetic Minority Oversampling Technique) due to the class imbalance of CASETYPE. Oversampling ensures that they are near equal number of records for every CASETYPE which prevents bias towards the majority class and reduces possibility of poor classification of the minority classes."
      ],
      "metadata": {
        "id": "9MQg7RBQ7Rr4"
      }
    },
    {
      "cell_type": "markdown",
      "source": [
        "### Oversample using SMOTE"
      ],
      "metadata": {
        "id": "KMcAixp_4idL"
      }
    },
    {
      "cell_type": "code",
      "source": [
        "# SMOTE\n",
        "sm = SMOTE(random_state = 42)\n",
        "X_smote, y_smote = sm.fit_resample(c_X_train, c_y_train)"
      ],
      "metadata": {
        "id": "KDO513gxrVoR"
      },
      "execution_count": 5,
      "outputs": []
    },
    {
      "cell_type": "code",
      "source": [
        "# Split train into train and validation set\n",
        "X_train, X_val, y_train, y_val = train_test_split(X_smote, y_smote, test_size = 0.2, shuffle = True, stratify = y_smote, random_state = 42)"
      ],
      "metadata": {
        "id": "x2lP_1z2khhs"
      },
      "execution_count": 6,
      "outputs": []
    },
    {
      "cell_type": "code",
      "source": [
        "print('Shape before oversampling')\n",
        "print('X_train = ', c_X_train.shape)\n",
        "\n",
        "print('Shape after oversampling and splitting into train and validation sets')\n",
        "print('X_train = ', X_train.shape)\n",
        "print('X_val = ', X_val.shape)"
      ],
      "metadata": {
        "colab": {
          "base_uri": "https://localhost:8080/"
        },
        "id": "JLjnI_EXrfut",
        "outputId": "1f9e6cb0-d0e4-4e42-9fa8-436b44c679e7"
      },
      "execution_count": 7,
      "outputs": [
        {
          "output_type": "stream",
          "name": "stdout",
          "text": [
            "Shape before oversampling\n",
            "X_train =  (135302, 39)\n",
            "Shape after oversampling and splitting into train and validation sets\n",
            "X_train =  (480351, 39)\n",
            "X_val =  (120088, 39)\n"
          ]
        }
      ]
    },
    {
      "cell_type": "code",
      "source": [
        "y_train.target.value_counts()"
      ],
      "metadata": {
        "colab": {
          "base_uri": "https://localhost:8080/"
        },
        "id": "-udkX0YM3LjP",
        "outputId": "fdca078e-78cd-4f11-b6d6-e36811b6c24e"
      },
      "execution_count": 8,
      "outputs": [
        {
          "output_type": "execute_result",
          "data": {
            "text/plain": [
              "CASETYPE_1    68622\n",
              "CASETYPE_6    68622\n",
              "CASETYPE_3    68622\n",
              "CASETYPE_2    68622\n",
              "CASETYPE_4    68621\n",
              "CASETYPE_5    68621\n",
              "CASETYPE_7    68621\n",
              "Name: target, dtype: int64"
            ]
          },
          "metadata": {},
          "execution_count": 8
        }
      ]
    },
    {
      "cell_type": "markdown",
      "source": [
        "The target classes in the training set are now balanced."
      ],
      "metadata": {
        "id": "zFIv_1BJ8oDG"
      }
    },
    {
      "cell_type": "code",
      "source": [
        "# Create dictionary to store best parameter set and f1 score obtained from every model\n",
        "models = ['NaiveBayes', 'LogisticRegression', 'LightGBM', 'RandomForest', 'KneighborsClassifier']\n",
        "model_performance = {k:{} for k in models}"
      ],
      "metadata": {
        "id": "OfP785Ob8kS4"
      },
      "execution_count": 9,
      "outputs": []
    },
    {
      "cell_type": "markdown",
      "source": [
        "### Naive Bayes"
      ],
      "metadata": {
        "id": "3DeTVpjl1GR_"
      }
    },
    {
      "cell_type": "code",
      "source": [
        "# Naive Bayes Classifier\n",
        "nb = GaussianNB()\n",
        "nb.fit(X_train, y_train)\n",
        "\n",
        "# Predcit on validation set\n",
        "y_pred_val = nb.predict(X_val)\n",
        "\n",
        "# Calculate precision on validation set\n",
        "f1 = f1_score(y_val, y_pred_val, average = 'macro')\n",
        "precision = precision_score(y_val, y_pred_val, average = 'macro')\n",
        "\n",
        "# Save metrics to dictionary\n",
        "model_performance['NaiveBayes'] = {'prec':precision, 'f1':f1}"
      ],
      "metadata": {
        "id": "-46njZm01SHP",
        "colab": {
          "base_uri": "https://localhost:8080/"
        },
        "outputId": "23a78a33-44b6-4842-ba38-1fcdba0f994b"
      },
      "execution_count": 10,
      "outputs": [
        {
          "output_type": "stream",
          "name": "stderr",
          "text": [
            "/usr/local/lib/python3.8/dist-packages/sklearn/utils/validation.py:993: DataConversionWarning: A column-vector y was passed when a 1d array was expected. Please change the shape of y to (n_samples, ), for example using ravel().\n",
            "  y = column_or_1d(y, warn=True)\n"
          ]
        }
      ]
    },
    {
      "cell_type": "markdown",
      "source": [
        "### Logistic Regression"
      ],
      "metadata": {
        "id": "Ot9ELuduEsnT"
      }
    },
    {
      "cell_type": "code",
      "source": [
        "# Logistic Regression\n",
        "lr = LogisticRegression()\n",
        "lr.fit(X_train, y_train)\n",
        "\n",
        "# Predict on validation set\n",
        "y_pred_val = lr.predict(X_val)\n",
        "\n",
        "# Calculate precision and f1 score on validation set\n",
        "f1 = f1_score(y_val, y_pred_val, average = 'macro')\n",
        "precision = precision_score(y_val, y_pred_val, average = 'macro')\n",
        "\n",
        "# Save metrics to dictionary\n",
        "model_performance['LogisticRegression'] = {'prec':precision, 'f1':f1}"
      ],
      "metadata": {
        "id": "uTH_JO8mcAMW",
        "colab": {
          "base_uri": "https://localhost:8080/"
        },
        "outputId": "2f8537ba-9991-486f-dbf4-f667a504ab90"
      },
      "execution_count": 11,
      "outputs": [
        {
          "output_type": "stream",
          "name": "stderr",
          "text": [
            "/usr/local/lib/python3.8/dist-packages/sklearn/utils/validation.py:993: DataConversionWarning: A column-vector y was passed when a 1d array was expected. Please change the shape of y to (n_samples, ), for example using ravel().\n",
            "  y = column_or_1d(y, warn=True)\n",
            "/usr/local/lib/python3.8/dist-packages/sklearn/linear_model/_logistic.py:814: ConvergenceWarning: lbfgs failed to converge (status=1):\n",
            "STOP: TOTAL NO. of ITERATIONS REACHED LIMIT.\n",
            "\n",
            "Increase the number of iterations (max_iter) or scale the data as shown in:\n",
            "    https://scikit-learn.org/stable/modules/preprocessing.html\n",
            "Please also refer to the documentation for alternative solver options:\n",
            "    https://scikit-learn.org/stable/modules/linear_model.html#logistic-regression\n",
            "  n_iter_i = _check_optimize_result(\n"
          ]
        }
      ]
    },
    {
      "cell_type": "markdown",
      "source": [
        "### KNN"
      ],
      "metadata": {
        "id": "e6llX9Uv1gQB"
      }
    },
    {
      "cell_type": "code",
      "source": [
        "# KneighborsClassifier \n",
        "knn = KNeighborsClassifier(n_neighbors = 4, n_jobs = -1)\n",
        "knn.fit(X_train, y_train)\n",
        "\n",
        "# Predict on validation set\n",
        "y_pred_val = knn.predict(X_val)\n",
        "\n",
        "# Calculate precision and f1 score on validation set\n",
        "f1 = f1_score(y_val, y_pred_val, average = 'macro')\n",
        "precision = precision_score(y_val, y_pred_val, average = 'macro')\n",
        "\n",
        "# Save metrics in dictionary\n",
        "model_performance['KneighborsClassifier'] = {'prec':precision, 'f1':f1}"
      ],
      "metadata": {
        "id": "j1fTCqzS1ux5"
      },
      "execution_count": null,
      "outputs": []
    },
    {
      "cell_type": "markdown",
      "source": [
        "### Light GBM"
      ],
      "metadata": {
        "id": "84rKBkijgoxv"
      }
    },
    {
      "cell_type": "code",
      "source": [
        "# LightGBM\n",
        "gbc = LGBMClassifier(n_estimators = 100, learning_rate = 0.01, max_depth = 5, random_state = 11)\n",
        "gbc.fit(X_train, y_train.values.ravel())\n",
        "\n",
        "# Predict on validation\n",
        "y_pred_val = gbc.predict(X_val)\n",
        "\n",
        "# Calculate precision and f1 score on validation set\n",
        "precision = precision_score(y_val, y_pred_val, average = 'macro')\n",
        "f1 = f1_score(y_val, y_pred_val, average = 'macro')\n",
        "\n",
        "# Store metrics in dict\n",
        "model_performance['LightGBM'] = {'prec':precision, 'f1':f1}"
      ],
      "metadata": {
        "id": "Q0FIBBL72iqC"
      },
      "execution_count": 12,
      "outputs": []
    },
    {
      "cell_type": "markdown",
      "source": [
        "### Random Forest"
      ],
      "metadata": {
        "id": "Js1u--vQH0Fr"
      }
    },
    {
      "cell_type": "code",
      "source": [
        "# Random Forest Classifier\n",
        "forest = RandomForestClassifier(n_estimators = 10, min_samples_leaf = 1, min_samples_split = 2, random_state = 1)\n",
        "multi_target_forest = MultiOutputClassifier(forest, n_jobs = -1)\n",
        "\n",
        "# Fit on train set\n",
        "multi_target_forest.fit(X_train, y_train)\n",
        "\n",
        "# Predict on validation\n",
        "y_pred_val = multi_target_forest.predict(X_val)\n",
        "\n",
        "# Calculate precision and f1 score on validation set\n",
        "f1 = f1_score(y_val, y_pred_val, average = 'macro')\n",
        "precision = precision_score(y_val, y_pred_val, average = 'macro')\n",
        "\n",
        "# Store in dict\n",
        "model_performance['RandomForest'] = {'prec':precision, 'f1':f1}"
      ],
      "metadata": {
        "id": "rpROyQS3dFCJ"
      },
      "execution_count": 13,
      "outputs": []
    },
    {
      "cell_type": "markdown",
      "source": [
        "### Choose best performing model"
      ],
      "metadata": {
        "id": "hIeqxvJDLT-b"
      }
    },
    {
      "cell_type": "markdown",
      "source": [
        " In predicting casetypes, precision is an important metric as the type of case would determine the next steps of treatment for the patient. Precision score tells us out of the predicted true/positive cases, how many were actually true/ positive for that particular casetype. Recall should also be considered as it is important that out of the actual positive case of each casetype, how many were correctly identified, which is given by recall. However, precision is more significant in our case, and hence precision is the primary metric and F1 score is the secondary metric."
      ],
      "metadata": {
        "id": "anQlhlWw9iPg"
      }
    },
    {
      "cell_type": "code",
      "source": [
        "# Determine the best performing model from the model_performance dictionary\n",
        "model_performance"
      ],
      "metadata": {
        "colab": {
          "base_uri": "https://localhost:8080/"
        },
        "id": "1enBezgU_hOC",
        "outputId": "725d812a-ef03-4a15-9fb1-3509dd1b4ff5"
      },
      "execution_count": 14,
      "outputs": [
        {
          "output_type": "execute_result",
          "data": {
            "text/plain": [
              "{'NaiveBayes': {'prec': 0.7597630201738594, 'f1': 0.7540000321683821},\n",
              " 'LogisticRegression': {'prec': 0.8170836211760693, 'f1': 0.8177302580525124},\n",
              " 'LightGBM': {'prec': 0.808815577337722, 'f1': 0.8067369922688045},\n",
              " 'RandomForest': {'prec': 0.9690990223091378, 'f1': 0.9688343677819456},\n",
              " 'KneighborsClassifier': {}}"
            ]
          },
          "metadata": {},
          "execution_count": 14
        }
      ]
    },
    {
      "cell_type": "markdown",
      "source": [
        "###  Prediction on validation set using the chosen model, and metrics"
      ],
      "metadata": {
        "id": "m7b8_4ckMFnO"
      }
    },
    {
      "cell_type": "code",
      "source": [
        "# Predict on validation\n",
        "y_pred_val = multi_target_forest.predict(X_val)\n",
        "\n",
        "# Prediction on test set\n",
        "y_pred_test = multi_target_forest.predict(X_test)"
      ],
      "metadata": {
        "id": "ix_rKwDIBi7x"
      },
      "execution_count": 15,
      "outputs": []
    },
    {
      "cell_type": "code",
      "source": [
        "# Create dataframes for predicted casetype and actual casetype\n",
        "predictions_test = pd.DataFrame(list(y_pred_test), columns = ['PRED_CASETYPE'])\n",
        "predictions_val = pd.DataFrame(list(y_pred_val), columns = ['PRED_CASETYPE'])\n",
        "\n",
        "casetypes = {\n",
        "    'CASETYPE_1' : 'Suicide Attempt',\n",
        "    'CASETYPE_2' : 'Seeking Detox',\n",
        "    'CASETYPE_3' : 'Alcohol consumed below 21 years',\n",
        "    'CASETYPE_4' : 'Adverse Reaction',\n",
        "    'CASETYPE_5' : 'Overmedication',\n",
        "    'CASETYPE_6' : 'Malicious Poisoning',\n",
        "    'CASETYPE_7': 'Accidental Ingestion'\n",
        "}\n",
        "\n",
        "# Map casetype number to casetype name\n",
        "predictions_test['PRED_CASETYPE'] = predictions_test['PRED_CASETYPE'].map(casetypes)\n",
        "predictions_val['PRED_CASETYPE'] = predictions_val['PRED_CASETYPE'].map(casetypes)\n",
        "\n",
        "y_val['target'] = y_val['target'].map(casetypes)"
      ],
      "metadata": {
        "id": "brVZRo1JRR2i"
      },
      "execution_count": 16,
      "outputs": []
    },
    {
      "cell_type": "markdown",
      "source": [
        "This is the classifciation of the casetypes of the 'other' category. Since the target casetypes are unavailable, we look at the precision and f1 score on the validation set."
      ],
      "metadata": {
        "id": "_Op6I0fFdMWl"
      }
    },
    {
      "cell_type": "code",
      "source": [
        "# Classification  report\n",
        "print(classification_report(y_val, predictions_val))"
      ],
      "metadata": {
        "colab": {
          "base_uri": "https://localhost:8080/"
        },
        "id": "XG6jzD_NNSMI",
        "outputId": "aba07ca3-08ac-45d1-982e-75cf8f800f0f"
      },
      "execution_count": 18,
      "outputs": [
        {
          "output_type": "stream",
          "name": "stdout",
          "text": [
            "                                 precision    recall  f1-score   support\n",
            "\n",
            "           Accidental Ingestion       0.98      0.98      0.98     17156\n",
            "               Adverse Reaction       0.95      0.90      0.92     17156\n",
            "Alcohol consumed below 21 years       1.00      1.00      1.00     17155\n",
            "            Malicious Poisoning       0.99      1.00      1.00     17155\n",
            "                 Overmedication       1.00      0.99      1.00     17156\n",
            "                  Seeking Detox       0.96      0.96      0.96     17155\n",
            "                Suicide Attempt       0.91      0.95      0.93     17155\n",
            "\n",
            "                       accuracy                           0.97    120088\n",
            "                      macro avg       0.97      0.97      0.97    120088\n",
            "                   weighted avg       0.97      0.97      0.97    120088\n",
            "\n"
          ]
        }
      ]
    },
    {
      "cell_type": "code",
      "source": [
        "# Confusion matrix \n",
        "\n",
        "cm = confusion_matrix(y_val, predictions_val)\n",
        "labels = ['Accidental Ingestion', 'Adverse Reaction', 'Alcohol consumed below 21 years', 'Malicious Poisoning', 'Overmedication', 'Seeking Detox', 'Suicide Attempt']"
      ],
      "metadata": {
        "id": "NArv6IBULSYn"
      },
      "execution_count": 29,
      "outputs": []
    },
    {
      "cell_type": "code",
      "source": [
        "# PLot confusion matrix as a heatmap\n",
        "\n",
        "plt.figure(figsize = (10,5))\n",
        "sns.heatmap(cm, annot = True, fmt = 'g')\n",
        "plt.xlabel('Predicted Casetype')\n",
        "plt.ylabel('Actual Casetype')\n",
        "plt.title('Confusion Matrix')\n",
        "\n",
        "x = [0,1,2,3,4,5,6]\n",
        "\n",
        "plt.xticks(x, labels, rotation = 45)\n",
        "plt.yticks(x, labels, rotation = 'horizontal')"
      ],
      "metadata": {
        "colab": {
          "base_uri": "https://localhost:8080/",
          "height": 710
        },
        "id": "k_LJ9N3yHhW_",
        "outputId": "4844226b-91d1-48f3-e55c-e7ed170aeff4"
      },
      "execution_count": 37,
      "outputs": [
        {
          "output_type": "execute_result",
          "data": {
            "text/plain": [
              "([<matplotlib.axis.YTick at 0x7fab63adb6d0>,\n",
              "  <matplotlib.axis.YTick at 0x7fab63adbd90>,\n",
              "  <matplotlib.axis.YTick at 0x7fab63b81ca0>,\n",
              "  <matplotlib.axis.YTick at 0x7fab64eb14c0>,\n",
              "  <matplotlib.axis.YTick at 0x7fab64eb1850>,\n",
              "  <matplotlib.axis.YTick at 0x7fab63b85730>,\n",
              "  <matplotlib.axis.YTick at 0x7fab63b85370>],\n",
              " [Text(0, 0.5, 'Accidental Ingestion'),\n",
              "  Text(0, 1.5, 'Adverse Reaction'),\n",
              "  Text(0, 2.5, 'Alcohol consumed below 21 years'),\n",
              "  Text(0, 3.5, 'Malicious Poisoning'),\n",
              "  Text(0, 4.5, 'Overmedication'),\n",
              "  Text(0, 5.5, 'Seeking Detox'),\n",
              "  Text(0, 6.5, 'Suicide Attempt')])"
            ]
          },
          "metadata": {},
          "execution_count": 37
        },
        {
          "output_type": "display_data",
          "data": {
            "text/plain": [
              "<Figure size 720x360 with 2 Axes>"
            ],
            "image/png": "[encoded data removed]"
          },
          "metadata": {
            "needs_background": "light"
          }
        }
      ]
    },
    {
      "cell_type": "markdown",
      "source": [
        "Overall, the random forest classifier is able to distinguish between the casetypes quite well. However, it seems to misclassify 'Adverse Reaction' as 'Suicide Attempt' in a large number of cases. "
      ],
      "metadata": {
        "id": "WaPvkILeRFkg"
      }
    },
    {
      "cell_type": "code",
      "source": [],
      "metadata": {
        "id": "n6YfNRESLUfW"
      },
      "execution_count": null,
      "outputs": []
    }
  ]
}