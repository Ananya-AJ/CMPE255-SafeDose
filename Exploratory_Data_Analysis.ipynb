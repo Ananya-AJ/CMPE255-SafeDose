{
  "nbformat": 4,
  "nbformat_minor": 0,
  "metadata": {
    "colab": {
      "provenance": [],
      "include_colab_link": true
    },
    "kernelspec": {
      "name": "python3",
      "display_name": "Python 3"
    },
    "language_info": {
      "name": "python"
    }
  },
  "cells": [
    {
      "cell_type": "markdown",
      "metadata": {
        "id": "view-in-github",
        "colab_type": "text"
      },
      "source": [
        "<a href=\"https://colab.research.google.com/github/Ananya-AJ/CMPE255-SafeDose/blob/main/Exploratory_Data_Analysis.ipynb\" target=\"_parent\"><img src=\"https://colab.research.google.com/assets/colab-badge.svg\" alt=\"Open In Colab\"/></a>"
      ]
    },
    {
      "cell_type": "code",
      "execution_count": null,
      "metadata": {
        "id": "TqP5lYJAP9Hb"
      },
      "outputs": [],
      "source": [
        "# Imports\n",
        "\n",
        "import numpy as np\n",
        "import pandas as pd\n",
        "import matplotlib.pyplot as plt\n",
        "import seaborn as sns\n",
        "\n",
        "from google.colab import drive"
      ]
    },
    {
      "cell_type": "code",
      "source": [
        "drive.mount('/content/drive')"
      ],
      "metadata": {
        "colab": {
          "base_uri": "https://localhost:8080/"
        },
        "id": "Zvd5gcRIQSEu",
        "outputId": "5a32d8bf-d6c9-4c12-9148-07a9522a9aac"
      },
      "execution_count": null,
      "outputs": [
        {
          "output_type": "stream",
          "name": "stdout",
          "text": [
            "Mounted at /content/drive\n"
          ]
        }
      ]
    },
    {
      "cell_type": "code",
      "source": [
        "# Read tsv\n",
        "\n",
        "drug = pd.read_csv('/content/drive/MyDrive/Colab Notebooks/DAWN-2011-DS0001-data-excel.tsv', sep = '\\t', header = 0)"
      ],
      "metadata": {
        "id": "wSiTtYg1QdWK"
      },
      "execution_count": null,
      "outputs": []
    },
    {
      "cell_type": "code",
      "source": [
        "drug.head()"
      ],
      "metadata": {
        "colab": {
          "base_uri": "https://localhost:8080/",
          "height": 236
        },
        "id": "OB0aZfgGYu_A",
        "outputId": "0549e904-6a9e-4c0f-ae13-2db5a6367ca1"
      },
      "execution_count": null,
      "outputs": [
        {
          "output_type": "execute_result",
          "data": {
            "text/plain": [
              "   CASEID  METRO  STRATA  PSU  REPLICATE   CASEWGT  PSUFRAME  AGECAT  SEX  \\\n",
              "0       1      2      25  108          2  0.942635         3       4    1   \n",
              "1       2      2      29  129          2  5.992011         9      11    1   \n",
              "2       3      7       7   25          1  4.723172         6      11    2   \n",
              "3       4     10       8   29          2  4.080147         6       2    1   \n",
              "4       5      1      22   94          2  5.177709        10       6    1   \n",
              "\n",
              "   RACE  ...  sdled_4_22  sdled_5_22  sdled_6_22  CASETYPE  DISPOSITION  \\\n",
              "0     2  ...        -7.0        -7.0          -7         8            6   \n",
              "1     3  ...        -7.0        -7.0          -7         4            7   \n",
              "2     2  ...        -7.0        -7.0          -7         4            1   \n",
              "3     3  ...        -7.0        -7.0          -7         4            7   \n",
              "4     3  ...        -7.0        -7.0          -7         8            8   \n",
              "\n",
              "   ALCOHOL  NONALCILL  PHARMA  NONMEDPHARMA  ALLABUSE  \n",
              "0        1          1       0             0         1  \n",
              "1        0          0       1             0         0  \n",
              "2        0          0       1             0         0  \n",
              "3        0          0       1             0         0  \n",
              "4        1          1       0             0         1  \n",
              "\n",
              "[5 rows x 285 columns]"
            ],
            "text/html": [
              "\n",
              "  <div id=\"df-108ef62c-3bbe-475f-aedb-2cbf609e196a\">\n",
              "    <div class=\"colab-df-container\">\n",
              "      <div>\n",
              "<style scoped>\n",
              "    .dataframe tbody tr th:only-of-type {\n",
              "        vertical-align: middle;\n",
              "    }\n",
              "\n",
              "    .dataframe tbody tr th {\n",
              "        vertical-align: top;\n",
              "    }\n",
              "\n",
              "    .dataframe thead th {\n",
              "        text-align: right;\n",
              "    }\n",
              "</style>\n",
              "<table border=\"1\" class=\"dataframe\">\n",
              "  <thead>\n",
              "    <tr style=\"text-align: right;\">\n",
              "      <th></th>\n",
              "      <th>CASEID</th>\n",
              "      <th>METRO</th>\n",
              "      <th>STRATA</th>\n",
              "      <th>PSU</th>\n",
              "      <th>REPLICATE</th>\n",
              "      <th>CASEWGT</th>\n",
              "      <th>PSUFRAME</th>\n",
              "      <th>AGECAT</th>\n",
              "      <th>SEX</th>\n",
              "      <th>RACE</th>\n",
              "      <th>...</th>\n",
              "      <th>sdled_4_22</th>\n",
              "      <th>sdled_5_22</th>\n",
              "      <th>sdled_6_22</th>\n",
              "      <th>CASETYPE</th>\n",
              "      <th>DISPOSITION</th>\n",
              "      <th>ALCOHOL</th>\n",
              "      <th>NONALCILL</th>\n",
              "      <th>PHARMA</th>\n",
              "      <th>NONMEDPHARMA</th>\n",
              "      <th>ALLABUSE</th>\n",
              "    </tr>\n",
              "  </thead>\n",
              "  <tbody>\n",
              "    <tr>\n",
              "      <th>0</th>\n",
              "      <td>1</td>\n",
              "      <td>2</td>\n",
              "      <td>25</td>\n",
              "      <td>108</td>\n",
              "      <td>2</td>\n",
              "      <td>0.942635</td>\n",
              "      <td>3</td>\n",
              "      <td>4</td>\n",
              "      <td>1</td>\n",
              "      <td>2</td>\n",
              "      <td>...</td>\n",
              "      <td>-7.0</td>\n",
              "      <td>-7.0</td>\n",
              "      <td>-7</td>\n",
              "      <td>8</td>\n",
              "      <td>6</td>\n",
              "      <td>1</td>\n",
              "      <td>1</td>\n",
              "      <td>0</td>\n",
              "      <td>0</td>\n",
              "      <td>1</td>\n",
              "    </tr>\n",
              "    <tr>\n",
              "      <th>1</th>\n",
              "      <td>2</td>\n",
              "      <td>2</td>\n",
              "      <td>29</td>\n",
              "      <td>129</td>\n",
              "      <td>2</td>\n",
              "      <td>5.992011</td>\n",
              "      <td>9</td>\n",
              "      <td>11</td>\n",
              "      <td>1</td>\n",
              "      <td>3</td>\n",
              "      <td>...</td>\n",
              "      <td>-7.0</td>\n",
              "      <td>-7.0</td>\n",
              "      <td>-7</td>\n",
              "      <td>4</td>\n",
              "      <td>7</td>\n",
              "      <td>0</td>\n",
              "      <td>0</td>\n",
              "      <td>1</td>\n",
              "      <td>0</td>\n",
              "      <td>0</td>\n",
              "    </tr>\n",
              "    <tr>\n",
              "      <th>2</th>\n",
              "      <td>3</td>\n",
              "      <td>7</td>\n",
              "      <td>7</td>\n",
              "      <td>25</td>\n",
              "      <td>1</td>\n",
              "      <td>4.723172</td>\n",
              "      <td>6</td>\n",
              "      <td>11</td>\n",
              "      <td>2</td>\n",
              "      <td>2</td>\n",
              "      <td>...</td>\n",
              "      <td>-7.0</td>\n",
              "      <td>-7.0</td>\n",
              "      <td>-7</td>\n",
              "      <td>4</td>\n",
              "      <td>1</td>\n",
              "      <td>0</td>\n",
              "      <td>0</td>\n",
              "      <td>1</td>\n",
              "      <td>0</td>\n",
              "      <td>0</td>\n",
              "    </tr>\n",
              "    <tr>\n",
              "      <th>3</th>\n",
              "      <td>4</td>\n",
              "      <td>10</td>\n",
              "      <td>8</td>\n",
              "      <td>29</td>\n",
              "      <td>2</td>\n",
              "      <td>4.080147</td>\n",
              "      <td>6</td>\n",
              "      <td>2</td>\n",
              "      <td>1</td>\n",
              "      <td>3</td>\n",
              "      <td>...</td>\n",
              "      <td>-7.0</td>\n",
              "      <td>-7.0</td>\n",
              "      <td>-7</td>\n",
              "      <td>4</td>\n",
              "      <td>7</td>\n",
              "      <td>0</td>\n",
              "      <td>0</td>\n",
              "      <td>1</td>\n",
              "      <td>0</td>\n",
              "      <td>0</td>\n",
              "    </tr>\n",
              "    <tr>\n",
              "      <th>4</th>\n",
              "      <td>5</td>\n",
              "      <td>1</td>\n",
              "      <td>22</td>\n",
              "      <td>94</td>\n",
              "      <td>2</td>\n",
              "      <td>5.177709</td>\n",
              "      <td>10</td>\n",
              "      <td>6</td>\n",
              "      <td>1</td>\n",
              "      <td>3</td>\n",
              "      <td>...</td>\n",
              "      <td>-7.0</td>\n",
              "      <td>-7.0</td>\n",
              "      <td>-7</td>\n",
              "      <td>8</td>\n",
              "      <td>8</td>\n",
              "      <td>1</td>\n",
              "      <td>1</td>\n",
              "      <td>0</td>\n",
              "      <td>0</td>\n",
              "      <td>1</td>\n",
              "    </tr>\n",
              "  </tbody>\n",
              "</table>\n",
              "<p>5 rows × 285 columns</p>\n",
              "</div>\n",
              "      <button class=\"colab-df-convert\" onclick=\"convertToInteractive('df-108ef62c-3bbe-475f-aedb-2cbf609e196a')\"\n",
              "              title=\"Convert this dataframe to an interactive table.\"\n",
              "              style=\"display:none;\">\n",
              "        \n",
              "  <svg xmlns=\"http://www.w3.org/2000/svg\" height=\"24px\"viewBox=\"0 0 24 24\"\n",
              "       width=\"24px\">\n",
              "    <path d=\"M0 0h24v24H0V0z\" fill=\"none\"/>\n",
              "    <path d=\"M18.56 5.44l.94 2.06.94-2.06 2.06-.94-2.06-.94-.94-2.06-.94 2.06-2.06.94zm-11 1L8.5 8.5l.94-2.06 2.06-.94-2.06-.94L8.5 2.5l-.94 2.06-2.06.94zm10 10l.94 2.06.94-2.06 2.06-.94-2.06-.94-.94-2.06-.94 2.06-2.06.94z\"/><path d=\"M17.41 7.96l-1.37-1.37c-.4-.4-.92-.59-1.43-.59-.52 0-1.04.2-1.43.59L10.3 9.45l-7.72 7.72c-.78.78-.78 2.05 0 2.83L4 21.41c.39.39.9.59 1.41.59.51 0 1.02-.2 1.41-.59l7.78-7.78 2.81-2.81c.8-.78.8-2.07 0-2.86zM5.41 20L4 18.59l7.72-7.72 1.47 1.35L5.41 20z\"/>\n",
              "  </svg>\n",
              "      </button>\n",
              "      \n",
              "  <style>\n",
              "    .colab-df-container {\n",
              "      display:flex;\n",
              "      flex-wrap:wrap;\n",
              "      gap: 12px;\n",
              "    }\n",
              "\n",
              "    .colab-df-convert {\n",
              "      background-color: #E8F0FE;\n",
              "      border: none;\n",
              "      border-radius: 50%;\n",
              "      cursor: pointer;\n",
              "      display: none;\n",
              "      fill: #1967D2;\n",
              "      height: 32px;\n",
              "      padding: 0 0 0 0;\n",
              "      width: 32px;\n",
              "    }\n",
              "\n",
              "    .colab-df-convert:hover {\n",
              "      background-color: #E2EBFA;\n",
              "      box-shadow: 0px 1px 2px rgba(60, 64, 67, 0.3), 0px 1px 3px 1px rgba(60, 64, 67, 0.15);\n",
              "      fill: #174EA6;\n",
              "    }\n",
              "\n",
              "    [theme=dark] .colab-df-convert {\n",
              "      background-color: #3B4455;\n",
              "      fill: #D2E3FC;\n",
              "    }\n",
              "\n",
              "    [theme=dark] .colab-df-convert:hover {\n",
              "      background-color: #434B5C;\n",
              "      box-shadow: 0px 1px 3px 1px rgba(0, 0, 0, 0.15);\n",
              "      filter: drop-shadow(0px 1px 2px rgba(0, 0, 0, 0.3));\n",
              "      fill: #FFFFFF;\n",
              "    }\n",
              "  </style>\n",
              "\n",
              "      <script>\n",
              "        const buttonEl =\n",
              "          document.querySelector('#df-108ef62c-3bbe-475f-aedb-2cbf609e196a button.colab-df-convert');\n",
              "        buttonEl.style.display =\n",
              "          google.colab.kernel.accessAllowed ? 'block' : 'none';\n",
              "\n",
              "        async function convertToInteractive(key) {\n",
              "          const element = document.querySelector('#df-108ef62c-3bbe-475f-aedb-2cbf609e196a');\n",
              "          const dataTable =\n",
              "            await google.colab.kernel.invokeFunction('convertToInteractive',\n",
              "                                                     [key], {});\n",
              "          if (!dataTable) return;\n",
              "\n",
              "          const docLinkHtml = 'Like what you see? Visit the ' +\n",
              "            '<a target=\"_blank\" href=https://colab.research.google.com/notebooks/data_table.ipynb>data table notebook</a>'\n",
              "            + ' to learn more about interactive tables.';\n",
              "          element.innerHTML = '';\n",
              "          dataTable['output_type'] = 'display_data';\n",
              "          await google.colab.output.renderOutput(dataTable, element);\n",
              "          const docLink = document.createElement('div');\n",
              "          docLink.innerHTML = docLinkHtml;\n",
              "          element.appendChild(docLink);\n",
              "        }\n",
              "      </script>\n",
              "    </div>\n",
              "  </div>\n",
              "  "
            ]
          },
          "metadata": {},
          "execution_count": 9
        }
      ]
    },
    {
      "cell_type": "code",
      "source": [
        "drug.isna().sum()"
      ],
      "metadata": {
        "id": "k_UqWX_3YxLL"
      },
      "execution_count": null,
      "outputs": []
    },
    {
      "cell_type": "markdown",
      "source": [
        "##Visualize the genders that are most impacted/ abused"
      ],
      "metadata": {
        "id": "Rq8BjZA2ZIiJ"
      }
    },
    {
      "cell_type": "code",
      "source": [
        "gender_abuse = drug[['SEX','ALLABUSE']]\n",
        "gender_abuse = gender_abuse.loc[(gender_abuse['SEX']!=-8) & (gender_abuse['ALLABUSE'] == 1)]\n",
        "\n",
        "gender_abuse.groupby('SEX').count().plot.bar()\n",
        "plt.xlabel('SEX')\n",
        "plt.ylabel('ALLABUSE')\n",
        "plt.show()"
      ],
      "metadata": {
        "colab": {
          "base_uri": "https://localhost:8080/",
          "height": 276
        },
        "id": "5-6ZYdSgQxiH",
        "outputId": "b92f88b2-aef8-466b-c4c2-1ba9add67000"
      },
      "execution_count": null,
      "outputs": [
        {
          "output_type": "display_data",
          "data": {
            "text/plain": [
              "<Figure size 432x288 with 1 Axes>"
            ],
            "image/png": "[encoded data removed]"
          },
          "metadata": {
            "needs_background": "light"
          }
        }
      ]
    },
    {
      "cell_type": "markdown",
      "source": [
        "##Age categories where the abuse is higher"
      ],
      "metadata": {
        "id": "l8gzurvVb_pW"
      }
    },
    {
      "cell_type": "code",
      "source": [
        "agewise_abuse = drug[['AGECAT','ALLABUSE']]\n",
        "agewise_abuse = agewise_abuse.loc[(agewise_abuse['AGECAT']!=-8) & (agewise_abuse['ALLABUSE'] == 1)]\n",
        "agewise_abuse.groupby('AGECAT').count()\n",
        "\n",
        "agewise_abuse.groupby('AGECAT').count().plot.bar()\n",
        "plt.xlabel('AGECAT')\n",
        "plt.ylabel('ALLABUSE')\n",
        "plt.show()"
      ],
      "metadata": {
        "colab": {
          "base_uri": "https://localhost:8080/",
          "height": 282
        },
        "id": "6j5GQWTrR-vw",
        "outputId": "b944b347-c131-43dd-83c2-7a1e8aa7be58"
      },
      "execution_count": null,
      "outputs": [
        {
          "output_type": "display_data",
          "data": {
            "text/plain": [
              "<Figure size 432x288 with 1 Axes>"
            ],
            "image/png": "[encoded data removed]"
          },
          "metadata": {
            "needs_background": "light"
          }
        }
      ]
    },
    {
      "cell_type": "markdown",
      "source": [
        "##Visualize if abuses relate to the races"
      ],
      "metadata": {
        "id": "5_5rB3KfcFqH"
      }
    },
    {
      "cell_type": "code",
      "source": [
        "racewise_abuse = drug[['RACE','ALLABUSE']]\n",
        "racewise_abuse = racewise_abuse.loc[(racewise_abuse['RACE']!=-8) & (racewise_abuse['ALLABUSE'] == 1)]\n",
        "\n",
        "racewise_abuse.groupby('RACE').count().plot.bar()\n",
        "plt.xlabel('RACE')\n",
        "plt.ylabel('ALLABUSE')\n",
        "plt.show()"
      ],
      "metadata": {
        "colab": {
          "base_uri": "https://localhost:8080/",
          "height": 276
        },
        "id": "H1yhBSlfSWfJ",
        "outputId": "af266b8c-fe13-4745-c3fd-e4f606b166b1"
      },
      "execution_count": null,
      "outputs": [
        {
          "output_type": "display_data",
          "data": {
            "text/plain": [
              "<Figure size 432x288 with 1 Axes>"
            ],
            "image/png": "[encoded data removed]"
          },
          "metadata": {
            "needs_background": "light"
          }
        }
      ]
    },
    {
      "cell_type": "markdown",
      "source": [
        "## Total cases in each metro and individual case type count in that metro"
      ],
      "metadata": {
        "id": "zUtEjoJFLCOW"
      }
    },
    {
      "cell_type": "code",
      "source": [
        "df_grouped = drug.groupby(['METRO', 'CASETYPE']).agg(\n",
        "    count_col=pd.NamedAgg(column='CASETYPE', aggfunc=\"count\")\n",
        ")\n",
        "df_grouped[\"USA_2011\"] = \"USA_2011\"\n",
        "df_grouped = df_grouped.reset_index()\n",
        "\n",
        "fig = px.sunburst(df_grouped,\n",
        "                  path=[\"USA_2011\", \"METRO\", \"CASETYPE\"],\n",
        "                  values='count_col',\n",
        "                  title=\"CASETYPE distribution(counts of cases with this casetype) in each metro\",\n",
        "                  width=750, height=750)\n",
        "fig.show()"
      ],
      "metadata": {
        "id": "R3FdUBdTSitg"
      },
      "execution_count": null,
      "outputs": []
    },
    {
      "cell_type": "markdown",
      "source": [
        "##drug/drugs are predominant in each type of case (suicide, overmedication, etc)"
      ],
      "metadata": {
        "id": "5svTGaNadZ0o"
      }
    },
    {
      "cell_type": "code",
      "source": [
        "casetype_drug_df = drug[['CASETYPE','DRUGID_1','DRUGID_2','DRUGID_3']]\n",
        "casetype_drug_df.sort_index(axis=1,inplace=True)\n",
        "casetype_drug_df.head()"
      ],
      "metadata": {
        "id": "wcDr1_Trdotf"
      },
      "execution_count": null,
      "outputs": []
    },
    {
      "cell_type": "markdown",
      "source": [
        "##For each casetype, drugid's most occuring drugs for that case with counts"
      ],
      "metadata": {
        "id": "v1NruWIYdzKj"
      }
    },
    {
      "cell_type": "code",
      "source": [
        "group_casetypes_df = drug.groupby('CASETYPE').aggregate(\n",
        "            ({'DRUGID_1':['max','count'],'DRUGID_2':['max','count'],'DRUGID_3':['max','count']})\n",
        ")\n",
        "\n",
        "group_casetypes_df"
      ],
      "metadata": {
        "id": "efb6jb8Hd1jm"
      },
      "execution_count": null,
      "outputs": []
    },
    {
      "cell_type": "markdown",
      "source": [
        "##casetypes majority for each gender"
      ],
      "metadata": {
        "id": "fD-AuvbRd6vJ"
      }
    },
    {
      "cell_type": "code",
      "source": [
        "df_grouped_gender = drug.groupby(['SEX', 'CASETYPE']).agg(\n",
        "    count_col=pd.NamedAgg(column='CASETYPE', aggfunc=\"count\")\n",
        ")\n",
        "df_grouped_gender= df_grouped_gender.reset_index()\n",
        "fig = px.sunburst(df_grouped_gender,\n",
        "                  path=[\"SEX\", \"CASETYPE\"],\n",
        "                  values='count_col',\n",
        "                  title=\"CASETYPE distribution(counts of cases with this casetype) in each gender\",\n",
        "                  width=750, height=750)\n",
        "fig.show()"
      ],
      "metadata": {
        "id": "n4Xmajr-eCer"
      },
      "execution_count": null,
      "outputs": []
    },
    {
      "cell_type": "markdown",
      "source": [
        "##Race - casetypes (to see if there is any pattern between the casetypes and race)"
      ],
      "metadata": {
        "id": "wOl-OV7KeIFB"
      }
    },
    {
      "cell_type": "code",
      "source": [
        "\n",
        "df_grouped_race = drug.groupby(['RACE', 'CASETYPE']).agg(\n",
        "    count_col=pd.NamedAgg(column='CASETYPE', aggfunc=\"count\")\n",
        ")\n",
        "df_grouped_race= df_grouped_race.reset_index()\n",
        "\n",
        "fig = px.sunburst(df_grouped_race,\n",
        "                  path=[\"RACE\", \"CASETYPE\"],\n",
        "                  values='count_col',\n",
        "                  title=\"CASETYPE distribution(counts of cases with this casetype) in each race\",\n",
        "                  width=750, height=750)\n",
        "fig.show()"
      ],
      "metadata": {
        "id": "VGb83zNaeK79"
      },
      "execution_count": null,
      "outputs": []
    }
  ]
}