{
  "nbformat": 4,
  "nbformat_minor": 0,
  "metadata": {
    "colab": {
      "provenance": [],
      "mount_file_id": "1Xift34L_UW-ZMKKQHByOnkoBU8YwlmJ2",
      "authorship_tag": "ABX9TyNq/4nYdVmAKhcnrxBTARMp",
      "include_colab_link": true
    },
    "kernelspec": {
      "name": "python3",
      "display_name": "Python 3"
    },
    "language_info": {
      "name": "python"
    },
    "accelerator": "GPU",
    "gpuClass": "standard"
  },
  "cells": [
    {
      "cell_type": "markdown",
      "metadata": {
        "id": "view-in-github",
        "colab_type": "text"
      },
      "source": [
        "<a href=\"https://colab.research.google.com/github/Ananya-AJ/CMPE255-SafeDose/blob/main/Models/casetype_prediction/Casetype_RandomClassifier.ipynb\" target=\"_parent\"><img src=\"https://colab.research.google.com/assets/colab-badge.svg\" alt=\"Open In Colab\"/></a>"
      ]
    },
    {
      "cell_type": "code",
      "execution_count": null,
      "metadata": {
        "id": "djf7D8xZX_Sr"
      },
      "outputs": [],
      "source": [
        "import pandas as pd\n",
        "import numpy as np\n",
        "from sklearn.model_selection import train_test_split\n"
      ]
    },
    {
      "cell_type": "code",
      "source": [
        "from google.colab import drive\n",
        "drive.mount('/content/drive/')"
      ],
      "metadata": {
        "colab": {
          "base_uri": "https://localhost:8080/"
        },
        "id": "FeAUad_lrhSP",
        "outputId": "7efc1eec-6372-450a-961c-59147ede4ec6"
      },
      "execution_count": null,
      "outputs": [
        {
          "output_type": "stream",
          "name": "stdout",
          "text": [
            "Mounted at /content/drive/\n"
          ]
        }
      ]
    },
    {
      "cell_type": "code",
      "source": [],
      "metadata": {
        "id": "Zd-SoTw5r0Ng"
      },
      "execution_count": null,
      "outputs": []
    },
    {
      "cell_type": "code",
      "source": [
        "casetype_train = pd.read_csv('/content/drive/Shareddrives/CMPE255/PCA/encoded_pca_target_casetype_train.csv')\n",
        "casetype_test = pd.read_csv('/content/drive/Shareddrives/CMPE255/PCA/encoded_pca_target_casetype_test.csv')"
      ],
      "metadata": {
        "id": "SGKf65ItYtRn"
      },
      "execution_count": null,
      "outputs": []
    },
    {
      "cell_type": "code",
      "source": [
        "casetype_test.isna().sum()"
      ],
      "metadata": {
        "id": "3SYcrcX4gB0k"
      },
      "execution_count": null,
      "outputs": []
    },
    {
      "cell_type": "code",
      "source": [
        "casetype_xtrain = casetype_train.iloc[:,1:]"
      ],
      "metadata": {
        "id": "SIJe6Tl-rUyJ"
      },
      "execution_count": null,
      "outputs": []
    },
    {
      "cell_type": "code",
      "source": [
        "casetype_xtrain.isna().sum()"
      ],
      "metadata": {
        "id": "x_VtX1O0Z1N3"
      },
      "execution_count": null,
      "outputs": []
    },
    {
      "cell_type": "code",
      "source": [
        "casetype_ytrain = casetype_test.iloc[:,1:]"
      ],
      "metadata": {
        "id": "MHqAHdqar7cU"
      },
      "execution_count": null,
      "outputs": []
    },
    {
      "cell_type": "code",
      "source": [
        "casetype_xtrain_ = casetype_xtrain.drop(['CASETYPE_1','CASETYPE_2',\t'CASETYPE_3',\t'CASETYPE_4',\t'CASETYPE_5',\t'CASETYPE_6',\t'CASETYPE_7',\t'CASETYPE_8'],axis=1)\n",
        "casetype_ytrain_ = casetype_xtrain[['CASETYPE_1','CASETYPE_2',\t'CASETYPE_3',\t'CASETYPE_4',\t'CASETYPE_5',\t'CASETYPE_6',\t'CASETYPE_7',\t'CASETYPE_8']]"
      ],
      "metadata": {
        "id": "h6d9TsNrZmiT"
      },
      "execution_count": null,
      "outputs": []
    },
    {
      "cell_type": "code",
      "source": [
        "casetype_ytrain_['target'] = pd.get_dummies(casetype_ytrain_[['CASETYPE_1','CASETYPE_2',\t'CASETYPE_3',\t'CASETYPE_4',\t'CASETYPE_5',\t'CASETYPE_6',\t'CASETYPE_7',\t'CASETYPE_8']]).idxmax(1)"
      ],
      "metadata": {
        "colab": {
          "base_uri": "https://localhost:8080/"
        },
        "id": "Ngx3SRjdaPXN",
        "outputId": "80892f33-3536-4904-f68c-3dc2c587bd4a"
      },
      "execution_count": null,
      "outputs": [
        {
          "output_type": "stream",
          "name": "stderr",
          "text": [
            "/usr/local/lib/python3.7/dist-packages/ipykernel_launcher.py:1: SettingWithCopyWarning: \n",
            "A value is trying to be set on a copy of a slice from a DataFrame.\n",
            "Try using .loc[row_indexer,col_indexer] = value instead\n",
            "\n",
            "See the caveats in the documentation: https://pandas.pydata.org/pandas-docs/stable/user_guide/indexing.html#returning-a-view-versus-a-copy\n",
            "  \"\"\"Entry point for launching an IPython kernel.\n"
          ]
        }
      ]
    },
    {
      "cell_type": "code",
      "source": [
        "casetype_ytrain_['target'] =casetype_ytrain_['target'].map({'CASETYPE_1':1,'CASETYPE_2':2,'CASETYPE_3':3,'CASETYPE_4':4,'CASETYPE_5':5,'CASETYPE_6':6,'CASETYPE_7':7,'CASETYPE_8':8})"
      ],
      "metadata": {
        "colab": {
          "base_uri": "https://localhost:8080/"
        },
        "id": "ecFTj7apa4Ch",
        "outputId": "c653d7dc-aacb-44d7-c91c-ec272f7b6438"
      },
      "execution_count": null,
      "outputs": [
        {
          "output_type": "stream",
          "name": "stderr",
          "text": [
            "/usr/local/lib/python3.7/dist-packages/ipykernel_launcher.py:1: SettingWithCopyWarning: \n",
            "A value is trying to be set on a copy of a slice from a DataFrame.\n",
            "Try using .loc[row_indexer,col_indexer] = value instead\n",
            "\n",
            "See the caveats in the documentation: https://pandas.pydata.org/pandas-docs/stable/user_guide/indexing.html#returning-a-view-versus-a-copy\n",
            "  \"\"\"Entry point for launching an IPython kernel.\n"
          ]
        }
      ]
    },
    {
      "cell_type": "code",
      "source": [
        "casetype_ytrain_ = casetype_ytrain_.drop(['CASETYPE_1','CASETYPE_2',\t'CASETYPE_3',\t'CASETYPE_4',\t'CASETYPE_5',\t'CASETYPE_6',\t'CASETYPE_7',\t'CASETYPE_8'],axis=1)\n",
        "casetype_ytrain_.head()"
      ],
      "metadata": {
        "colab": {
          "base_uri": "https://localhost:8080/",
          "height": 206
        },
        "id": "QamJpXsUbdIO",
        "outputId": "3afbe839-8787-474c-d1bc-ea638c1f8283"
      },
      "execution_count": null,
      "outputs": [
        {
          "output_type": "execute_result",
          "data": {
            "text/plain": [
              "   target\n",
              "0       8\n",
              "1       8\n",
              "2       8\n",
              "3       4\n",
              "4       5"
            ],
            "text/html": [
              "\n",
              "  <div id=\"df-ecebb969-6d65-4621-a77e-75ffbd7b7c65\">\n",
              "    <div class=\"colab-df-container\">\n",
              "      <div>\n",
              "<style scoped>\n",
              "    .dataframe tbody tr th:only-of-type {\n",
              "        vertical-align: middle;\n",
              "    }\n",
              "\n",
              "    .dataframe tbody tr th {\n",
              "        vertical-align: top;\n",
              "    }\n",
              "\n",
              "    .dataframe thead th {\n",
              "        text-align: right;\n",
              "    }\n",
              "</style>\n",
              "<table border=\"1\" class=\"dataframe\">\n",
              "  <thead>\n",
              "    <tr style=\"text-align: right;\">\n",
              "      <th></th>\n",
              "      <th>target</th>\n",
              "    </tr>\n",
              "  </thead>\n",
              "  <tbody>\n",
              "    <tr>\n",
              "      <th>0</th>\n",
              "      <td>8</td>\n",
              "    </tr>\n",
              "    <tr>\n",
              "      <th>1</th>\n",
              "      <td>8</td>\n",
              "    </tr>\n",
              "    <tr>\n",
              "      <th>2</th>\n",
              "      <td>8</td>\n",
              "    </tr>\n",
              "    <tr>\n",
              "      <th>3</th>\n",
              "      <td>4</td>\n",
              "    </tr>\n",
              "    <tr>\n",
              "      <th>4</th>\n",
              "      <td>5</td>\n",
              "    </tr>\n",
              "  </tbody>\n",
              "</table>\n",
              "</div>\n",
              "      <button class=\"colab-df-convert\" onclick=\"convertToInteractive('df-ecebb969-6d65-4621-a77e-75ffbd7b7c65')\"\n",
              "              title=\"Convert this dataframe to an interactive table.\"\n",
              "              style=\"display:none;\">\n",
              "        \n",
              "  <svg xmlns=\"http://www.w3.org/2000/svg\" height=\"24px\"viewBox=\"0 0 24 24\"\n",
              "       width=\"24px\">\n",
              "    <path d=\"M0 0h24v24H0V0z\" fill=\"none\"/>\n",
              "    <path d=\"M18.56 5.44l.94 2.06.94-2.06 2.06-.94-2.06-.94-.94-2.06-.94 2.06-2.06.94zm-11 1L8.5 8.5l.94-2.06 2.06-.94-2.06-.94L8.5 2.5l-.94 2.06-2.06.94zm10 10l.94 2.06.94-2.06 2.06-.94-2.06-.94-.94-2.06-.94 2.06-2.06.94z\"/><path d=\"M17.41 7.96l-1.37-1.37c-.4-.4-.92-.59-1.43-.59-.52 0-1.04.2-1.43.59L10.3 9.45l-7.72 7.72c-.78.78-.78 2.05 0 2.83L4 21.41c.39.39.9.59 1.41.59.51 0 1.02-.2 1.41-.59l7.78-7.78 2.81-2.81c.8-.78.8-2.07 0-2.86zM5.41 20L4 18.59l7.72-7.72 1.47 1.35L5.41 20z\"/>\n",
              "  </svg>\n",
              "      </button>\n",
              "      \n",
              "  <style>\n",
              "    .colab-df-container {\n",
              "      display:flex;\n",
              "      flex-wrap:wrap;\n",
              "      gap: 12px;\n",
              "    }\n",
              "\n",
              "    .colab-df-convert {\n",
              "      background-color: #E8F0FE;\n",
              "      border: none;\n",
              "      border-radius: 50%;\n",
              "      cursor: pointer;\n",
              "      display: none;\n",
              "      fill: #1967D2;\n",
              "      height: 32px;\n",
              "      padding: 0 0 0 0;\n",
              "      width: 32px;\n",
              "    }\n",
              "\n",
              "    .colab-df-convert:hover {\n",
              "      background-color: #E2EBFA;\n",
              "      box-shadow: 0px 1px 2px rgba(60, 64, 67, 0.3), 0px 1px 3px 1px rgba(60, 64, 67, 0.15);\n",
              "      fill: #174EA6;\n",
              "    }\n",
              "\n",
              "    [theme=dark] .colab-df-convert {\n",
              "      background-color: #3B4455;\n",
              "      fill: #D2E3FC;\n",
              "    }\n",
              "\n",
              "    [theme=dark] .colab-df-convert:hover {\n",
              "      background-color: #434B5C;\n",
              "      box-shadow: 0px 1px 3px 1px rgba(0, 0, 0, 0.15);\n",
              "      filter: drop-shadow(0px 1px 2px rgba(0, 0, 0, 0.3));\n",
              "      fill: #FFFFFF;\n",
              "    }\n",
              "  </style>\n",
              "\n",
              "      <script>\n",
              "        const buttonEl =\n",
              "          document.querySelector('#df-ecebb969-6d65-4621-a77e-75ffbd7b7c65 button.colab-df-convert');\n",
              "        buttonEl.style.display =\n",
              "          google.colab.kernel.accessAllowed ? 'block' : 'none';\n",
              "\n",
              "        async function convertToInteractive(key) {\n",
              "          const element = document.querySelector('#df-ecebb969-6d65-4621-a77e-75ffbd7b7c65');\n",
              "          const dataTable =\n",
              "            await google.colab.kernel.invokeFunction('convertToInteractive',\n",
              "                                                     [key], {});\n",
              "          if (!dataTable) return;\n",
              "\n",
              "          const docLinkHtml = 'Like what you see? Visit the ' +\n",
              "            '<a target=\"_blank\" href=https://colab.research.google.com/notebooks/data_table.ipynb>data table notebook</a>'\n",
              "            + ' to learn more about interactive tables.';\n",
              "          element.innerHTML = '';\n",
              "          dataTable['output_type'] = 'display_data';\n",
              "          await google.colab.output.renderOutput(dataTable, element);\n",
              "          const docLink = document.createElement('div');\n",
              "          docLink.innerHTML = docLinkHtml;\n",
              "          element.appendChild(docLink);\n",
              "        }\n",
              "      </script>\n",
              "    </div>\n",
              "  </div>\n",
              "  "
            ]
          },
          "metadata": {},
          "execution_count": 45
        }
      ]
    },
    {
      "cell_type": "code",
      "source": [
        "casetype_xtest = casetype_test.iloc[:,1:]"
      ],
      "metadata": {
        "id": "g42uUbcBeQ-7"
      },
      "execution_count": null,
      "outputs": []
    },
    {
      "cell_type": "code",
      "source": [
        "casetype_ytest = casetype_test.iloc[:,1:]"
      ],
      "metadata": {
        "id": "KW-Sp4QPeCMN"
      },
      "execution_count": null,
      "outputs": []
    },
    {
      "cell_type": "code",
      "source": [
        "casetype_xtest_ = casetype_xtest.drop(['CASETYPE_1','CASETYPE_2',\t'CASETYPE_3',\t'CASETYPE_4',\t'CASETYPE_5',\t'CASETYPE_6',\t'CASETYPE_7',\t'CASETYPE_8'],axis=1)\n",
        "casetype_ytest_ = casetype_ytest[['CASETYPE_1','CASETYPE_2',\t'CASETYPE_3',\t'CASETYPE_4',\t'CASETYPE_5',\t'CASETYPE_6',\t'CASETYPE_7',\t'CASETYPE_8']]"
      ],
      "metadata": {
        "id": "QPdiLX-cfUay"
      },
      "execution_count": null,
      "outputs": []
    },
    {
      "cell_type": "code",
      "source": [
        "casetype_ytest_['target'] = pd.get_dummies(casetype_ytest_[['CASETYPE_1','CASETYPE_2',\t'CASETYPE_3',\t'CASETYPE_4',\t'CASETYPE_5',\t'CASETYPE_6',\t'CASETYPE_7',\t'CASETYPE_8']]).idxmax(1)"
      ],
      "metadata": {
        "colab": {
          "base_uri": "https://localhost:8080/"
        },
        "id": "YMDRx4N4fgIV",
        "outputId": "f914c570-553d-4f75-944b-5b9f2ea25a3c"
      },
      "execution_count": null,
      "outputs": [
        {
          "output_type": "stream",
          "name": "stderr",
          "text": [
            "/usr/local/lib/python3.7/dist-packages/ipykernel_launcher.py:1: SettingWithCopyWarning: \n",
            "A value is trying to be set on a copy of a slice from a DataFrame.\n",
            "Try using .loc[row_indexer,col_indexer] = value instead\n",
            "\n",
            "See the caveats in the documentation: https://pandas.pydata.org/pandas-docs/stable/user_guide/indexing.html#returning-a-view-versus-a-copy\n",
            "  \"\"\"Entry point for launching an IPython kernel.\n"
          ]
        }
      ]
    },
    {
      "cell_type": "code",
      "source": [
        "casetype_ytest_['target'] =casetype_ytest_['target'].map({'CASETYPE_1':1,'CASETYPE_2':2,'CASETYPE_3':3,'CASETYPE_4':4,'CASETYPE_5':5,'CASETYPE_6':6,'CASETYPE_7':7,'CASETYPE_8':8})"
      ],
      "metadata": {
        "colab": {
          "base_uri": "https://localhost:8080/"
        },
        "id": "7Qmwu2SJfub9",
        "outputId": "d799a6e3-2706-4f8b-e6ca-95145b3f516b"
      },
      "execution_count": null,
      "outputs": [
        {
          "output_type": "stream",
          "name": "stderr",
          "text": [
            "/usr/local/lib/python3.7/dist-packages/ipykernel_launcher.py:1: SettingWithCopyWarning: \n",
            "A value is trying to be set on a copy of a slice from a DataFrame.\n",
            "Try using .loc[row_indexer,col_indexer] = value instead\n",
            "\n",
            "See the caveats in the documentation: https://pandas.pydata.org/pandas-docs/stable/user_guide/indexing.html#returning-a-view-versus-a-copy\n",
            "  \"\"\"Entry point for launching an IPython kernel.\n"
          ]
        }
      ]
    },
    {
      "cell_type": "code",
      "source": [
        "casetype_ytest_ = casetype_ytest_.drop(['CASETYPE_1','CASETYPE_2',\t'CASETYPE_3',\t'CASETYPE_4',\t'CASETYPE_5',\t'CASETYPE_6',\t'CASETYPE_7',\t'CASETYPE_8'],axis=1)\n",
        "casetype_ytest_.head()"
      ],
      "metadata": {
        "colab": {
          "base_uri": "https://localhost:8080/",
          "height": 206
        },
        "id": "Hm8wj6o1f4N2",
        "outputId": "f06add04-3cc1-47ca-967f-df08586753ca"
      },
      "execution_count": null,
      "outputs": [
        {
          "output_type": "execute_result",
          "data": {
            "text/plain": [
              "   target\n",
              "0       8\n",
              "1       4\n",
              "2       3\n",
              "3       4\n",
              "4       4"
            ],
            "text/html": [
              "\n",
              "  <div id=\"df-11315507-72fc-4c68-8b5b-43956d385069\">\n",
              "    <div class=\"colab-df-container\">\n",
              "      <div>\n",
              "<style scoped>\n",
              "    .dataframe tbody tr th:only-of-type {\n",
              "        vertical-align: middle;\n",
              "    }\n",
              "\n",
              "    .dataframe tbody tr th {\n",
              "        vertical-align: top;\n",
              "    }\n",
              "\n",
              "    .dataframe thead th {\n",
              "        text-align: right;\n",
              "    }\n",
              "</style>\n",
              "<table border=\"1\" class=\"dataframe\">\n",
              "  <thead>\n",
              "    <tr style=\"text-align: right;\">\n",
              "      <th></th>\n",
              "      <th>target</th>\n",
              "    </tr>\n",
              "  </thead>\n",
              "  <tbody>\n",
              "    <tr>\n",
              "      <th>0</th>\n",
              "      <td>8</td>\n",
              "    </tr>\n",
              "    <tr>\n",
              "      <th>1</th>\n",
              "      <td>4</td>\n",
              "    </tr>\n",
              "    <tr>\n",
              "      <th>2</th>\n",
              "      <td>3</td>\n",
              "    </tr>\n",
              "    <tr>\n",
              "      <th>3</th>\n",
              "      <td>4</td>\n",
              "    </tr>\n",
              "    <tr>\n",
              "      <th>4</th>\n",
              "      <td>4</td>\n",
              "    </tr>\n",
              "  </tbody>\n",
              "</table>\n",
              "</div>\n",
              "      <button class=\"colab-df-convert\" onclick=\"convertToInteractive('df-11315507-72fc-4c68-8b5b-43956d385069')\"\n",
              "              title=\"Convert this dataframe to an interactive table.\"\n",
              "              style=\"display:none;\">\n",
              "        \n",
              "  <svg xmlns=\"http://www.w3.org/2000/svg\" height=\"24px\"viewBox=\"0 0 24 24\"\n",
              "       width=\"24px\">\n",
              "    <path d=\"M0 0h24v24H0V0z\" fill=\"none\"/>\n",
              "    <path d=\"M18.56 5.44l.94 2.06.94-2.06 2.06-.94-2.06-.94-.94-2.06-.94 2.06-2.06.94zm-11 1L8.5 8.5l.94-2.06 2.06-.94-2.06-.94L8.5 2.5l-.94 2.06-2.06.94zm10 10l.94 2.06.94-2.06 2.06-.94-2.06-.94-.94-2.06-.94 2.06-2.06.94z\"/><path d=\"M17.41 7.96l-1.37-1.37c-.4-.4-.92-.59-1.43-.59-.52 0-1.04.2-1.43.59L10.3 9.45l-7.72 7.72c-.78.78-.78 2.05 0 2.83L4 21.41c.39.39.9.59 1.41.59.51 0 1.02-.2 1.41-.59l7.78-7.78 2.81-2.81c.8-.78.8-2.07 0-2.86zM5.41 20L4 18.59l7.72-7.72 1.47 1.35L5.41 20z\"/>\n",
              "  </svg>\n",
              "      </button>\n",
              "      \n",
              "  <style>\n",
              "    .colab-df-container {\n",
              "      display:flex;\n",
              "      flex-wrap:wrap;\n",
              "      gap: 12px;\n",
              "    }\n",
              "\n",
              "    .colab-df-convert {\n",
              "      background-color: #E8F0FE;\n",
              "      border: none;\n",
              "      border-radius: 50%;\n",
              "      cursor: pointer;\n",
              "      display: none;\n",
              "      fill: #1967D2;\n",
              "      height: 32px;\n",
              "      padding: 0 0 0 0;\n",
              "      width: 32px;\n",
              "    }\n",
              "\n",
              "    .colab-df-convert:hover {\n",
              "      background-color: #E2EBFA;\n",
              "      box-shadow: 0px 1px 2px rgba(60, 64, 67, 0.3), 0px 1px 3px 1px rgba(60, 64, 67, 0.15);\n",
              "      fill: #174EA6;\n",
              "    }\n",
              "\n",
              "    [theme=dark] .colab-df-convert {\n",
              "      background-color: #3B4455;\n",
              "      fill: #D2E3FC;\n",
              "    }\n",
              "\n",
              "    [theme=dark] .colab-df-convert:hover {\n",
              "      background-color: #434B5C;\n",
              "      box-shadow: 0px 1px 3px 1px rgba(0, 0, 0, 0.15);\n",
              "      filter: drop-shadow(0px 1px 2px rgba(0, 0, 0, 0.3));\n",
              "      fill: #FFFFFF;\n",
              "    }\n",
              "  </style>\n",
              "\n",
              "      <script>\n",
              "        const buttonEl =\n",
              "          document.querySelector('#df-11315507-72fc-4c68-8b5b-43956d385069 button.colab-df-convert');\n",
              "        buttonEl.style.display =\n",
              "          google.colab.kernel.accessAllowed ? 'block' : 'none';\n",
              "\n",
              "        async function convertToInteractive(key) {\n",
              "          const element = document.querySelector('#df-11315507-72fc-4c68-8b5b-43956d385069');\n",
              "          const dataTable =\n",
              "            await google.colab.kernel.invokeFunction('convertToInteractive',\n",
              "                                                     [key], {});\n",
              "          if (!dataTable) return;\n",
              "\n",
              "          const docLinkHtml = 'Like what you see? Visit the ' +\n",
              "            '<a target=\"_blank\" href=https://colab.research.google.com/notebooks/data_table.ipynb>data table notebook</a>'\n",
              "            + ' to learn more about interactive tables.';\n",
              "          element.innerHTML = '';\n",
              "          dataTable['output_type'] = 'display_data';\n",
              "          await google.colab.output.renderOutput(dataTable, element);\n",
              "          const docLink = document.createElement('div');\n",
              "          docLink.innerHTML = docLinkHtml;\n",
              "          element.appendChild(docLink);\n",
              "        }\n",
              "      </script>\n",
              "    </div>\n",
              "  </div>\n",
              "  "
            ]
          },
          "metadata": {},
          "execution_count": 51
        }
      ]
    },
    {
      "cell_type": "code",
      "source": [
        "from sklearn.ensemble import RandomForestClassifier\n",
        "from sklearn.metrics import confusion_matrix, f1_score, accuracy_score"
      ],
      "metadata": {
        "id": "H4IckwHygtHR"
      },
      "execution_count": null,
      "outputs": []
    },
    {
      "cell_type": "code",
      "source": [
        "f1_score_train = []\n",
        "f1_score_test = []\n",
        "accuracy_s = []"
      ],
      "metadata": {
        "id": "1htaCmofg0bH"
      },
      "execution_count": null,
      "outputs": []
    },
    {
      "cell_type": "code",
      "source": [
        "n_estimators = [10,20,50,100]\n",
        "for i in n_estimators:\n",
        "  print(i)\n",
        "  rf = RandomForestClassifier(n_estimators = i, random_state = 42)\n",
        "  rf.fit(casetype_xtrain_, casetype_ytrain_)\n",
        "  predictions = rf.predict(casetype_xtest_)\n",
        "  #confusion_matrix(y_test, prediction)\n",
        "  print(type(predictions))\n",
        "  accuracy = accuracy_score(casetype_ytest_, np.array(predictions))\n",
        "  print(confusion_matrix(casetype_ytest_, predictions))\n",
        "  f1_score_ = f1_score(casetype_ytest_,predictions,average='macro')\n",
        "  f1_score_train.append(f1_score_)\n",
        "  accuracy_s.append(accuracy)"
      ],
      "metadata": {
        "colab": {
          "base_uri": "https://localhost:8080/"
        },
        "id": "sQyxBhG8g1ie",
        "outputId": "f91a02fe-bfd4-45dd-b620-19820f43b7a7"
      },
      "execution_count": null,
      "outputs": [
        {
          "output_type": "stream",
          "name": "stdout",
          "text": [
            "10\n"
          ]
        },
        {
          "output_type": "stream",
          "name": "stderr",
          "text": [
            "/usr/local/lib/python3.7/dist-packages/ipykernel_launcher.py:5: DataConversionWarning: A column-vector y was passed when a 1d array was expected. Please change the shape of y to (n_samples,), for example using ravel().\n",
            "  \"\"\"\n"
          ]
        },
        {
          "output_type": "stream",
          "name": "stdout",
          "text": [
            "<class 'numpy.ndarray'>\n",
            "[[  742   127    14   560     1     0     2   132]\n",
            " [  130  1364     5   179     0     0     1  1006]\n",
            " [    2     2  1446     0     0     0     0     0]\n",
            " [  286   100     0 16822     0     0    49     6]\n",
            " [    0     0     0    15  2424     4     0   940]\n",
            " [    1     1     0     0     8    45     0    78]\n",
            " [   27     7     0   491     0     0    92    15]\n",
            " [   26   448     0     5  1083    41     1 15062]]\n",
            "20\n"
          ]
        },
        {
          "output_type": "stream",
          "name": "stderr",
          "text": [
            "/usr/local/lib/python3.7/dist-packages/ipykernel_launcher.py:5: DataConversionWarning: A column-vector y was passed when a 1d array was expected. Please change the shape of y to (n_samples,), for example using ravel().\n",
            "  \"\"\"\n"
          ]
        },
        {
          "output_type": "stream",
          "name": "stdout",
          "text": [
            "<class 'numpy.ndarray'>\n",
            "[[  732   132    14   562     1     0     3   134]\n",
            " [  110  1365     5   176     0     0     1  1028]\n",
            " [    2     1  1447     0     0     0     0     0]\n",
            " [  244    84     0 16886     1     0    43     5]\n",
            " [    1     0     0     9  2425     2     0   946]\n",
            " [    1     1     0     0     9    42     0    80]\n",
            " [   22     5     0   491     0     0    98    16]\n",
            " [   18   377     0     2  1014    34     0 15221]]\n",
            "50\n"
          ]
        },
        {
          "output_type": "stream",
          "name": "stderr",
          "text": [
            "/usr/local/lib/python3.7/dist-packages/ipykernel_launcher.py:5: DataConversionWarning: A column-vector y was passed when a 1d array was expected. Please change the shape of y to (n_samples,), for example using ravel().\n",
            "  \"\"\"\n"
          ]
        },
        {
          "output_type": "stream",
          "name": "stdout",
          "text": [
            "<class 'numpy.ndarray'>\n",
            "[[  717   129    14   580     0     0     0   138]\n",
            " [   94  1364     5   188     0     0     0  1034]\n",
            " [    2     1  1447     0     0     0     0     0]\n",
            " [  198    68     0 16949     0     0    40     8]\n",
            " [    0     0     0     5  2416     4     0   958]\n",
            " [    1     0     0     0     9    41     0    82]\n",
            " [   23     3     0   487     0     0   103    16]\n",
            " [   17   348     0     1   942    30     0 15328]]\n",
            "100\n"
          ]
        },
        {
          "output_type": "stream",
          "name": "stderr",
          "text": [
            "/usr/local/lib/python3.7/dist-packages/ipykernel_launcher.py:5: DataConversionWarning: A column-vector y was passed when a 1d array was expected. Please change the shape of y to (n_samples,), for example using ravel().\n",
            "  \"\"\"\n"
          ]
        },
        {
          "output_type": "stream",
          "name": "stdout",
          "text": [
            "<class 'numpy.ndarray'>\n",
            "[[  707   136    14   583     0     0     0   138]\n",
            " [   92  1361     5   182     0     0     0  1045]\n",
            " [    2     1  1447     0     0     0     0     0]\n",
            " [  188    67     0 16963     0     0    39     6]\n",
            " [    0     0     0     5  2432     2     0   944]\n",
            " [    1     0     0     0     8    40     0    84]\n",
            " [   23     4     0   487     0     0   102    16]\n",
            " [   16   345     0     1   928    28     0 15348]]\n"
          ]
        }
      ]
    },
    {
      "cell_type": "code",
      "source": [
        "print(f1_score_train)\n",
        "print(accuracy_s)\n"
      ],
      "metadata": {
        "colab": {
          "base_uri": "https://localhost:8080/"
        },
        "id": "COfzmO7Ehtvm",
        "outputId": "73cf6e63-5273-4eab-ded0-715493004ab9"
      },
      "execution_count": null,
      "outputs": [
        {
          "output_type": "stream",
          "name": "stdout",
          "text": [
            "[0.6604522221132332, 0.6659324569122684, 0.669760221689363, 0.669699431606706]\n",
            "[0.8677095227220827, 0.872710664535282, 0.8761132678693766, 0.876912537108929]\n"
          ]
        }
      ]
    },
    {
      "cell_type": "code",
      "source": [
        "accuracy_trainpreds = []\n",
        "f1_trainpreds = []"
      ],
      "metadata": {
        "id": "-Uy3BTnBhpve"
      },
      "execution_count": null,
      "outputs": []
    },
    {
      "cell_type": "code",
      "source": [
        "n_estimators = [10,20,50]\n",
        "for i in n_estimators:\n",
        "  print(i)\n",
        "  rf = RandomForestClassifier(n_estimators = i, random_state = 42)\n",
        "  rf.fit(casetype_xtrain_, casetype_ytrain_)\n",
        "  predictions = rf.predict(casetype_xtrain_)\n",
        "  confusion_matrix(casetype_ytrain_, predictions)\n",
        "  accuracy = accuracy_score(casetype_ytrain_, np.array(predictions))\n",
        "  f1_score_ = f1_score(casetype_ytrain_,predictions,average='macro')\n",
        "  f1_trainpreds.append(f1_score_)\n",
        "  accuracy_trainpreds.append(accuracy)"
      ],
      "metadata": {
        "colab": {
          "base_uri": "https://localhost:8080/"
        },
        "id": "5XDtnnBYhYwF",
        "outputId": "0487dcb3-eec9-4376-fd05-fef047f3f2e7"
      },
      "execution_count": null,
      "outputs": [
        {
          "output_type": "stream",
          "name": "stdout",
          "text": [
            "10\n"
          ]
        },
        {
          "output_type": "stream",
          "name": "stderr",
          "text": [
            "/usr/local/lib/python3.7/dist-packages/ipykernel_launcher.py:5: DataConversionWarning: A column-vector y was passed when a 1d array was expected. Please change the shape of y to (n_samples,), for example using ravel().\n",
            "  \"\"\"\n"
          ]
        },
        {
          "output_type": "stream",
          "name": "stdout",
          "text": [
            "20\n"
          ]
        },
        {
          "output_type": "stream",
          "name": "stderr",
          "text": [
            "/usr/local/lib/python3.7/dist-packages/ipykernel_launcher.py:5: DataConversionWarning: A column-vector y was passed when a 1d array was expected. Please change the shape of y to (n_samples,), for example using ravel().\n",
            "  \"\"\"\n"
          ]
        },
        {
          "output_type": "stream",
          "name": "stdout",
          "text": [
            "50\n"
          ]
        },
        {
          "output_type": "stream",
          "name": "stderr",
          "text": [
            "/usr/local/lib/python3.7/dist-packages/ipykernel_launcher.py:5: DataConversionWarning: A column-vector y was passed when a 1d array was expected. Please change the shape of y to (n_samples,), for example using ravel().\n",
            "  \"\"\"\n"
          ]
        }
      ]
    },
    {
      "cell_type": "code",
      "source": [
        "print(f1_trainpreds)\n",
        "print(accuracy_trainpreds)"
      ],
      "metadata": {
        "colab": {
          "base_uri": "https://localhost:8080/"
        },
        "id": "ugmnt5Lbh_xn",
        "outputId": "79d7a9e3-7772-4b2d-d3cf-ea3eb803edde"
      },
      "execution_count": null,
      "outputs": [
        {
          "output_type": "stream",
          "name": "stdout",
          "text": [
            "[0.9456216082293065, 0.9568592166054335, 0.9616230139434686]\n",
            "[0.9730189540991094, 0.9769467915049098, 0.9786138387759763]\n"
          ]
        }
      ]
    }
  ]
}